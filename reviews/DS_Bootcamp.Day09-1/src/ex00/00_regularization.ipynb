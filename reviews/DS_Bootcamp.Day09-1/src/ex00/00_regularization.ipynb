{
 "cells": [
  {
   "cell_type": "markdown",
   "metadata": {},
   "source": [
    "# Day 09. Exercise 00\n",
    "# Regularization"
   ]
  },
  {
   "cell_type": "markdown",
   "metadata": {},
   "source": [
    "## 0. Imports"
   ]
  },
  {
   "cell_type": "code",
   "execution_count": 1,
   "metadata": {},
   "outputs": [],
   "source": [
    "import pandas as pd\n",
    "import numpy as np\n",
    "\n",
    "from sklearn.linear_model import LogisticRegression\n",
    "from sklearn.svm import SVC\n",
    "from sklearn.tree import DecisionTreeClassifier\n",
    "from sklearn.ensemble import RandomForestClassifier\n",
    "\n",
    "from sklearn.model_selection import StratifiedKFold, cross_val_score\n",
    "from sklearn.model_selection import train_test_split\n",
    "from sklearn.metrics import accuracy_score"
   ]
  },
  {
   "cell_type": "markdown",
   "metadata": {},
   "source": [
    "## 1. Preprocessing"
   ]
  },
  {
   "cell_type": "markdown",
   "metadata": {},
   "source": [
    "1. Read the file `dayofweek.csv` that you used in the previous day to a dataframe.\n",
    "2. Using `train_test_split` with parameters `test_size=0.2`, `random_state=21` get `X_train`, `y_train`, `X_test`, `y_test`. Use the additional parameter `stratify`."
   ]
  },
  {
   "cell_type": "code",
   "execution_count": 2,
   "metadata": {},
   "outputs": [],
   "source": [
    "df = pd.read_csv('../data/dayofweek.csv')\n",
    "\n",
    "X = df.drop('dayofweek', axis=1)\n",
    "y = df['dayofweek']\n",
    "X_train, X_test, y_train, y_test = train_test_split(X, y, test_size=0.2, random_state=21, stratify=y)"
   ]
  },
  {
   "cell_type": "markdown",
   "metadata": {},
   "source": [
    "## 2. Logreg regularization"
   ]
  },
  {
   "cell_type": "markdown",
   "metadata": {},
   "source": [
    "### a. Default regularization"
   ]
  },
  {
   "cell_type": "markdown",
   "metadata": {},
   "source": [
    "1. Train a baseline model with the only parameters `random_state=21`, `fit_intercept=False`.\n",
    "2. Use stratified K-fold cross-validation with `10` splits to evaluate the accuracy of the model\n",
    "\n",
    "\n",
    "The result of the code where you trained and evaluated the baseline model should be exactly like this (use `%%time` to get the info about how long it took to run the cell):\n",
    "\n",
    "```\n",
    "train -  0.62902   |   valid -  0.59259\n",
    "train -  0.64633   |   valid -  0.62963\n",
    "train -  0.63479   |   valid -  0.56296\n",
    "train -  0.65622   |   valid -  0.61481\n",
    "train -  0.63397   |   valid -  0.57778\n",
    "train -  0.64056   |   valid -  0.59259\n",
    "train -  0.64138   |   valid -  0.65926\n",
    "train -  0.65952   |   valid -  0.56296\n",
    "train -  0.64333   |   valid -  0.59701\n",
    "train -  0.63674   |   valid -  0.62687\n",
    "Average accuracy on crossval is 0.60165\n",
    "Std is 0.02943\n",
    "```"
   ]
  },
  {
   "cell_type": "code",
   "execution_count": 3,
   "metadata": {},
   "outputs": [],
   "source": [
    "def print_crossval_scores(model, X_train, y_train, cv=10, verbose=True):\n",
    "    skf = StratifiedKFold(n_splits=cv, random_state=21, shuffle=True)\n",
    "    train_scores = []\n",
    "    valid_scores = []\n",
    "\n",
    "    for train_index, valid_index in skf.split(X_train, y_train):\n",
    "        X_train_fold, X_valid_fold = X_train.iloc[train_index], X_train.iloc[valid_index]\n",
    "        y_train_fold, y_valid_fold = y_train.iloc[train_index], y_train.iloc[valid_index]\n",
    "\n",
    "        model.fit(X_train_fold, y_train_fold)\n",
    "\n",
    "        train_score = model.score(X_train_fold, y_train_fold)\n",
    "        valid_score = model.score(X_valid_fold, y_valid_fold)\n",
    "\n",
    "        train_scores.append(train_score)\n",
    "        valid_scores.append(valid_score)\n",
    "        if verbose:\n",
    "            print(f\"train - {train_score:.5f}   |   valid - {valid_score:.5f}\")\n",
    "\n",
    "    avg_accuracy = np.mean(valid_scores)\n",
    "    std_accuracy = np.std(valid_scores)\n",
    "    print(f\"Average accuracy on crossval is {avg_accuracy:.5f}\")\n",
    "    print(f\"Std is {std_accuracy:.5f}\")"
   ]
  },
  {
   "cell_type": "code",
   "execution_count": 4,
   "metadata": {},
   "outputs": [
    {
     "name": "stdout",
     "output_type": "stream",
     "text": [
      "train - 0.68920   |   valid - 0.66667\n",
      "train - 0.68508   |   valid - 0.62963\n",
      "train - 0.69250   |   valid - 0.63704\n",
      "train - 0.69744   |   valid - 0.67407\n",
      "train - 0.69085   |   valid - 0.68889\n",
      "train - 0.68920   |   valid - 0.65926\n",
      "train - 0.70981   |   valid - 0.62963\n",
      "train - 0.70322   |   valid - 0.59259\n",
      "train - 0.68534   |   valid - 0.71642\n",
      "train - 0.70428   |   valid - 0.61940\n",
      "Average accuracy on crossval is 0.65136\n",
      "Std is 0.03475\n",
      "CPU times: user 3.67 s, sys: 3.46 s, total: 7.12 s\n",
      "Wall time: 1.1 s\n"
     ]
    }
   ],
   "source": [
    "%%time\n",
    "\n",
    "model = LogisticRegression(random_state=21, fit_intercept=False)\n",
    "print_crossval_scores(model, X_train, y_train)"
   ]
  },
  {
   "cell_type": "markdown",
   "metadata": {},
   "source": [
    "### b. Optimizing regularization parameters"
   ]
  },
  {
   "cell_type": "markdown",
   "metadata": {},
   "source": [
    "1. In the cells below try different values of penalty: `none`, `l1`, `l2` – you can change the values of solver too."
   ]
  },
  {
   "cell_type": "code",
   "execution_count": 5,
   "metadata": {},
   "outputs": [
    {
     "name": "stdout",
     "output_type": "stream",
     "text": [
      "Penalty: l1, Solver: liblinear\n",
      "Average accuracy on crossval is 0.63946\n",
      "Std is 0.04613\n",
      "Penalty: l2, Solver: lbfgs\n",
      "Average accuracy on crossval is 0.65136\n",
      "Std is 0.03475\n",
      "Penalty: l2, Solver: liblinear\n",
      "Average accuracy on crossval is 0.63504\n",
      "Std is 0.04654\n",
      "Penalty: l2, Solver: newton-cg\n",
      "Average accuracy on crossval is 0.65136\n",
      "Std is 0.03475\n",
      "Penalty: l2, Solver: sag\n",
      "Average accuracy on crossval is 0.65136\n",
      "Std is 0.03475\n",
      "Penalty: l2, Solver: saga\n",
      "Average accuracy on crossval is 0.65136\n",
      "Std is 0.03475\n",
      "Penalty: None, Solver: newton-cg\n",
      "Average accuracy on crossval is 0.66247\n",
      "Std is 0.04018\n",
      "CPU times: user 27.6 s, sys: 24.2 s, total: 51.8 s\n",
      "Wall time: 9.61 s\n"
     ]
    }
   ],
   "source": [
    "%%time\n",
    "\n",
    "params = {\n",
    "    'l1': ['liblinear'],\n",
    "    'l2': ['lbfgs', 'liblinear', 'newton-cg', 'sag', 'saga'],\n",
    "    None: ['newton-cg']\n",
    "}\n",
    "\n",
    "for penalty in params:\n",
    "    for solver in params[penalty]:\n",
    "        model = LogisticRegression(penalty=penalty, solver=solver, random_state=21, fit_intercept=False)\n",
    "        print(f\"Penalty: {penalty}, Solver: {solver}\")\n",
    "        print_crossval_scores(model, X_train, y_train, verbose=False)"
   ]
  },
  {
   "cell_type": "markdown",
   "metadata": {},
   "source": [
    "## 3. SVM regularization"
   ]
  },
  {
   "cell_type": "markdown",
   "metadata": {},
   "source": [
    "### a. Default regularization"
   ]
  },
  {
   "cell_type": "markdown",
   "metadata": {},
   "source": [
    "1. Train a baseline model with the only parameters `probability=True`, `kernel='linear'`, `random_state=21`.\n",
    "2. Use stratified K-fold cross-validation with `10` splits to evaluate the accuracy of the model.\n",
    "3. The format of the result of the code where you trained and evaluated the baseline model should be similar to what you have got for the logreg."
   ]
  },
  {
   "cell_type": "code",
   "execution_count": 6,
   "metadata": {},
   "outputs": [
    {
     "name": "stdout",
     "output_type": "stream",
     "text": [
      "train - 0.77164   |   valid - 0.71111\n",
      "train - 0.77988   |   valid - 0.67407\n",
      "train - 0.76752   |   valid - 0.71852\n",
      "train - 0.77659   |   valid - 0.69630\n",
      "train - 0.76587   |   valid - 0.74815\n",
      "train - 0.77329   |   valid - 0.76296\n",
      "train - 0.79308   |   valid - 0.63704\n",
      "train - 0.77824   |   valid - 0.65926\n",
      "train - 0.76194   |   valid - 0.70896\n",
      "train - 0.78336   |   valid - 0.64925\n",
      "Average accuracy on crossval is 0.69656\n",
      "Std is 0.03949\n",
      "CPU times: user 3.8 s, sys: 18.3 ms, total: 3.82 s\n",
      "Wall time: 3.82 s\n"
     ]
    }
   ],
   "source": [
    "%%time\n",
    "\n",
    "model = SVC(probability=True, kernel='linear', random_state=21)\n",
    "print_crossval_scores(model, X_train, y_train)"
   ]
  },
  {
   "cell_type": "markdown",
   "metadata": {},
   "source": [
    "### b. Optimizing regularization parameters"
   ]
  },
  {
   "cell_type": "markdown",
   "metadata": {},
   "source": [
    "1. In the cells below try different values of the parameter `C`."
   ]
  },
  {
   "cell_type": "code",
   "execution_count": 7,
   "metadata": {},
   "outputs": [
    {
     "name": "stdout",
     "output_type": "stream",
     "text": [
      "C: 0.01\n",
      "Average accuracy on crossval is 0.38719\n",
      "Std is 0.02551\n",
      "C: 0.1\n",
      "Average accuracy on crossval is 0.60459\n",
      "Std is 0.03271\n",
      "C: 1\n",
      "Average accuracy on crossval is 0.69656\n",
      "Std is 0.03949\n",
      "C: 10\n",
      "Average accuracy on crossval is 0.73886\n",
      "Std is 0.03835\n",
      "C: 100\n",
      "Average accuracy on crossval is 0.77077\n",
      "Std is 0.02579\n",
      "CPU times: user 35.3 s, sys: 108 ms, total: 35.4 s\n",
      "Wall time: 35.4 s\n"
     ]
    }
   ],
   "source": [
    "%%time\n",
    "\n",
    "params = [0.01, 0.1, 1, 10, 100]\n",
    "\n",
    "for C in params:\n",
    "    model = SVC(probability=True, C=C, kernel='linear', random_state=21)\n",
    "    print(f\"C: {C}\")\n",
    "    print_crossval_scores(model, X_train, y_train, verbose=False)"
   ]
  },
  {
   "cell_type": "markdown",
   "metadata": {},
   "source": [
    "## 4. Tree"
   ]
  },
  {
   "cell_type": "markdown",
   "metadata": {},
   "source": [
    "### a. Default regularization"
   ]
  },
  {
   "cell_type": "markdown",
   "metadata": {},
   "source": [
    "1. Train a baseline model with the only parameter `max_depth=10` and `random_state=21`.\n",
    "2. Use stratified K-fold cross-validation with `10` splits to evaluate the accuracy of the model.\n",
    "3. The format of the result of the code where you trained and evaluated the baseline model should be similar to what you have got for the logreg."
   ]
  },
  {
   "cell_type": "code",
   "execution_count": 8,
   "metadata": {},
   "outputs": [
    {
     "name": "stdout",
     "output_type": "stream",
     "text": [
      "train - 0.80379   |   valid - 0.75556\n",
      "train - 0.80214   |   valid - 0.71852\n",
      "train - 0.80049   |   valid - 0.71852\n",
      "train - 0.81863   |   valid - 0.82963\n",
      "train - 0.79802   |   valid - 0.68889\n",
      "train - 0.81616   |   valid - 0.74815\n",
      "train - 0.80791   |   valid - 0.66667\n",
      "train - 0.81369   |   valid - 0.68148\n",
      "train - 0.79901   |   valid - 0.76119\n",
      "train - 0.82043   |   valid - 0.73881\n",
      "Average accuracy on crossval is 0.73074\n",
      "Std is 0.04503\n",
      "CPU times: user 147 ms, sys: 0 ns, total: 147 ms\n",
      "Wall time: 146 ms\n"
     ]
    }
   ],
   "source": [
    "%%time\n",
    "\n",
    "model = DecisionTreeClassifier(max_depth=10, random_state=21)\n",
    "print_crossval_scores(model, X_train, y_train)"
   ]
  },
  {
   "cell_type": "markdown",
   "metadata": {},
   "source": [
    "### b. Optimizing regularization parameters"
   ]
  },
  {
   "cell_type": "markdown",
   "metadata": {},
   "source": [
    "1. In the cells below try different values of the parameter `max_depth`.\n",
    "2. As a bonus, play with other regularization parameters trying to find the best combination."
   ]
  },
  {
   "cell_type": "code",
   "execution_count": 9,
   "metadata": {},
   "outputs": [
    {
     "name": "stdout",
     "output_type": "stream",
     "text": [
      "Depth: 2\n",
      "Average accuracy on crossval is 0.43467\n",
      "Std is 0.02310\n",
      "Depth: 3\n",
      "Average accuracy on crossval is 0.47105\n",
      "Std is 0.01833\n",
      "Depth: 5\n",
      "Average accuracy on crossval is 0.57268\n",
      "Std is 0.03400\n",
      "Depth: 8\n",
      "Average accuracy on crossval is 0.68548\n",
      "Std is 0.04417\n",
      "Depth: 10\n",
      "Average accuracy on crossval is 0.73074\n",
      "Std is 0.04503\n",
      "Depth: 12\n",
      "Average accuracy on crossval is 0.81603\n",
      "Std is 0.03774\n",
      "CPU times: user 736 ms, sys: 1.4 ms, total: 738 ms\n",
      "Wall time: 737 ms\n"
     ]
    }
   ],
   "source": [
    "%%time\n",
    "\n",
    "params = [2, 3, 5, 8, 10, 12]\n",
    "\n",
    "for depth in params:\n",
    "    print(f\"Depth: {depth}\")\n",
    "    model = DecisionTreeClassifier(max_depth=depth, random_state=21)\n",
    "    print_crossval_scores(model, X_train, y_train, verbose=False)"
   ]
  },
  {
   "cell_type": "code",
   "execution_count": 10,
   "metadata": {},
   "outputs": [
    {
     "name": "stdout",
     "output_type": "stream",
     "text": [
      "Min samples split: 2\n",
      "Average accuracy on crossval is 0.73074\n",
      "Std is 0.04503\n",
      "Min samples split: 3\n",
      "Average accuracy on crossval is 0.72926\n",
      "Std is 0.04659\n",
      "Min samples split: 4\n",
      "Average accuracy on crossval is 0.72925\n",
      "Std is 0.04336\n",
      "Min samples split: 5\n",
      "Average accuracy on crossval is 0.72701\n",
      "Std is 0.04688\n",
      "CPU times: user 636 ms, sys: 1.95 ms, total: 638 ms\n",
      "Wall time: 637 ms\n"
     ]
    }
   ],
   "source": [
    "%%time\n",
    "\n",
    "params = [2, 3, 4, 5]\n",
    "\n",
    "for min_samples_split in params:\n",
    "    print(f\"Min samples split: {min_samples_split}\")\n",
    "    model = DecisionTreeClassifier(max_depth=10, min_samples_split=min_samples_split, random_state=21)\n",
    "    print_crossval_scores(model, X_train, y_train, verbose=False)"
   ]
  },
  {
   "cell_type": "code",
   "execution_count": 11,
   "metadata": {},
   "outputs": [
    {
     "name": "stdout",
     "output_type": "stream",
     "text": [
      "Min samples leaf: 2\n",
      "Average accuracy on crossval is 0.72109\n",
      "Std is 0.04850\n",
      "Min samples leaf: 3\n",
      "Average accuracy on crossval is 0.71589\n",
      "Std is 0.05231\n",
      "Min samples leaf: 4\n",
      "Average accuracy on crossval is 0.70180\n",
      "Std is 0.04843\n",
      "Min samples leaf: 5\n",
      "Average accuracy on crossval is 0.68693\n",
      "Std is 0.05078\n",
      "CPU times: user 493 ms, sys: 1.08 ms, total: 494 ms\n",
      "Wall time: 492 ms\n"
     ]
    }
   ],
   "source": [
    "%%time\n",
    "\n",
    "params = [2, 3, 4, 5]\n",
    "\n",
    "for min_samples_leaf in params:\n",
    "    print(f\"Min samples leaf: {min_samples_leaf}\")\n",
    "    model = DecisionTreeClassifier(max_depth=10, min_samples_leaf=min_samples_leaf, random_state=21)\n",
    "    print_crossval_scores(model, X_train, y_train, verbose=False)"
   ]
  },
  {
   "cell_type": "markdown",
   "metadata": {},
   "source": [
    "## 5. Random forest"
   ]
  },
  {
   "cell_type": "markdown",
   "metadata": {},
   "source": [
    "### a. Default regularization"
   ]
  },
  {
   "cell_type": "markdown",
   "metadata": {},
   "source": [
    "1. Train a baseline model with the only parameters `n_estimators=50`, `max_depth=14`, `random_state=21`.\n",
    "2. Use stratified K-fold cross-validation with `10` splits to evaluate the accuracy of the model.\n",
    "3. The format of the result of the code where you trained and evaluated the baseline model should be similar to what you have got for the logreg."
   ]
  },
  {
   "cell_type": "code",
   "execution_count": 12,
   "metadata": {},
   "outputs": [
    {
     "name": "stdout",
     "output_type": "stream",
     "text": [
      "train - 0.95383   |   valid - 0.87407\n",
      "train - 0.94806   |   valid - 0.81481\n",
      "train - 0.95218   |   valid - 0.86667\n",
      "train - 0.93817   |   valid - 0.85185\n",
      "train - 0.94147   |   valid - 0.84444\n",
      "train - 0.95383   |   valid - 0.85926\n",
      "train - 0.94064   |   valid - 0.84444\n",
      "train - 0.94559   |   valid - 0.82963\n",
      "train - 0.94893   |   valid - 0.90299\n",
      "train - 0.94399   |   valid - 0.76119\n",
      "Average accuracy on crossval is 0.84494\n",
      "Std is 0.03619\n",
      "CPU times: user 1.35 s, sys: 3.08 ms, total: 1.36 s\n",
      "Wall time: 1.36 s\n"
     ]
    }
   ],
   "source": [
    "%%time\n",
    "\n",
    "model = RandomForestClassifier(n_estimators=50, max_depth=14, random_state=21)\n",
    "print_crossval_scores(model, X_train, y_train)"
   ]
  },
  {
   "cell_type": "markdown",
   "metadata": {},
   "source": [
    "### b. Optimizing regularization parameters"
   ]
  },
  {
   "cell_type": "markdown",
   "metadata": {},
   "source": [
    "1. In the new cells try different values of the parameters `max_depth` and `n_estimators`.\n",
    "2. As a bonus, play with other regularization parameters trying to find the best combination."
   ]
  },
  {
   "cell_type": "code",
   "execution_count": 13,
   "metadata": {},
   "outputs": [
    {
     "name": "stdout",
     "output_type": "stream",
     "text": [
      "n_estimators: 20, max_depth: 5\n",
      "Average accuracy on crossval is 0.53334\n",
      "Std is 0.03147\n",
      "n_estimators: 20, max_depth: 14\n",
      "Average accuracy on crossval is 0.83384\n",
      "Std is 0.03670\n",
      "n_estimators: 20, max_depth: 18\n",
      "Average accuracy on crossval is 0.87016\n",
      "Std is 0.03080\n",
      "n_estimators: 50, max_depth: 5\n",
      "Average accuracy on crossval is 0.56227\n",
      "Std is 0.03321\n",
      "n_estimators: 50, max_depth: 14\n",
      "Average accuracy on crossval is 0.84494\n",
      "Std is 0.03619\n",
      "n_estimators: 50, max_depth: 18\n",
      "Average accuracy on crossval is 0.87907\n",
      "Std is 0.02579\n",
      "n_estimators: 100, max_depth: 5\n",
      "Average accuracy on crossval is 0.55338\n",
      "Std is 0.03172\n",
      "n_estimators: 100, max_depth: 14\n",
      "Average accuracy on crossval is 0.84198\n",
      "Std is 0.03177\n",
      "n_estimators: 100, max_depth: 18\n",
      "Average accuracy on crossval is 0.87759\n",
      "Std is 0.02607\n",
      "CPU times: user 12.9 s, sys: 30.7 ms, total: 13 s\n",
      "Wall time: 13 s\n"
     ]
    }
   ],
   "source": [
    "%%time\n",
    "\n",
    "params = {\n",
    "    'n_estimators': [20, 50, 100],\n",
    "    'max_depth': [5, 14, 18],\n",
    "}\n",
    "\n",
    "for n_estimators in params['n_estimators']:\n",
    "    for max_depth in params['max_depth']:\n",
    "        model = RandomForestClassifier(n_estimators=n_estimators, max_depth=max_depth, random_state=21)\n",
    "        print(f\"n_estimators: {n_estimators}, max_depth: {max_depth}\")\n",
    "        print_crossval_scores(model, X_train, y_train, verbose=False)"
   ]
  },
  {
   "cell_type": "code",
   "execution_count": 14,
   "metadata": {},
   "outputs": [
    {
     "name": "stdout",
     "output_type": "stream",
     "text": [
      "Min samples split: 2\n"
     ]
    },
    {
     "name": "stdout",
     "output_type": "stream",
     "text": [
      "Average accuracy on crossval is 0.87907\n",
      "Std is 0.02579\n",
      "Min samples split: 3\n",
      "Average accuracy on crossval is 0.87907\n",
      "Std is 0.02579\n",
      "Min samples split: 4\n",
      "Average accuracy on crossval is 0.87907\n",
      "Std is 0.02579\n",
      "Min samples split: 5\n",
      "Average accuracy on crossval is 0.87907\n",
      "Std is 0.02579\n",
      "CPU times: user 5.71 s, sys: 18.7 ms, total: 5.73 s\n",
      "Wall time: 5.74 s\n"
     ]
    }
   ],
   "source": [
    "%%time\n",
    "\n",
    "params = [2, 3, 4, 5]\n",
    "\n",
    "for min_samples_split in params:\n",
    "    print(f\"Min samples split: {min_samples_split}\")\n",
    "    model = RandomForestClassifier(n_estimators=50, max_depth=18, random_state=21)\n",
    "    print_crossval_scores(model, X_train, y_train, verbose=False)"
   ]
  },
  {
   "cell_type": "markdown",
   "metadata": {},
   "source": [
    "## 6. Predictions"
   ]
  },
  {
   "cell_type": "markdown",
   "metadata": {},
   "source": [
    "1. Choose the best model and use it to make predictions for the test dataset.\n",
    "2. Calculate the final accuracy.\n",
    "3. Analyze: for which weekday your model makes the most errors (in % of the total number of samples of that class in your test dataset).\n",
    "4. Save the model."
   ]
  },
  {
   "cell_type": "code",
   "execution_count": 15,
   "metadata": {},
   "outputs": [
    {
     "name": "stdout",
     "output_type": "stream",
     "text": [
      "Final Accuracy: 0.8816568047337278\n"
     ]
    }
   ],
   "source": [
    "best_model = RandomForestClassifier(n_estimators=50, max_depth=18, random_state=21)\n",
    "best_model.fit(X_train, y_train)\n",
    "\n",
    "y_pred = best_model.predict(X_test)\n",
    "accuracy = accuracy_score(y_test, y_pred)\n",
    "print(\"Final Accuracy:\", accuracy)"
   ]
  },
  {
   "cell_type": "code",
   "execution_count": 16,
   "metadata": {},
   "outputs": [
    {
     "data": {
      "text/html": [
       "<div>\n",
       "<style scoped>\n",
       "    .dataframe tbody tr th:only-of-type {\n",
       "        vertical-align: middle;\n",
       "    }\n",
       "\n",
       "    .dataframe tbody tr th {\n",
       "        vertical-align: top;\n",
       "    }\n",
       "\n",
       "    .dataframe thead th {\n",
       "        text-align: right;\n",
       "    }\n",
       "</style>\n",
       "<table border=\"1\" class=\"dataframe\">\n",
       "  <thead>\n",
       "    <tr style=\"text-align: right;\">\n",
       "      <th></th>\n",
       "      <th>weekday</th>\n",
       "      <th>error_percentage</th>\n",
       "    </tr>\n",
       "  </thead>\n",
       "  <tbody>\n",
       "    <tr>\n",
       "      <th>0</th>\n",
       "      <td>Tuesday</td>\n",
       "      <td>20.0</td>\n",
       "    </tr>\n",
       "    <tr>\n",
       "      <th>1</th>\n",
       "      <td>Monday</td>\n",
       "      <td>20.0</td>\n",
       "    </tr>\n",
       "    <tr>\n",
       "      <th>2</th>\n",
       "      <td>Saturday</td>\n",
       "      <td>17.5</td>\n",
       "    </tr>\n",
       "    <tr>\n",
       "      <th>3</th>\n",
       "      <td>Wednesday</td>\n",
       "      <td>15.0</td>\n",
       "    </tr>\n",
       "    <tr>\n",
       "      <th>4</th>\n",
       "      <td>Sunday</td>\n",
       "      <td>12.5</td>\n",
       "    </tr>\n",
       "    <tr>\n",
       "      <th>5</th>\n",
       "      <td>Friday</td>\n",
       "      <td>10.0</td>\n",
       "    </tr>\n",
       "    <tr>\n",
       "      <th>6</th>\n",
       "      <td>Thursday</td>\n",
       "      <td>5.0</td>\n",
       "    </tr>\n",
       "  </tbody>\n",
       "</table>\n",
       "</div>"
      ],
      "text/plain": [
       "     weekday  error_percentage\n",
       "0    Tuesday              20.0\n",
       "1     Monday              20.0\n",
       "2   Saturday              17.5\n",
       "3  Wednesday              15.0\n",
       "4     Sunday              12.5\n",
       "5     Friday              10.0\n",
       "6   Thursday               5.0"
      ]
     },
     "execution_count": 16,
     "metadata": {},
     "output_type": "execute_result"
    }
   ],
   "source": [
    "result = pd.DataFrame({'actual': y_test, 'predicted': y_pred})\n",
    "\n",
    "errors = result[result['actual'] != result['predicted']]['actual'].value_counts(normalize=True) * 100\n",
    "\n",
    "errors_df = pd.DataFrame({'weekday': errors.index, 'error_percentage': errors.values})\n",
    "errors_df['weekday'] = errors_df['weekday'].replace({0: 'Monday', 1: 'Tuesday', 2: 'Wednesday', 3: 'Thursday', 4: 'Friday', 5: 'Saturday', 6: 'Sunday'})\n",
    "\n",
    "errors_df"
   ]
  },
  {
   "cell_type": "code",
   "execution_count": 17,
   "metadata": {},
   "outputs": [
    {
     "data": {
      "text/plain": [
       "['../data/random_forest_model.joblib']"
      ]
     },
     "execution_count": 17,
     "metadata": {},
     "output_type": "execute_result"
    }
   ],
   "source": [
    "from joblib import dump\n",
    "\n",
    "filepath = '../data/random_forest_model.joblib'\n",
    "dump(best_model, filepath)"
   ]
  }
 ],
 "metadata": {
  "kernelspec": {
   "display_name": "Python 3",
   "language": "python",
   "name": "python3"
  },
  "language_info": {
   "codemirror_mode": {
    "name": "ipython",
    "version": 3
   },
   "file_extension": ".py",
   "mimetype": "text/x-python",
   "name": "python",
   "nbconvert_exporter": "python",
   "pygments_lexer": "ipython3",
   "version": "3.10.12"
  }
 },
 "nbformat": 4,
 "nbformat_minor": 4
}
