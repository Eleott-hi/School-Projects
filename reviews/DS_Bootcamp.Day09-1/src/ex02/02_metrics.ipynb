{
 "cells": [
  {
   "cell_type": "markdown",
   "metadata": {},
   "source": [
    "# Day 09. Exercise 02\n",
    "# Metrics"
   ]
  },
  {
   "cell_type": "markdown",
   "metadata": {},
   "source": [
    "## 0. Imports"
   ]
  },
  {
   "cell_type": "code",
   "execution_count": 1,
   "metadata": {},
   "outputs": [],
   "source": [
    "import pandas as pd\n",
    "import numpy as np\n",
    "from itertools import combinations\n",
    "\n",
    "from sklearn.svm import SVC\n",
    "from sklearn.tree import DecisionTreeClassifier\n",
    "from sklearn.ensemble import RandomForestClassifier\n",
    "\n",
    "from sklearn.model_selection import train_test_split\n",
    "from sklearn.metrics import accuracy_score, precision_score, recall_score, roc_auc_score"
   ]
  },
  {
   "cell_type": "markdown",
   "metadata": {},
   "source": [
    "## 1. Preprocessing"
   ]
  },
  {
   "cell_type": "markdown",
   "metadata": {},
   "source": [
    "1. Create the same dataframe as in the previous exercise.\n",
    "2. Using `train_test_split` with parameters `test_size=0.2`, `random_state=21` get `X_train`, `y_train`, `X_test`, `y_test`. Use the additional parameter `stratify`."
   ]
  },
  {
   "cell_type": "code",
   "execution_count": 2,
   "metadata": {},
   "outputs": [],
   "source": [
    "df = pd.read_csv('../data/dayofweek.csv')\n",
    "\n",
    "X = df.drop('dayofweek', axis=1)\n",
    "y = df['dayofweek']\n",
    "X_train, X_test, y_train, y_test = train_test_split(X, y, test_size=0.2, random_state=21, stratify=y)"
   ]
  },
  {
   "cell_type": "markdown",
   "metadata": {},
   "source": [
    "## 2. SVM"
   ]
  },
  {
   "cell_type": "markdown",
   "metadata": {},
   "source": [
    "1. Use the best parameters from the previous exercise and train the model of SVM.\n",
    "2. You need to calculate `accuracy`, `precision`, `recall`, `ROC AUC`.\n",
    "\n",
    " - `precision` and `recall` should be calculated for each class (use `average='weighted'`)\n",
    " - `ROC AUC` should be calculated for each class against any other class (all possible pairwise combinations) and then weighted average should be applied for the final metric\n",
    " - the code in the cell should display the result as below:\n",
    "\n",
    "```\n",
    "accuracy is 0.88757\n",
    "precision is 0.89267\n",
    "recall is 0.88757\n",
    "roc_auc is 0.97878\n",
    "```"
   ]
  },
  {
   "cell_type": "code",
   "execution_count": 3,
   "metadata": {},
   "outputs": [],
   "source": [
    "def print_metrics(model, X_test, y_test):\n",
    "    y_pred = model.predict(X_test)\n",
    "    y_prob = model.predict_proba(X_test)\n",
    "\n",
    "    accuracy = accuracy_score(y_test, y_pred)\n",
    "    precision = precision_score(y_test, y_pred, average='weighted')\n",
    "    recall = recall_score(y_test, y_pred, average='weighted')\n",
    "\n",
    "    roc_auc_scores = []\n",
    "    for class1, class2 in combinations(range(len(model.classes_)), 2):\n",
    "        y_true_bin = y_test == model.classes_[class1]\n",
    "        y_prob_diff = y_prob[:, class1] - y_prob[:, class2]\n",
    "        if np.any(y_prob_diff == 0):\n",
    "            roc_auc_scores.append(1)\n",
    "        else:\n",
    "            roc_auc_scores.append(roc_auc_score(y_true_bin, y_prob_diff))\n",
    "\n",
    "    roc_auc = np.mean(roc_auc_scores)\n",
    "\n",
    "    print(f\"accuracy is {accuracy:.5f}\")\n",
    "    print(f\"precision is {precision:.5f}\")\n",
    "    print(f\"recall is {recall:.5f}\")\n",
    "    print(f\"roc_auc is {roc_auc:.5f}\")\n"
   ]
  },
  {
   "cell_type": "code",
   "execution_count": 4,
   "metadata": {},
   "outputs": [
    {
     "name": "stdout",
     "output_type": "stream",
     "text": [
      "accuracy is 0.90828\n",
      "precision is 0.90854\n",
      "recall is 0.90828\n",
      "roc_auc is 0.93846\n"
     ]
    }
   ],
   "source": [
    "svm = SVC(C=10, class_weight='balanced', gamma='scale', kernel='rbf', random_state=21, probability=True)\n",
    "svm.fit(X_train, y_train)\n",
    "\n",
    "print_metrics(svm, X_test, y_test)"
   ]
  },
  {
   "cell_type": "markdown",
   "metadata": {},
   "source": [
    "## 3. Decision tree"
   ]
  },
  {
   "cell_type": "markdown",
   "metadata": {},
   "source": [
    "1. The same task for decision tree"
   ]
  },
  {
   "cell_type": "code",
   "execution_count": 5,
   "metadata": {},
   "outputs": [
    {
     "name": "stdout",
     "output_type": "stream",
     "text": [
      "accuracy is 0.88757\n",
      "precision is 0.88922\n",
      "recall is 0.88757\n",
      "roc_auc is 1.00000\n"
     ]
    }
   ],
   "source": [
    "dt = DecisionTreeClassifier(class_weight=None, criterion='entropy', max_depth=23, random_state=21)\n",
    "dt.fit(X_train, y_train)\n",
    "\n",
    "print_metrics(dt, X_test, y_test)"
   ]
  },
  {
   "cell_type": "markdown",
   "metadata": {},
   "source": [
    "## 4. Random forest"
   ]
  },
  {
   "cell_type": "markdown",
   "metadata": {},
   "source": [
    "1. The same task for random forest."
   ]
  },
  {
   "cell_type": "code",
   "execution_count": 6,
   "metadata": {},
   "outputs": [
    {
     "name": "stdout",
     "output_type": "stream",
     "text": [
      "accuracy is 0.89941\n",
      "precision is 0.90364\n",
      "recall is 0.89941\n",
      "roc_auc is 1.00000\n"
     ]
    }
   ],
   "source": [
    "rf = RandomForestClassifier(n_estimators=50, max_depth=39, class_weight='balanced', criterion='gini', random_state=21)\n",
    "rf.fit(X_train, y_train)\n",
    "\n",
    "print_metrics(rf, X_test, y_test)"
   ]
  },
  {
   "cell_type": "markdown",
   "metadata": {},
   "source": [
    "## 5. Predictions"
   ]
  },
  {
   "cell_type": "markdown",
   "metadata": {},
   "source": [
    "1. Choose the best model.\n",
    "2. Analyze: for which `weekday` your model makes the most errors (in % of the total number of samples of that class in your full dataset), for which `labname` and for which `users`.\n",
    "3. Save the model."
   ]
  },
  {
   "cell_type": "code",
   "execution_count": 7,
   "metadata": {},
   "outputs": [
    {
     "name": "stdout",
     "output_type": "stream",
     "text": [
      "Final Accuracy: 0.908284023668639\n"
     ]
    }
   ],
   "source": [
    "best_model = SVC(C=10, class_weight='balanced', gamma='scale', kernel='rbf', random_state=21, probability=True)\n",
    "best_model.fit(X_train, y_train)\n",
    "\n",
    "y_pred = best_model.predict(X_test)\n",
    "accuracy = accuracy_score(y_test, y_pred)\n",
    "print(\"Final Accuracy:\", accuracy)"
   ]
  },
  {
   "cell_type": "code",
   "execution_count": 8,
   "metadata": {},
   "outputs": [
    {
     "data": {
      "text/html": [
       "<div>\n",
       "<style scoped>\n",
       "    .dataframe tbody tr th:only-of-type {\n",
       "        vertical-align: middle;\n",
       "    }\n",
       "\n",
       "    .dataframe tbody tr th {\n",
       "        vertical-align: top;\n",
       "    }\n",
       "\n",
       "    .dataframe thead th {\n",
       "        text-align: right;\n",
       "    }\n",
       "</style>\n",
       "<table border=\"1\" class=\"dataframe\">\n",
       "  <thead>\n",
       "    <tr style=\"text-align: right;\">\n",
       "      <th></th>\n",
       "      <th>weekday</th>\n",
       "      <th>error_percentage</th>\n",
       "    </tr>\n",
       "  </thead>\n",
       "  <tbody>\n",
       "    <tr>\n",
       "      <th>0</th>\n",
       "      <td>Monday</td>\n",
       "      <td>25.806452</td>\n",
       "    </tr>\n",
       "    <tr>\n",
       "      <th>1</th>\n",
       "      <td>Tuesday</td>\n",
       "      <td>19.354839</td>\n",
       "    </tr>\n",
       "    <tr>\n",
       "      <th>2</th>\n",
       "      <td>Saturday</td>\n",
       "      <td>16.129032</td>\n",
       "    </tr>\n",
       "    <tr>\n",
       "      <th>3</th>\n",
       "      <td>Friday</td>\n",
       "      <td>12.903226</td>\n",
       "    </tr>\n",
       "    <tr>\n",
       "      <th>4</th>\n",
       "      <td>Wednesday</td>\n",
       "      <td>12.903226</td>\n",
       "    </tr>\n",
       "    <tr>\n",
       "      <th>5</th>\n",
       "      <td>Thursday</td>\n",
       "      <td>9.677419</td>\n",
       "    </tr>\n",
       "    <tr>\n",
       "      <th>6</th>\n",
       "      <td>Sunday</td>\n",
       "      <td>3.225806</td>\n",
       "    </tr>\n",
       "  </tbody>\n",
       "</table>\n",
       "</div>"
      ],
      "text/plain": [
       "     weekday  error_percentage\n",
       "0     Monday         25.806452\n",
       "1    Tuesday         19.354839\n",
       "2   Saturday         16.129032\n",
       "3     Friday         12.903226\n",
       "4  Wednesday         12.903226\n",
       "5   Thursday          9.677419\n",
       "6     Sunday          3.225806"
      ]
     },
     "execution_count": 8,
     "metadata": {},
     "output_type": "execute_result"
    }
   ],
   "source": [
    "result = pd.DataFrame({'actual': y_test, 'predicted': y_pred})\n",
    "\n",
    "errors = result[result['actual'] != result['predicted']]['actual'].value_counts(normalize=True) * 100\n",
    "\n",
    "errors_df = pd.DataFrame({'weekday': errors.index, 'error_percentage': errors.values})\n",
    "errors_df['weekday'] = errors_df['weekday'].replace({0: 'Monday', 1: 'Tuesday', 2: 'Wednesday', 3: 'Thursday', 4: 'Friday', 5: 'Saturday', 6: 'Sunday'})\n",
    "\n",
    "errors_df"
   ]
  },
  {
   "cell_type": "code",
   "execution_count": 9,
   "metadata": {},
   "outputs": [
    {
     "data": {
      "text/plain": [
       "['../data/svm_model.joblib']"
      ]
     },
     "execution_count": 9,
     "metadata": {},
     "output_type": "execute_result"
    }
   ],
   "source": [
    "from joblib import dump\n",
    "\n",
    "filepath = '../data/svm_model.joblib'\n",
    "dump(best_model, filepath)"
   ]
  },
  {
   "cell_type": "markdown",
   "metadata": {},
   "source": [
    "## 6. Function"
   ]
  },
  {
   "cell_type": "markdown",
   "metadata": {},
   "source": [
    "1. Write a function that takes a list of different models and a corresponding list of parameters (dicts) and returns a dict that contains all the 4 metrics for each model."
   ]
  },
  {
   "cell_type": "code",
   "execution_count": 10,
   "metadata": {},
   "outputs": [],
   "source": [
    "def evaluate_models(models, params, X_train, X_test, y_train, y_test):\n",
    "    results = {}\n",
    "    for model, param in zip(models, params):\n",
    "        model.set_params(**param)\n",
    "        model.fit(X_train, y_train)\n",
    "        y_pred = model.predict(X_test)\n",
    "        y_prob = model.predict_proba(X_test)\n",
    "        \n",
    "        accuracy = accuracy_score(y_test, y_pred)\n",
    "        precision = precision_score(y_test, y_pred, average='weighted')\n",
    "        recall = recall_score(y_test, y_pred, average='weighted')\n",
    "        \n",
    "        roc_auc_scores = []\n",
    "        for class1, class2 in combinations(range(len(model.classes_)), 2):\n",
    "            y_true_bin = y_test == model.classes_[class1]\n",
    "            y_prob_diff = y_prob[:, class1] - y_prob[:, class2]\n",
    "            if np.any(y_prob_diff == 0):\n",
    "                roc_auc_scores.append(1)\n",
    "            else:\n",
    "                roc_auc_scores.append(roc_auc_score(y_true_bin, y_prob_diff))\n",
    "        \n",
    "        roc_auc = np.mean(roc_auc_scores)\n",
    "        \n",
    "        results[model.__class__.__name__] = {'accuracy': accuracy, \n",
    "                                             'precision': precision, \n",
    "                                             'recall': recall, \n",
    "                                             'roc_auc': roc_auc}\n",
    "    \n",
    "    return results"
   ]
  },
  {
   "cell_type": "code",
   "execution_count": 11,
   "metadata": {},
   "outputs": [
    {
     "name": "stdout",
     "output_type": "stream",
     "text": [
      "SVC: {'accuracy': 0.908284023668639, 'precision': 0.908537422429379, 'recall': 0.908284023668639, 'roc_auc': 0.9384552349169959}\n",
      "DecisionTreeClassifier: {'accuracy': 0.9053254437869822, 'precision': 0.9055019273619678, 'recall': 0.9053254437869822, 'roc_auc': 1.0}\n",
      "RandomForestClassifier: {'accuracy': 0.8994082840236687, 'precision': 0.9036368343294753, 'recall': 0.8994082840236687, 'roc_auc': 1.0}\n"
     ]
    }
   ],
   "source": [
    "models = [SVC(random_state=21, probability=True), DecisionTreeClassifier(random_state=21), RandomForestClassifier(random_state=21)]\n",
    "params = [{'C': 10, 'class_weight': 'balanced', 'gamma': 'scale', 'kernel': 'rbf'}, \n",
    "          {'class_weight': 'balanced', 'criterion': 'entropy', 'max_depth': 23}, \n",
    "          {'n_estimators': 50, 'max_depth': 39, 'class_weight': 'balanced', 'criterion': 'gini'}]\n",
    "results = evaluate_models(models, params, X_train, X_test, y_train, y_test)\n",
    "for model, result in results.items():\n",
    "    print(f\"{model}: {result}\")"
   ]
  }
 ],
 "metadata": {
  "kernelspec": {
   "display_name": "Python 3",
   "language": "python",
   "name": "python3"
  },
  "language_info": {
   "codemirror_mode": {
    "name": "ipython",
    "version": 3
   },
   "file_extension": ".py",
   "mimetype": "text/x-python",
   "name": "python",
   "nbconvert_exporter": "python",
   "pygments_lexer": "ipython3",
   "version": "3.10.12"
  }
 },
 "nbformat": 4,
 "nbformat_minor": 4
}
