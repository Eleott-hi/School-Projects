{
 "cells": [
  {
   "cell_type": "markdown",
   "metadata": {},
   "source": [
    "# Exercise 09 : Plotly"
   ]
  },
  {
   "cell_type": "code",
   "execution_count": 1,
   "metadata": {},
   "outputs": [],
   "source": [
    "import pandas as pd\n",
    "import numpy as np\n",
    "import sqlite3\n",
    "import plotly.graph_objects as go"
   ]
  },
  {
   "cell_type": "code",
   "execution_count": 2,
   "metadata": {},
   "outputs": [],
   "source": [
    "conn = sqlite3.connect('../data/checking-logs.sqlite')"
   ]
  },
  {
   "cell_type": "code",
   "execution_count": 3,
   "metadata": {},
   "outputs": [
    {
     "data": {
      "application/vnd.plotly.v1+json": {
       "config": {
        "plotlyServerURL": "https://plot.ly"
       },
       "data": [
        {
         "mode": "lines",
         "name": "user_4",
         "type": "scatter",
         "x": [
          "2020-04-17"
         ],
         "y": [
          7,
          11,
          20,
          27,
          35,
          48,
          53,
          71,
          83,
          87,
          125,
          137,
          164
         ]
        },
        {
         "mode": "lines",
         "name": "user_17",
         "type": "scatter",
         "x": [
          "2020-04-17"
         ],
         "y": [
          1,
          3,
          5
         ]
        },
        {
         "mode": "lines",
         "name": "user_30",
         "type": "scatter",
         "x": [
          "2020-04-17"
         ],
         "y": [
          1,
          2,
          4,
          5,
          12,
          17,
          19
         ]
        },
        {
         "mode": "lines",
         "name": "user_22",
         "type": "scatter",
         "x": [
          "2020-04-17"
         ],
         "y": [
          1,
          2
         ]
        },
        {
         "mode": "lines",
         "name": "user_11",
         "type": "scatter",
         "x": [
          "2020-04-17"
         ],
         "y": [
          1
         ]
        },
        {
         "mode": "lines",
         "name": "user_2",
         "type": "scatter",
         "x": [
          "2020-04-17"
         ],
         "y": [
          57,
          58,
          62,
          74,
          78,
          93,
          95
         ]
        },
        {
         "mode": "lines",
         "name": "user_14",
         "type": "scatter",
         "x": [
          "2020-04-17"
         ],
         "y": [
          1,
          18,
          25,
          49,
          92,
          99
         ]
        },
        {
         "mode": "lines",
         "name": "user_31",
         "type": "scatter",
         "x": [
          "2020-04-17"
         ],
         "y": [
          1,
          4,
          6,
          8
         ]
        },
        {
         "mode": "lines",
         "name": "user_3",
         "type": "scatter",
         "x": [
          "2020-04-17"
         ],
         "y": [
          1,
          28,
          29,
          31,
          54,
          56,
          58
         ]
        },
        {
         "mode": "lines",
         "name": "user_25",
         "type": "scatter",
         "x": [
          "2020-04-17"
         ],
         "y": [
          5,
          27,
          29,
          33,
          54,
          57,
          77
         ]
        },
        {
         "mode": "lines",
         "name": "user_26",
         "type": "scatter",
         "x": [
          "2020-04-17"
         ],
         "y": [
          35,
          52,
          69
         ]
        },
        {
         "mode": "lines",
         "name": "user_21",
         "type": "scatter",
         "x": [
          "2020-04-17"
         ],
         "y": [
          7,
          9
         ]
        },
        {
         "mode": "lines",
         "name": "user_18",
         "type": "scatter",
         "x": [
          "2020-04-17"
         ],
         "y": [
          7,
          8,
          31
         ]
        },
        {
         "mode": "lines",
         "name": "user_20",
         "type": "scatter",
         "x": [
          "2020-04-17"
         ],
         "y": [
          11,
          54
         ]
        },
        {
         "mode": "lines",
         "name": "user_29",
         "type": "scatter",
         "x": [
          "2020-04-17"
         ],
         "y": [
          5,
          18,
          34,
          35
         ]
        },
        {
         "mode": "lines",
         "name": "user_13",
         "type": "scatter",
         "x": [
          "2020-04-17"
         ],
         "y": [
          2,
          30,
          32
         ]
        },
        {
         "mode": "lines",
         "name": "user_28",
         "type": "scatter",
         "x": [
          "2020-04-17"
         ],
         "y": [
          2,
          20,
          26,
          27
         ]
        },
        {
         "mode": "lines",
         "name": "user_16",
         "type": "scatter",
         "x": [
          "2020-04-17"
         ],
         "y": [
          2,
          9
         ]
        },
        {
         "mode": "lines",
         "name": "user_10",
         "type": "scatter",
         "x": [
          "2020-04-17"
         ],
         "y": [
          7,
          21,
          58
         ]
        },
        {
         "mode": "lines",
         "name": "user_24",
         "type": "scatter",
         "x": [
          "2020-04-17"
         ],
         "y": [
          9,
          34
         ]
        },
        {
         "mode": "lines",
         "name": "user_6",
         "type": "scatter",
         "x": [
          "2020-04-17"
         ],
         "y": [
          1,
          2
         ]
        },
        {
         "mode": "lines",
         "name": "user_19",
         "type": "scatter",
         "x": [
          "2020-04-17"
         ],
         "y": [
          25,
          29
         ]
        },
        {
         "mode": "lines",
         "name": "user_8",
         "type": "scatter",
         "x": [
          "2020-04-17"
         ],
         "y": [
          8
         ]
        },
        {
         "mode": "lines",
         "name": "user_12",
         "type": "scatter",
         "x": [
          "2020-04-17"
         ],
         "y": [
          4
         ]
        },
        {
         "mode": "lines",
         "name": "user_15",
         "type": "scatter",
         "x": [
          "2020-04-17"
         ],
         "y": [
          3
         ]
        },
        {
         "mode": "lines",
         "name": "user_27",
         "type": "scatter",
         "x": [
          "2020-04-17"
         ],
         "y": [
          8
         ]
        },
        {
         "mode": "lines",
         "name": "user_1",
         "type": "scatter",
         "x": [
          "2020-04-17"
         ],
         "y": [
          11
         ]
        }
       ],
       "frames": [
        {
         "data": [
          {
           "mode": "markers+lines",
           "name": "user_1",
           "type": "scatter",
           "x": [
            "2020-04-17"
           ],
           "y": [
            0
           ]
          },
          {
           "mode": "markers+lines",
           "name": "user_10",
           "type": "scatter",
           "x": [
            "2020-04-17"
           ],
           "y": [
            0
           ]
          },
          {
           "mode": "markers+lines",
           "name": "user_11",
           "type": "scatter",
           "x": [
            "2020-04-17"
           ],
           "y": [
            0
           ]
          },
          {
           "mode": "markers+lines",
           "name": "user_12",
           "type": "scatter",
           "x": [
            "2020-04-17"
           ],
           "y": [
            0
           ]
          },
          {
           "mode": "markers+lines",
           "name": "user_13",
           "type": "scatter",
           "x": [
            "2020-04-17"
           ],
           "y": [
            0
           ]
          },
          {
           "mode": "markers+lines",
           "name": "user_14",
           "type": "scatter",
           "x": [
            "2020-04-17"
           ],
           "y": [
            0
           ]
          },
          {
           "mode": "markers+lines",
           "name": "user_15",
           "type": "scatter",
           "x": [
            "2020-04-17"
           ],
           "y": [
            0
           ]
          },
          {
           "mode": "markers+lines",
           "name": "user_16",
           "type": "scatter",
           "x": [
            "2020-04-17"
           ],
           "y": [
            0
           ]
          },
          {
           "mode": "markers+lines",
           "name": "user_17",
           "type": "scatter",
           "x": [
            "2020-04-17"
           ],
           "y": [
            0
           ]
          },
          {
           "mode": "markers+lines",
           "name": "user_18",
           "type": "scatter",
           "x": [
            "2020-04-17"
           ],
           "y": [
            0
           ]
          },
          {
           "mode": "markers+lines",
           "name": "user_19",
           "type": "scatter",
           "x": [
            "2020-04-17"
           ],
           "y": [
            0
           ]
          },
          {
           "mode": "markers+lines",
           "name": "user_2",
           "type": "scatter",
           "x": [
            "2020-04-17"
           ],
           "y": [
            0
           ]
          },
          {
           "mode": "markers+lines",
           "name": "user_20",
           "type": "scatter",
           "x": [
            "2020-04-17"
           ],
           "y": [
            0
           ]
          },
          {
           "mode": "markers+lines",
           "name": "user_21",
           "type": "scatter",
           "x": [
            "2020-04-17"
           ],
           "y": [
            0
           ]
          },
          {
           "mode": "markers+lines",
           "name": "user_22",
           "type": "scatter",
           "x": [
            "2020-04-17"
           ],
           "y": [
            0
           ]
          },
          {
           "mode": "markers+lines",
           "name": "user_24",
           "type": "scatter",
           "x": [
            "2020-04-17"
           ],
           "y": [
            0
           ]
          },
          {
           "mode": "markers+lines",
           "name": "user_25",
           "type": "scatter",
           "x": [
            "2020-04-17"
           ],
           "y": [
            0
           ]
          },
          {
           "mode": "markers+lines",
           "name": "user_26",
           "type": "scatter",
           "x": [
            "2020-04-17"
           ],
           "y": [
            0
           ]
          },
          {
           "mode": "markers+lines",
           "name": "user_27",
           "type": "scatter",
           "x": [
            "2020-04-17"
           ],
           "y": [
            0
           ]
          },
          {
           "mode": "markers+lines",
           "name": "user_28",
           "type": "scatter",
           "x": [
            "2020-04-17"
           ],
           "y": [
            0
           ]
          },
          {
           "mode": "markers+lines",
           "name": "user_29",
           "type": "scatter",
           "x": [
            "2020-04-17"
           ],
           "y": [
            0
           ]
          },
          {
           "mode": "markers+lines",
           "name": "user_3",
           "type": "scatter",
           "x": [
            "2020-04-17"
           ],
           "y": [
            0
           ]
          },
          {
           "mode": "markers+lines",
           "name": "user_30",
           "type": "scatter",
           "x": [
            "2020-04-17"
           ],
           "y": [
            0
           ]
          },
          {
           "mode": "markers+lines",
           "name": "user_31",
           "type": "scatter",
           "x": [
            "2020-04-17"
           ],
           "y": [
            0
           ]
          },
          {
           "mode": "markers+lines",
           "name": "user_4",
           "type": "scatter",
           "x": [
            "2020-04-17"
           ],
           "y": [
            7
           ]
          },
          {
           "mode": "markers+lines",
           "name": "user_6",
           "type": "scatter",
           "x": [
            "2020-04-17"
           ],
           "y": [
            0
           ]
          },
          {
           "mode": "markers+lines",
           "name": "user_8",
           "type": "scatter",
           "x": [
            "2020-04-17"
           ],
           "y": [
            0
           ]
          }
         ],
         "layout": {
          "title": {
           "text": "Commit Dynamic up to 2020-04-17"
          }
         }
        },
        {
         "data": [
          {
           "mode": "markers+lines",
           "name": "user_1",
           "type": "scatter",
           "x": [
            "2020-04-17",
            "2020-04-18"
           ],
           "y": [
            0,
            0
           ]
          },
          {
           "mode": "markers+lines",
           "name": "user_10",
           "type": "scatter",
           "x": [
            "2020-04-17",
            "2020-04-18"
           ],
           "y": [
            0,
            0
           ]
          },
          {
           "mode": "markers+lines",
           "name": "user_11",
           "type": "scatter",
           "x": [
            "2020-04-17",
            "2020-04-18"
           ],
           "y": [
            0,
            0
           ]
          },
          {
           "mode": "markers+lines",
           "name": "user_12",
           "type": "scatter",
           "x": [
            "2020-04-17",
            "2020-04-18"
           ],
           "y": [
            0,
            0
           ]
          },
          {
           "mode": "markers+lines",
           "name": "user_13",
           "type": "scatter",
           "x": [
            "2020-04-17",
            "2020-04-18"
           ],
           "y": [
            0,
            0
           ]
          },
          {
           "mode": "markers+lines",
           "name": "user_14",
           "type": "scatter",
           "x": [
            "2020-04-17",
            "2020-04-18"
           ],
           "y": [
            0,
            0
           ]
          },
          {
           "mode": "markers+lines",
           "name": "user_15",
           "type": "scatter",
           "x": [
            "2020-04-17",
            "2020-04-18"
           ],
           "y": [
            0,
            0
           ]
          },
          {
           "mode": "markers+lines",
           "name": "user_16",
           "type": "scatter",
           "x": [
            "2020-04-17",
            "2020-04-18"
           ],
           "y": [
            0,
            0
           ]
          },
          {
           "mode": "markers+lines",
           "name": "user_17",
           "type": "scatter",
           "x": [
            "2020-04-17",
            "2020-04-18"
           ],
           "y": [
            0,
            1
           ]
          },
          {
           "mode": "markers+lines",
           "name": "user_18",
           "type": "scatter",
           "x": [
            "2020-04-17",
            "2020-04-18"
           ],
           "y": [
            0,
            0
           ]
          },
          {
           "mode": "markers+lines",
           "name": "user_19",
           "type": "scatter",
           "x": [
            "2020-04-17",
            "2020-04-18"
           ],
           "y": [
            0,
            0
           ]
          },
          {
           "mode": "markers+lines",
           "name": "user_2",
           "type": "scatter",
           "x": [
            "2020-04-17",
            "2020-04-18"
           ],
           "y": [
            0,
            0
           ]
          },
          {
           "mode": "markers+lines",
           "name": "user_20",
           "type": "scatter",
           "x": [
            "2020-04-17",
            "2020-04-18"
           ],
           "y": [
            0,
            0
           ]
          },
          {
           "mode": "markers+lines",
           "name": "user_21",
           "type": "scatter",
           "x": [
            "2020-04-17",
            "2020-04-18"
           ],
           "y": [
            0,
            0
           ]
          },
          {
           "mode": "markers+lines",
           "name": "user_22",
           "type": "scatter",
           "x": [
            "2020-04-17",
            "2020-04-18"
           ],
           "y": [
            0,
            0
           ]
          },
          {
           "mode": "markers+lines",
           "name": "user_24",
           "type": "scatter",
           "x": [
            "2020-04-17",
            "2020-04-18"
           ],
           "y": [
            0,
            0
           ]
          },
          {
           "mode": "markers+lines",
           "name": "user_25",
           "type": "scatter",
           "x": [
            "2020-04-17",
            "2020-04-18"
           ],
           "y": [
            0,
            0
           ]
          },
          {
           "mode": "markers+lines",
           "name": "user_26",
           "type": "scatter",
           "x": [
            "2020-04-17",
            "2020-04-18"
           ],
           "y": [
            0,
            0
           ]
          },
          {
           "mode": "markers+lines",
           "name": "user_27",
           "type": "scatter",
           "x": [
            "2020-04-17",
            "2020-04-18"
           ],
           "y": [
            0,
            0
           ]
          },
          {
           "mode": "markers+lines",
           "name": "user_28",
           "type": "scatter",
           "x": [
            "2020-04-17",
            "2020-04-18"
           ],
           "y": [
            0,
            0
           ]
          },
          {
           "mode": "markers+lines",
           "name": "user_29",
           "type": "scatter",
           "x": [
            "2020-04-17",
            "2020-04-18"
           ],
           "y": [
            0,
            0
           ]
          },
          {
           "mode": "markers+lines",
           "name": "user_3",
           "type": "scatter",
           "x": [
            "2020-04-17",
            "2020-04-18"
           ],
           "y": [
            0,
            0
           ]
          },
          {
           "mode": "markers+lines",
           "name": "user_30",
           "type": "scatter",
           "x": [
            "2020-04-17",
            "2020-04-18"
           ],
           "y": [
            0,
            0
           ]
          },
          {
           "mode": "markers+lines",
           "name": "user_31",
           "type": "scatter",
           "x": [
            "2020-04-17",
            "2020-04-18"
           ],
           "y": [
            0,
            0
           ]
          },
          {
           "mode": "markers+lines",
           "name": "user_4",
           "type": "scatter",
           "x": [
            "2020-04-17",
            "2020-04-18"
           ],
           "y": [
            7,
            7
           ]
          },
          {
           "mode": "markers+lines",
           "name": "user_6",
           "type": "scatter",
           "x": [
            "2020-04-17",
            "2020-04-18"
           ],
           "y": [
            0,
            0
           ]
          },
          {
           "mode": "markers+lines",
           "name": "user_8",
           "type": "scatter",
           "x": [
            "2020-04-17",
            "2020-04-18"
           ],
           "y": [
            0,
            0
           ]
          }
         ],
         "layout": {
          "title": {
           "text": "Commit Dynamic up to 2020-04-18"
          }
         }
        },
        {
         "data": [
          {
           "mode": "markers+lines",
           "name": "user_1",
           "type": "scatter",
           "x": [
            "2020-04-17",
            "2020-04-18",
            "2020-04-19"
           ],
           "y": [
            0,
            0,
            0
           ]
          },
          {
           "mode": "markers+lines",
           "name": "user_10",
           "type": "scatter",
           "x": [
            "2020-04-17",
            "2020-04-18",
            "2020-04-19"
           ],
           "y": [
            0,
            0,
            0
           ]
          },
          {
           "mode": "markers+lines",
           "name": "user_11",
           "type": "scatter",
           "x": [
            "2020-04-17",
            "2020-04-18",
            "2020-04-19"
           ],
           "y": [
            0,
            0,
            0
           ]
          },
          {
           "mode": "markers+lines",
           "name": "user_12",
           "type": "scatter",
           "x": [
            "2020-04-17",
            "2020-04-18",
            "2020-04-19"
           ],
           "y": [
            0,
            0,
            0
           ]
          },
          {
           "mode": "markers+lines",
           "name": "user_13",
           "type": "scatter",
           "x": [
            "2020-04-17",
            "2020-04-18",
            "2020-04-19"
           ],
           "y": [
            0,
            0,
            0
           ]
          },
          {
           "mode": "markers+lines",
           "name": "user_14",
           "type": "scatter",
           "x": [
            "2020-04-17",
            "2020-04-18",
            "2020-04-19"
           ],
           "y": [
            0,
            0,
            0
           ]
          },
          {
           "mode": "markers+lines",
           "name": "user_15",
           "type": "scatter",
           "x": [
            "2020-04-17",
            "2020-04-18",
            "2020-04-19"
           ],
           "y": [
            0,
            0,
            0
           ]
          },
          {
           "mode": "markers+lines",
           "name": "user_16",
           "type": "scatter",
           "x": [
            "2020-04-17",
            "2020-04-18",
            "2020-04-19"
           ],
           "y": [
            0,
            0,
            0
           ]
          },
          {
           "mode": "markers+lines",
           "name": "user_17",
           "type": "scatter",
           "x": [
            "2020-04-17",
            "2020-04-18",
            "2020-04-19"
           ],
           "y": [
            0,
            1,
            1
           ]
          },
          {
           "mode": "markers+lines",
           "name": "user_18",
           "type": "scatter",
           "x": [
            "2020-04-17",
            "2020-04-18",
            "2020-04-19"
           ],
           "y": [
            0,
            0,
            0
           ]
          },
          {
           "mode": "markers+lines",
           "name": "user_19",
           "type": "scatter",
           "x": [
            "2020-04-17",
            "2020-04-18",
            "2020-04-19"
           ],
           "y": [
            0,
            0,
            0
           ]
          },
          {
           "mode": "markers+lines",
           "name": "user_2",
           "type": "scatter",
           "x": [
            "2020-04-17",
            "2020-04-18",
            "2020-04-19"
           ],
           "y": [
            0,
            0,
            0
           ]
          },
          {
           "mode": "markers+lines",
           "name": "user_20",
           "type": "scatter",
           "x": [
            "2020-04-17",
            "2020-04-18",
            "2020-04-19"
           ],
           "y": [
            0,
            0,
            0
           ]
          },
          {
           "mode": "markers+lines",
           "name": "user_21",
           "type": "scatter",
           "x": [
            "2020-04-17",
            "2020-04-18",
            "2020-04-19"
           ],
           "y": [
            0,
            0,
            0
           ]
          },
          {
           "mode": "markers+lines",
           "name": "user_22",
           "type": "scatter",
           "x": [
            "2020-04-17",
            "2020-04-18",
            "2020-04-19"
           ],
           "y": [
            0,
            0,
            0
           ]
          },
          {
           "mode": "markers+lines",
           "name": "user_24",
           "type": "scatter",
           "x": [
            "2020-04-17",
            "2020-04-18",
            "2020-04-19"
           ],
           "y": [
            0,
            0,
            0
           ]
          },
          {
           "mode": "markers+lines",
           "name": "user_25",
           "type": "scatter",
           "x": [
            "2020-04-17",
            "2020-04-18",
            "2020-04-19"
           ],
           "y": [
            0,
            0,
            0
           ]
          },
          {
           "mode": "markers+lines",
           "name": "user_26",
           "type": "scatter",
           "x": [
            "2020-04-17",
            "2020-04-18",
            "2020-04-19"
           ],
           "y": [
            0,
            0,
            0
           ]
          },
          {
           "mode": "markers+lines",
           "name": "user_27",
           "type": "scatter",
           "x": [
            "2020-04-17",
            "2020-04-18",
            "2020-04-19"
           ],
           "y": [
            0,
            0,
            0
           ]
          },
          {
           "mode": "markers+lines",
           "name": "user_28",
           "type": "scatter",
           "x": [
            "2020-04-17",
            "2020-04-18",
            "2020-04-19"
           ],
           "y": [
            0,
            0,
            0
           ]
          },
          {
           "mode": "markers+lines",
           "name": "user_29",
           "type": "scatter",
           "x": [
            "2020-04-17",
            "2020-04-18",
            "2020-04-19"
           ],
           "y": [
            0,
            0,
            0
           ]
          },
          {
           "mode": "markers+lines",
           "name": "user_3",
           "type": "scatter",
           "x": [
            "2020-04-17",
            "2020-04-18",
            "2020-04-19"
           ],
           "y": [
            0,
            0,
            0
           ]
          },
          {
           "mode": "markers+lines",
           "name": "user_30",
           "type": "scatter",
           "x": [
            "2020-04-17",
            "2020-04-18",
            "2020-04-19"
           ],
           "y": [
            0,
            0,
            0
           ]
          },
          {
           "mode": "markers+lines",
           "name": "user_31",
           "type": "scatter",
           "x": [
            "2020-04-17",
            "2020-04-18",
            "2020-04-19"
           ],
           "y": [
            0,
            0,
            0
           ]
          },
          {
           "mode": "markers+lines",
           "name": "user_4",
           "type": "scatter",
           "x": [
            "2020-04-17",
            "2020-04-18",
            "2020-04-19"
           ],
           "y": [
            7,
            7,
            11
           ]
          },
          {
           "mode": "markers+lines",
           "name": "user_6",
           "type": "scatter",
           "x": [
            "2020-04-17",
            "2020-04-18",
            "2020-04-19"
           ],
           "y": [
            0,
            0,
            0
           ]
          },
          {
           "mode": "markers+lines",
           "name": "user_8",
           "type": "scatter",
           "x": [
            "2020-04-17",
            "2020-04-18",
            "2020-04-19"
           ],
           "y": [
            0,
            0,
            0
           ]
          }
         ],
         "layout": {
          "title": {
           "text": "Commit Dynamic up to 2020-04-19"
          }
         }
        },
        {
         "data": [
          {
           "mode": "markers+lines",
           "name": "user_1",
           "type": "scatter",
           "x": [
            "2020-04-17",
            "2020-04-18",
            "2020-04-19",
            "2020-04-22"
           ],
           "y": [
            0,
            0,
            0,
            0
           ]
          },
          {
           "mode": "markers+lines",
           "name": "user_10",
           "type": "scatter",
           "x": [
            "2020-04-17",
            "2020-04-18",
            "2020-04-19",
            "2020-04-22"
           ],
           "y": [
            0,
            0,
            0,
            0
           ]
          },
          {
           "mode": "markers+lines",
           "name": "user_11",
           "type": "scatter",
           "x": [
            "2020-04-17",
            "2020-04-18",
            "2020-04-19",
            "2020-04-22"
           ],
           "y": [
            0,
            0,
            0,
            0
           ]
          },
          {
           "mode": "markers+lines",
           "name": "user_12",
           "type": "scatter",
           "x": [
            "2020-04-17",
            "2020-04-18",
            "2020-04-19",
            "2020-04-22"
           ],
           "y": [
            0,
            0,
            0,
            0
           ]
          },
          {
           "mode": "markers+lines",
           "name": "user_13",
           "type": "scatter",
           "x": [
            "2020-04-17",
            "2020-04-18",
            "2020-04-19",
            "2020-04-22"
           ],
           "y": [
            0,
            0,
            0,
            0
           ]
          },
          {
           "mode": "markers+lines",
           "name": "user_14",
           "type": "scatter",
           "x": [
            "2020-04-17",
            "2020-04-18",
            "2020-04-19",
            "2020-04-22"
           ],
           "y": [
            0,
            0,
            0,
            0
           ]
          },
          {
           "mode": "markers+lines",
           "name": "user_15",
           "type": "scatter",
           "x": [
            "2020-04-17",
            "2020-04-18",
            "2020-04-19",
            "2020-04-22"
           ],
           "y": [
            0,
            0,
            0,
            0
           ]
          },
          {
           "mode": "markers+lines",
           "name": "user_16",
           "type": "scatter",
           "x": [
            "2020-04-17",
            "2020-04-18",
            "2020-04-19",
            "2020-04-22"
           ],
           "y": [
            0,
            0,
            0,
            0
           ]
          },
          {
           "mode": "markers+lines",
           "name": "user_17",
           "type": "scatter",
           "x": [
            "2020-04-17",
            "2020-04-18",
            "2020-04-19",
            "2020-04-22"
           ],
           "y": [
            0,
            1,
            1,
            1
           ]
          },
          {
           "mode": "markers+lines",
           "name": "user_18",
           "type": "scatter",
           "x": [
            "2020-04-17",
            "2020-04-18",
            "2020-04-19",
            "2020-04-22"
           ],
           "y": [
            0,
            0,
            0,
            0
           ]
          },
          {
           "mode": "markers+lines",
           "name": "user_19",
           "type": "scatter",
           "x": [
            "2020-04-17",
            "2020-04-18",
            "2020-04-19",
            "2020-04-22"
           ],
           "y": [
            0,
            0,
            0,
            0
           ]
          },
          {
           "mode": "markers+lines",
           "name": "user_2",
           "type": "scatter",
           "x": [
            "2020-04-17",
            "2020-04-18",
            "2020-04-19",
            "2020-04-22"
           ],
           "y": [
            0,
            0,
            0,
            0
           ]
          },
          {
           "mode": "markers+lines",
           "name": "user_20",
           "type": "scatter",
           "x": [
            "2020-04-17",
            "2020-04-18",
            "2020-04-19",
            "2020-04-22"
           ],
           "y": [
            0,
            0,
            0,
            0
           ]
          },
          {
           "mode": "markers+lines",
           "name": "user_21",
           "type": "scatter",
           "x": [
            "2020-04-17",
            "2020-04-18",
            "2020-04-19",
            "2020-04-22"
           ],
           "y": [
            0,
            0,
            0,
            0
           ]
          },
          {
           "mode": "markers+lines",
           "name": "user_22",
           "type": "scatter",
           "x": [
            "2020-04-17",
            "2020-04-18",
            "2020-04-19",
            "2020-04-22"
           ],
           "y": [
            0,
            0,
            0,
            0
           ]
          },
          {
           "mode": "markers+lines",
           "name": "user_24",
           "type": "scatter",
           "x": [
            "2020-04-17",
            "2020-04-18",
            "2020-04-19",
            "2020-04-22"
           ],
           "y": [
            0,
            0,
            0,
            0
           ]
          },
          {
           "mode": "markers+lines",
           "name": "user_25",
           "type": "scatter",
           "x": [
            "2020-04-17",
            "2020-04-18",
            "2020-04-19",
            "2020-04-22"
           ],
           "y": [
            0,
            0,
            0,
            0
           ]
          },
          {
           "mode": "markers+lines",
           "name": "user_26",
           "type": "scatter",
           "x": [
            "2020-04-17",
            "2020-04-18",
            "2020-04-19",
            "2020-04-22"
           ],
           "y": [
            0,
            0,
            0,
            0
           ]
          },
          {
           "mode": "markers+lines",
           "name": "user_27",
           "type": "scatter",
           "x": [
            "2020-04-17",
            "2020-04-18",
            "2020-04-19",
            "2020-04-22"
           ],
           "y": [
            0,
            0,
            0,
            0
           ]
          },
          {
           "mode": "markers+lines",
           "name": "user_28",
           "type": "scatter",
           "x": [
            "2020-04-17",
            "2020-04-18",
            "2020-04-19",
            "2020-04-22"
           ],
           "y": [
            0,
            0,
            0,
            0
           ]
          },
          {
           "mode": "markers+lines",
           "name": "user_29",
           "type": "scatter",
           "x": [
            "2020-04-17",
            "2020-04-18",
            "2020-04-19",
            "2020-04-22"
           ],
           "y": [
            0,
            0,
            0,
            0
           ]
          },
          {
           "mode": "markers+lines",
           "name": "user_3",
           "type": "scatter",
           "x": [
            "2020-04-17",
            "2020-04-18",
            "2020-04-19",
            "2020-04-22"
           ],
           "y": [
            0,
            0,
            0,
            0
           ]
          },
          {
           "mode": "markers+lines",
           "name": "user_30",
           "type": "scatter",
           "x": [
            "2020-04-17",
            "2020-04-18",
            "2020-04-19",
            "2020-04-22"
           ],
           "y": [
            0,
            0,
            0,
            1
           ]
          },
          {
           "mode": "markers+lines",
           "name": "user_31",
           "type": "scatter",
           "x": [
            "2020-04-17",
            "2020-04-18",
            "2020-04-19",
            "2020-04-22"
           ],
           "y": [
            0,
            0,
            0,
            0
           ]
          },
          {
           "mode": "markers+lines",
           "name": "user_4",
           "type": "scatter",
           "x": [
            "2020-04-17",
            "2020-04-18",
            "2020-04-19",
            "2020-04-22"
           ],
           "y": [
            7,
            7,
            11,
            11
           ]
          },
          {
           "mode": "markers+lines",
           "name": "user_6",
           "type": "scatter",
           "x": [
            "2020-04-17",
            "2020-04-18",
            "2020-04-19",
            "2020-04-22"
           ],
           "y": [
            0,
            0,
            0,
            0
           ]
          },
          {
           "mode": "markers+lines",
           "name": "user_8",
           "type": "scatter",
           "x": [
            "2020-04-17",
            "2020-04-18",
            "2020-04-19",
            "2020-04-22"
           ],
           "y": [
            0,
            0,
            0,
            0
           ]
          }
         ],
         "layout": {
          "title": {
           "text": "Commit Dynamic up to 2020-04-22"
          }
         }
        },
        {
         "data": [
          {
           "mode": "markers+lines",
           "name": "user_1",
           "type": "scatter",
           "x": [
            "2020-04-17",
            "2020-04-18",
            "2020-04-19",
            "2020-04-22",
            "2020-04-23"
           ],
           "y": [
            0,
            0,
            0,
            0,
            0
           ]
          },
          {
           "mode": "markers+lines",
           "name": "user_10",
           "type": "scatter",
           "x": [
            "2020-04-17",
            "2020-04-18",
            "2020-04-19",
            "2020-04-22",
            "2020-04-23"
           ],
           "y": [
            0,
            0,
            0,
            0,
            0
           ]
          },
          {
           "mode": "markers+lines",
           "name": "user_11",
           "type": "scatter",
           "x": [
            "2020-04-17",
            "2020-04-18",
            "2020-04-19",
            "2020-04-22",
            "2020-04-23"
           ],
           "y": [
            0,
            0,
            0,
            0,
            0
           ]
          },
          {
           "mode": "markers+lines",
           "name": "user_12",
           "type": "scatter",
           "x": [
            "2020-04-17",
            "2020-04-18",
            "2020-04-19",
            "2020-04-22",
            "2020-04-23"
           ],
           "y": [
            0,
            0,
            0,
            0,
            0
           ]
          },
          {
           "mode": "markers+lines",
           "name": "user_13",
           "type": "scatter",
           "x": [
            "2020-04-17",
            "2020-04-18",
            "2020-04-19",
            "2020-04-22",
            "2020-04-23"
           ],
           "y": [
            0,
            0,
            0,
            0,
            0
           ]
          },
          {
           "mode": "markers+lines",
           "name": "user_14",
           "type": "scatter",
           "x": [
            "2020-04-17",
            "2020-04-18",
            "2020-04-19",
            "2020-04-22",
            "2020-04-23"
           ],
           "y": [
            0,
            0,
            0,
            0,
            0
           ]
          },
          {
           "mode": "markers+lines",
           "name": "user_15",
           "type": "scatter",
           "x": [
            "2020-04-17",
            "2020-04-18",
            "2020-04-19",
            "2020-04-22",
            "2020-04-23"
           ],
           "y": [
            0,
            0,
            0,
            0,
            0
           ]
          },
          {
           "mode": "markers+lines",
           "name": "user_16",
           "type": "scatter",
           "x": [
            "2020-04-17",
            "2020-04-18",
            "2020-04-19",
            "2020-04-22",
            "2020-04-23"
           ],
           "y": [
            0,
            0,
            0,
            0,
            0
           ]
          },
          {
           "mode": "markers+lines",
           "name": "user_17",
           "type": "scatter",
           "x": [
            "2020-04-17",
            "2020-04-18",
            "2020-04-19",
            "2020-04-22",
            "2020-04-23"
           ],
           "y": [
            0,
            1,
            1,
            1,
            1
           ]
          },
          {
           "mode": "markers+lines",
           "name": "user_18",
           "type": "scatter",
           "x": [
            "2020-04-17",
            "2020-04-18",
            "2020-04-19",
            "2020-04-22",
            "2020-04-23"
           ],
           "y": [
            0,
            0,
            0,
            0,
            0
           ]
          },
          {
           "mode": "markers+lines",
           "name": "user_19",
           "type": "scatter",
           "x": [
            "2020-04-17",
            "2020-04-18",
            "2020-04-19",
            "2020-04-22",
            "2020-04-23"
           ],
           "y": [
            0,
            0,
            0,
            0,
            0
           ]
          },
          {
           "mode": "markers+lines",
           "name": "user_2",
           "type": "scatter",
           "x": [
            "2020-04-17",
            "2020-04-18",
            "2020-04-19",
            "2020-04-22",
            "2020-04-23"
           ],
           "y": [
            0,
            0,
            0,
            0,
            0
           ]
          },
          {
           "mode": "markers+lines",
           "name": "user_20",
           "type": "scatter",
           "x": [
            "2020-04-17",
            "2020-04-18",
            "2020-04-19",
            "2020-04-22",
            "2020-04-23"
           ],
           "y": [
            0,
            0,
            0,
            0,
            0
           ]
          },
          {
           "mode": "markers+lines",
           "name": "user_21",
           "type": "scatter",
           "x": [
            "2020-04-17",
            "2020-04-18",
            "2020-04-19",
            "2020-04-22",
            "2020-04-23"
           ],
           "y": [
            0,
            0,
            0,
            0,
            0
           ]
          },
          {
           "mode": "markers+lines",
           "name": "user_22",
           "type": "scatter",
           "x": [
            "2020-04-17",
            "2020-04-18",
            "2020-04-19",
            "2020-04-22",
            "2020-04-23"
           ],
           "y": [
            0,
            0,
            0,
            0,
            0
           ]
          },
          {
           "mode": "markers+lines",
           "name": "user_24",
           "type": "scatter",
           "x": [
            "2020-04-17",
            "2020-04-18",
            "2020-04-19",
            "2020-04-22",
            "2020-04-23"
           ],
           "y": [
            0,
            0,
            0,
            0,
            0
           ]
          },
          {
           "mode": "markers+lines",
           "name": "user_25",
           "type": "scatter",
           "x": [
            "2020-04-17",
            "2020-04-18",
            "2020-04-19",
            "2020-04-22",
            "2020-04-23"
           ],
           "y": [
            0,
            0,
            0,
            0,
            0
           ]
          },
          {
           "mode": "markers+lines",
           "name": "user_26",
           "type": "scatter",
           "x": [
            "2020-04-17",
            "2020-04-18",
            "2020-04-19",
            "2020-04-22",
            "2020-04-23"
           ],
           "y": [
            0,
            0,
            0,
            0,
            0
           ]
          },
          {
           "mode": "markers+lines",
           "name": "user_27",
           "type": "scatter",
           "x": [
            "2020-04-17",
            "2020-04-18",
            "2020-04-19",
            "2020-04-22",
            "2020-04-23"
           ],
           "y": [
            0,
            0,
            0,
            0,
            0
           ]
          },
          {
           "mode": "markers+lines",
           "name": "user_28",
           "type": "scatter",
           "x": [
            "2020-04-17",
            "2020-04-18",
            "2020-04-19",
            "2020-04-22",
            "2020-04-23"
           ],
           "y": [
            0,
            0,
            0,
            0,
            0
           ]
          },
          {
           "mode": "markers+lines",
           "name": "user_29",
           "type": "scatter",
           "x": [
            "2020-04-17",
            "2020-04-18",
            "2020-04-19",
            "2020-04-22",
            "2020-04-23"
           ],
           "y": [
            0,
            0,
            0,
            0,
            0
           ]
          },
          {
           "mode": "markers+lines",
           "name": "user_3",
           "type": "scatter",
           "x": [
            "2020-04-17",
            "2020-04-18",
            "2020-04-19",
            "2020-04-22",
            "2020-04-23"
           ],
           "y": [
            0,
            0,
            0,
            0,
            0
           ]
          },
          {
           "mode": "markers+lines",
           "name": "user_30",
           "type": "scatter",
           "x": [
            "2020-04-17",
            "2020-04-18",
            "2020-04-19",
            "2020-04-22",
            "2020-04-23"
           ],
           "y": [
            0,
            0,
            0,
            1,
            2
           ]
          },
          {
           "mode": "markers+lines",
           "name": "user_31",
           "type": "scatter",
           "x": [
            "2020-04-17",
            "2020-04-18",
            "2020-04-19",
            "2020-04-22",
            "2020-04-23"
           ],
           "y": [
            0,
            0,
            0,
            0,
            0
           ]
          },
          {
           "mode": "markers+lines",
           "name": "user_4",
           "type": "scatter",
           "x": [
            "2020-04-17",
            "2020-04-18",
            "2020-04-19",
            "2020-04-22",
            "2020-04-23"
           ],
           "y": [
            7,
            7,
            11,
            11,
            20
           ]
          },
          {
           "mode": "markers+lines",
           "name": "user_6",
           "type": "scatter",
           "x": [
            "2020-04-17",
            "2020-04-18",
            "2020-04-19",
            "2020-04-22",
            "2020-04-23"
           ],
           "y": [
            0,
            0,
            0,
            0,
            0
           ]
          },
          {
           "mode": "markers+lines",
           "name": "user_8",
           "type": "scatter",
           "x": [
            "2020-04-17",
            "2020-04-18",
            "2020-04-19",
            "2020-04-22",
            "2020-04-23"
           ],
           "y": [
            0,
            0,
            0,
            0,
            0
           ]
          }
         ],
         "layout": {
          "title": {
           "text": "Commit Dynamic up to 2020-04-23"
          }
         }
        },
        {
         "data": [
          {
           "mode": "markers+lines",
           "name": "user_1",
           "type": "scatter",
           "x": [
            "2020-04-17",
            "2020-04-18",
            "2020-04-19",
            "2020-04-22",
            "2020-04-23",
            "2020-04-24"
           ],
           "y": [
            0,
            0,
            0,
            0,
            0,
            0
           ]
          },
          {
           "mode": "markers+lines",
           "name": "user_10",
           "type": "scatter",
           "x": [
            "2020-04-17",
            "2020-04-18",
            "2020-04-19",
            "2020-04-22",
            "2020-04-23",
            "2020-04-24"
           ],
           "y": [
            0,
            0,
            0,
            0,
            0,
            0
           ]
          },
          {
           "mode": "markers+lines",
           "name": "user_11",
           "type": "scatter",
           "x": [
            "2020-04-17",
            "2020-04-18",
            "2020-04-19",
            "2020-04-22",
            "2020-04-23",
            "2020-04-24"
           ],
           "y": [
            0,
            0,
            0,
            0,
            0,
            0
           ]
          },
          {
           "mode": "markers+lines",
           "name": "user_12",
           "type": "scatter",
           "x": [
            "2020-04-17",
            "2020-04-18",
            "2020-04-19",
            "2020-04-22",
            "2020-04-23",
            "2020-04-24"
           ],
           "y": [
            0,
            0,
            0,
            0,
            0,
            0
           ]
          },
          {
           "mode": "markers+lines",
           "name": "user_13",
           "type": "scatter",
           "x": [
            "2020-04-17",
            "2020-04-18",
            "2020-04-19",
            "2020-04-22",
            "2020-04-23",
            "2020-04-24"
           ],
           "y": [
            0,
            0,
            0,
            0,
            0,
            0
           ]
          },
          {
           "mode": "markers+lines",
           "name": "user_14",
           "type": "scatter",
           "x": [
            "2020-04-17",
            "2020-04-18",
            "2020-04-19",
            "2020-04-22",
            "2020-04-23",
            "2020-04-24"
           ],
           "y": [
            0,
            0,
            0,
            0,
            0,
            0
           ]
          },
          {
           "mode": "markers+lines",
           "name": "user_15",
           "type": "scatter",
           "x": [
            "2020-04-17",
            "2020-04-18",
            "2020-04-19",
            "2020-04-22",
            "2020-04-23",
            "2020-04-24"
           ],
           "y": [
            0,
            0,
            0,
            0,
            0,
            0
           ]
          },
          {
           "mode": "markers+lines",
           "name": "user_16",
           "type": "scatter",
           "x": [
            "2020-04-17",
            "2020-04-18",
            "2020-04-19",
            "2020-04-22",
            "2020-04-23",
            "2020-04-24"
           ],
           "y": [
            0,
            0,
            0,
            0,
            0,
            0
           ]
          },
          {
           "mode": "markers+lines",
           "name": "user_17",
           "type": "scatter",
           "x": [
            "2020-04-17",
            "2020-04-18",
            "2020-04-19",
            "2020-04-22",
            "2020-04-23",
            "2020-04-24"
           ],
           "y": [
            0,
            1,
            1,
            1,
            1,
            1
           ]
          },
          {
           "mode": "markers+lines",
           "name": "user_18",
           "type": "scatter",
           "x": [
            "2020-04-17",
            "2020-04-18",
            "2020-04-19",
            "2020-04-22",
            "2020-04-23",
            "2020-04-24"
           ],
           "y": [
            0,
            0,
            0,
            0,
            0,
            0
           ]
          },
          {
           "mode": "markers+lines",
           "name": "user_19",
           "type": "scatter",
           "x": [
            "2020-04-17",
            "2020-04-18",
            "2020-04-19",
            "2020-04-22",
            "2020-04-23",
            "2020-04-24"
           ],
           "y": [
            0,
            0,
            0,
            0,
            0,
            0
           ]
          },
          {
           "mode": "markers+lines",
           "name": "user_2",
           "type": "scatter",
           "x": [
            "2020-04-17",
            "2020-04-18",
            "2020-04-19",
            "2020-04-22",
            "2020-04-23",
            "2020-04-24"
           ],
           "y": [
            0,
            0,
            0,
            0,
            0,
            0
           ]
          },
          {
           "mode": "markers+lines",
           "name": "user_20",
           "type": "scatter",
           "x": [
            "2020-04-17",
            "2020-04-18",
            "2020-04-19",
            "2020-04-22",
            "2020-04-23",
            "2020-04-24"
           ],
           "y": [
            0,
            0,
            0,
            0,
            0,
            0
           ]
          },
          {
           "mode": "markers+lines",
           "name": "user_21",
           "type": "scatter",
           "x": [
            "2020-04-17",
            "2020-04-18",
            "2020-04-19",
            "2020-04-22",
            "2020-04-23",
            "2020-04-24"
           ],
           "y": [
            0,
            0,
            0,
            0,
            0,
            0
           ]
          },
          {
           "mode": "markers+lines",
           "name": "user_22",
           "type": "scatter",
           "x": [
            "2020-04-17",
            "2020-04-18",
            "2020-04-19",
            "2020-04-22",
            "2020-04-23",
            "2020-04-24"
           ],
           "y": [
            0,
            0,
            0,
            0,
            0,
            0
           ]
          },
          {
           "mode": "markers+lines",
           "name": "user_24",
           "type": "scatter",
           "x": [
            "2020-04-17",
            "2020-04-18",
            "2020-04-19",
            "2020-04-22",
            "2020-04-23",
            "2020-04-24"
           ],
           "y": [
            0,
            0,
            0,
            0,
            0,
            0
           ]
          },
          {
           "mode": "markers+lines",
           "name": "user_25",
           "type": "scatter",
           "x": [
            "2020-04-17",
            "2020-04-18",
            "2020-04-19",
            "2020-04-22",
            "2020-04-23",
            "2020-04-24"
           ],
           "y": [
            0,
            0,
            0,
            0,
            0,
            0
           ]
          },
          {
           "mode": "markers+lines",
           "name": "user_26",
           "type": "scatter",
           "x": [
            "2020-04-17",
            "2020-04-18",
            "2020-04-19",
            "2020-04-22",
            "2020-04-23",
            "2020-04-24"
           ],
           "y": [
            0,
            0,
            0,
            0,
            0,
            0
           ]
          },
          {
           "mode": "markers+lines",
           "name": "user_27",
           "type": "scatter",
           "x": [
            "2020-04-17",
            "2020-04-18",
            "2020-04-19",
            "2020-04-22",
            "2020-04-23",
            "2020-04-24"
           ],
           "y": [
            0,
            0,
            0,
            0,
            0,
            0
           ]
          },
          {
           "mode": "markers+lines",
           "name": "user_28",
           "type": "scatter",
           "x": [
            "2020-04-17",
            "2020-04-18",
            "2020-04-19",
            "2020-04-22",
            "2020-04-23",
            "2020-04-24"
           ],
           "y": [
            0,
            0,
            0,
            0,
            0,
            0
           ]
          },
          {
           "mode": "markers+lines",
           "name": "user_29",
           "type": "scatter",
           "x": [
            "2020-04-17",
            "2020-04-18",
            "2020-04-19",
            "2020-04-22",
            "2020-04-23",
            "2020-04-24"
           ],
           "y": [
            0,
            0,
            0,
            0,
            0,
            0
           ]
          },
          {
           "mode": "markers+lines",
           "name": "user_3",
           "type": "scatter",
           "x": [
            "2020-04-17",
            "2020-04-18",
            "2020-04-19",
            "2020-04-22",
            "2020-04-23",
            "2020-04-24"
           ],
           "y": [
            0,
            0,
            0,
            0,
            0,
            0
           ]
          },
          {
           "mode": "markers+lines",
           "name": "user_30",
           "type": "scatter",
           "x": [
            "2020-04-17",
            "2020-04-18",
            "2020-04-19",
            "2020-04-22",
            "2020-04-23",
            "2020-04-24"
           ],
           "y": [
            0,
            0,
            0,
            1,
            2,
            2
           ]
          },
          {
           "mode": "markers+lines",
           "name": "user_31",
           "type": "scatter",
           "x": [
            "2020-04-17",
            "2020-04-18",
            "2020-04-19",
            "2020-04-22",
            "2020-04-23",
            "2020-04-24"
           ],
           "y": [
            0,
            0,
            0,
            0,
            0,
            0
           ]
          },
          {
           "mode": "markers+lines",
           "name": "user_4",
           "type": "scatter",
           "x": [
            "2020-04-17",
            "2020-04-18",
            "2020-04-19",
            "2020-04-22",
            "2020-04-23",
            "2020-04-24"
           ],
           "y": [
            7,
            7,
            11,
            11,
            20,
            27
           ]
          },
          {
           "mode": "markers+lines",
           "name": "user_6",
           "type": "scatter",
           "x": [
            "2020-04-17",
            "2020-04-18",
            "2020-04-19",
            "2020-04-22",
            "2020-04-23",
            "2020-04-24"
           ],
           "y": [
            0,
            0,
            0,
            0,
            0,
            0
           ]
          },
          {
           "mode": "markers+lines",
           "name": "user_8",
           "type": "scatter",
           "x": [
            "2020-04-17",
            "2020-04-18",
            "2020-04-19",
            "2020-04-22",
            "2020-04-23",
            "2020-04-24"
           ],
           "y": [
            0,
            0,
            0,
            0,
            0,
            0
           ]
          }
         ],
         "layout": {
          "title": {
           "text": "Commit Dynamic up to 2020-04-24"
          }
         }
        },
        {
         "data": [
          {
           "mode": "markers+lines",
           "name": "user_1",
           "type": "scatter",
           "x": [
            "2020-04-17",
            "2020-04-18",
            "2020-04-19",
            "2020-04-22",
            "2020-04-23",
            "2020-04-24",
            "2020-05-03"
           ],
           "y": [
            0,
            0,
            0,
            0,
            0,
            0,
            0
           ]
          },
          {
           "mode": "markers+lines",
           "name": "user_10",
           "type": "scatter",
           "x": [
            "2020-04-17",
            "2020-04-18",
            "2020-04-19",
            "2020-04-22",
            "2020-04-23",
            "2020-04-24",
            "2020-05-03"
           ],
           "y": [
            0,
            0,
            0,
            0,
            0,
            0,
            0
           ]
          },
          {
           "mode": "markers+lines",
           "name": "user_11",
           "type": "scatter",
           "x": [
            "2020-04-17",
            "2020-04-18",
            "2020-04-19",
            "2020-04-22",
            "2020-04-23",
            "2020-04-24",
            "2020-05-03"
           ],
           "y": [
            0,
            0,
            0,
            0,
            0,
            0,
            1
           ]
          },
          {
           "mode": "markers+lines",
           "name": "user_12",
           "type": "scatter",
           "x": [
            "2020-04-17",
            "2020-04-18",
            "2020-04-19",
            "2020-04-22",
            "2020-04-23",
            "2020-04-24",
            "2020-05-03"
           ],
           "y": [
            0,
            0,
            0,
            0,
            0,
            0,
            0
           ]
          },
          {
           "mode": "markers+lines",
           "name": "user_13",
           "type": "scatter",
           "x": [
            "2020-04-17",
            "2020-04-18",
            "2020-04-19",
            "2020-04-22",
            "2020-04-23",
            "2020-04-24",
            "2020-05-03"
           ],
           "y": [
            0,
            0,
            0,
            0,
            0,
            0,
            0
           ]
          },
          {
           "mode": "markers+lines",
           "name": "user_14",
           "type": "scatter",
           "x": [
            "2020-04-17",
            "2020-04-18",
            "2020-04-19",
            "2020-04-22",
            "2020-04-23",
            "2020-04-24",
            "2020-05-03"
           ],
           "y": [
            0,
            0,
            0,
            0,
            0,
            0,
            0
           ]
          },
          {
           "mode": "markers+lines",
           "name": "user_15",
           "type": "scatter",
           "x": [
            "2020-04-17",
            "2020-04-18",
            "2020-04-19",
            "2020-04-22",
            "2020-04-23",
            "2020-04-24",
            "2020-05-03"
           ],
           "y": [
            0,
            0,
            0,
            0,
            0,
            0,
            0
           ]
          },
          {
           "mode": "markers+lines",
           "name": "user_16",
           "type": "scatter",
           "x": [
            "2020-04-17",
            "2020-04-18",
            "2020-04-19",
            "2020-04-22",
            "2020-04-23",
            "2020-04-24",
            "2020-05-03"
           ],
           "y": [
            0,
            0,
            0,
            0,
            0,
            0,
            0
           ]
          },
          {
           "mode": "markers+lines",
           "name": "user_17",
           "type": "scatter",
           "x": [
            "2020-04-17",
            "2020-04-18",
            "2020-04-19",
            "2020-04-22",
            "2020-04-23",
            "2020-04-24",
            "2020-05-03"
           ],
           "y": [
            0,
            1,
            1,
            1,
            1,
            1,
            1
           ]
          },
          {
           "mode": "markers+lines",
           "name": "user_18",
           "type": "scatter",
           "x": [
            "2020-04-17",
            "2020-04-18",
            "2020-04-19",
            "2020-04-22",
            "2020-04-23",
            "2020-04-24",
            "2020-05-03"
           ],
           "y": [
            0,
            0,
            0,
            0,
            0,
            0,
            0
           ]
          },
          {
           "mode": "markers+lines",
           "name": "user_19",
           "type": "scatter",
           "x": [
            "2020-04-17",
            "2020-04-18",
            "2020-04-19",
            "2020-04-22",
            "2020-04-23",
            "2020-04-24",
            "2020-05-03"
           ],
           "y": [
            0,
            0,
            0,
            0,
            0,
            0,
            0
           ]
          },
          {
           "mode": "markers+lines",
           "name": "user_2",
           "type": "scatter",
           "x": [
            "2020-04-17",
            "2020-04-18",
            "2020-04-19",
            "2020-04-22",
            "2020-04-23",
            "2020-04-24",
            "2020-05-03"
           ],
           "y": [
            0,
            0,
            0,
            0,
            0,
            0,
            0
           ]
          },
          {
           "mode": "markers+lines",
           "name": "user_20",
           "type": "scatter",
           "x": [
            "2020-04-17",
            "2020-04-18",
            "2020-04-19",
            "2020-04-22",
            "2020-04-23",
            "2020-04-24",
            "2020-05-03"
           ],
           "y": [
            0,
            0,
            0,
            0,
            0,
            0,
            0
           ]
          },
          {
           "mode": "markers+lines",
           "name": "user_21",
           "type": "scatter",
           "x": [
            "2020-04-17",
            "2020-04-18",
            "2020-04-19",
            "2020-04-22",
            "2020-04-23",
            "2020-04-24",
            "2020-05-03"
           ],
           "y": [
            0,
            0,
            0,
            0,
            0,
            0,
            0
           ]
          },
          {
           "mode": "markers+lines",
           "name": "user_22",
           "type": "scatter",
           "x": [
            "2020-04-17",
            "2020-04-18",
            "2020-04-19",
            "2020-04-22",
            "2020-04-23",
            "2020-04-24",
            "2020-05-03"
           ],
           "y": [
            0,
            0,
            0,
            0,
            0,
            0,
            1
           ]
          },
          {
           "mode": "markers+lines",
           "name": "user_24",
           "type": "scatter",
           "x": [
            "2020-04-17",
            "2020-04-18",
            "2020-04-19",
            "2020-04-22",
            "2020-04-23",
            "2020-04-24",
            "2020-05-03"
           ],
           "y": [
            0,
            0,
            0,
            0,
            0,
            0,
            0
           ]
          },
          {
           "mode": "markers+lines",
           "name": "user_25",
           "type": "scatter",
           "x": [
            "2020-04-17",
            "2020-04-18",
            "2020-04-19",
            "2020-04-22",
            "2020-04-23",
            "2020-04-24",
            "2020-05-03"
           ],
           "y": [
            0,
            0,
            0,
            0,
            0,
            0,
            0
           ]
          },
          {
           "mode": "markers+lines",
           "name": "user_26",
           "type": "scatter",
           "x": [
            "2020-04-17",
            "2020-04-18",
            "2020-04-19",
            "2020-04-22",
            "2020-04-23",
            "2020-04-24",
            "2020-05-03"
           ],
           "y": [
            0,
            0,
            0,
            0,
            0,
            0,
            0
           ]
          },
          {
           "mode": "markers+lines",
           "name": "user_27",
           "type": "scatter",
           "x": [
            "2020-04-17",
            "2020-04-18",
            "2020-04-19",
            "2020-04-22",
            "2020-04-23",
            "2020-04-24",
            "2020-05-03"
           ],
           "y": [
            0,
            0,
            0,
            0,
            0,
            0,
            0
           ]
          },
          {
           "mode": "markers+lines",
           "name": "user_28",
           "type": "scatter",
           "x": [
            "2020-04-17",
            "2020-04-18",
            "2020-04-19",
            "2020-04-22",
            "2020-04-23",
            "2020-04-24",
            "2020-05-03"
           ],
           "y": [
            0,
            0,
            0,
            0,
            0,
            0,
            0
           ]
          },
          {
           "mode": "markers+lines",
           "name": "user_29",
           "type": "scatter",
           "x": [
            "2020-04-17",
            "2020-04-18",
            "2020-04-19",
            "2020-04-22",
            "2020-04-23",
            "2020-04-24",
            "2020-05-03"
           ],
           "y": [
            0,
            0,
            0,
            0,
            0,
            0,
            0
           ]
          },
          {
           "mode": "markers+lines",
           "name": "user_3",
           "type": "scatter",
           "x": [
            "2020-04-17",
            "2020-04-18",
            "2020-04-19",
            "2020-04-22",
            "2020-04-23",
            "2020-04-24",
            "2020-05-03"
           ],
           "y": [
            0,
            0,
            0,
            0,
            0,
            0,
            0
           ]
          },
          {
           "mode": "markers+lines",
           "name": "user_30",
           "type": "scatter",
           "x": [
            "2020-04-17",
            "2020-04-18",
            "2020-04-19",
            "2020-04-22",
            "2020-04-23",
            "2020-04-24",
            "2020-05-03"
           ],
           "y": [
            0,
            0,
            0,
            1,
            2,
            2,
            4
           ]
          },
          {
           "mode": "markers+lines",
           "name": "user_31",
           "type": "scatter",
           "x": [
            "2020-04-17",
            "2020-04-18",
            "2020-04-19",
            "2020-04-22",
            "2020-04-23",
            "2020-04-24",
            "2020-05-03"
           ],
           "y": [
            0,
            0,
            0,
            0,
            0,
            0,
            0
           ]
          },
          {
           "mode": "markers+lines",
           "name": "user_4",
           "type": "scatter",
           "x": [
            "2020-04-17",
            "2020-04-18",
            "2020-04-19",
            "2020-04-22",
            "2020-04-23",
            "2020-04-24",
            "2020-05-03"
           ],
           "y": [
            7,
            7,
            11,
            11,
            20,
            27,
            35
           ]
          },
          {
           "mode": "markers+lines",
           "name": "user_6",
           "type": "scatter",
           "x": [
            "2020-04-17",
            "2020-04-18",
            "2020-04-19",
            "2020-04-22",
            "2020-04-23",
            "2020-04-24",
            "2020-05-03"
           ],
           "y": [
            0,
            0,
            0,
            0,
            0,
            0,
            0
           ]
          },
          {
           "mode": "markers+lines",
           "name": "user_8",
           "type": "scatter",
           "x": [
            "2020-04-17",
            "2020-04-18",
            "2020-04-19",
            "2020-04-22",
            "2020-04-23",
            "2020-04-24",
            "2020-05-03"
           ],
           "y": [
            0,
            0,
            0,
            0,
            0,
            0,
            0
           ]
          }
         ],
         "layout": {
          "title": {
           "text": "Commit Dynamic up to 2020-05-03"
          }
         }
        },
        {
         "data": [
          {
           "mode": "markers+lines",
           "name": "user_1",
           "type": "scatter",
           "x": [
            "2020-04-17",
            "2020-04-18",
            "2020-04-19",
            "2020-04-22",
            "2020-04-23",
            "2020-04-24",
            "2020-05-03",
            "2020-05-04"
           ],
           "y": [
            0,
            0,
            0,
            0,
            0,
            0,
            0,
            0
           ]
          },
          {
           "mode": "markers+lines",
           "name": "user_10",
           "type": "scatter",
           "x": [
            "2020-04-17",
            "2020-04-18",
            "2020-04-19",
            "2020-04-22",
            "2020-04-23",
            "2020-04-24",
            "2020-05-03",
            "2020-05-04"
           ],
           "y": [
            0,
            0,
            0,
            0,
            0,
            0,
            0,
            0
           ]
          },
          {
           "mode": "markers+lines",
           "name": "user_11",
           "type": "scatter",
           "x": [
            "2020-04-17",
            "2020-04-18",
            "2020-04-19",
            "2020-04-22",
            "2020-04-23",
            "2020-04-24",
            "2020-05-03",
            "2020-05-04"
           ],
           "y": [
            0,
            0,
            0,
            0,
            0,
            0,
            1,
            1
           ]
          },
          {
           "mode": "markers+lines",
           "name": "user_12",
           "type": "scatter",
           "x": [
            "2020-04-17",
            "2020-04-18",
            "2020-04-19",
            "2020-04-22",
            "2020-04-23",
            "2020-04-24",
            "2020-05-03",
            "2020-05-04"
           ],
           "y": [
            0,
            0,
            0,
            0,
            0,
            0,
            0,
            0
           ]
          },
          {
           "mode": "markers+lines",
           "name": "user_13",
           "type": "scatter",
           "x": [
            "2020-04-17",
            "2020-04-18",
            "2020-04-19",
            "2020-04-22",
            "2020-04-23",
            "2020-04-24",
            "2020-05-03",
            "2020-05-04"
           ],
           "y": [
            0,
            0,
            0,
            0,
            0,
            0,
            0,
            0
           ]
          },
          {
           "mode": "markers+lines",
           "name": "user_14",
           "type": "scatter",
           "x": [
            "2020-04-17",
            "2020-04-18",
            "2020-04-19",
            "2020-04-22",
            "2020-04-23",
            "2020-04-24",
            "2020-05-03",
            "2020-05-04"
           ],
           "y": [
            0,
            0,
            0,
            0,
            0,
            0,
            0,
            0
           ]
          },
          {
           "mode": "markers+lines",
           "name": "user_15",
           "type": "scatter",
           "x": [
            "2020-04-17",
            "2020-04-18",
            "2020-04-19",
            "2020-04-22",
            "2020-04-23",
            "2020-04-24",
            "2020-05-03",
            "2020-05-04"
           ],
           "y": [
            0,
            0,
            0,
            0,
            0,
            0,
            0,
            0
           ]
          },
          {
           "mode": "markers+lines",
           "name": "user_16",
           "type": "scatter",
           "x": [
            "2020-04-17",
            "2020-04-18",
            "2020-04-19",
            "2020-04-22",
            "2020-04-23",
            "2020-04-24",
            "2020-05-03",
            "2020-05-04"
           ],
           "y": [
            0,
            0,
            0,
            0,
            0,
            0,
            0,
            0
           ]
          },
          {
           "mode": "markers+lines",
           "name": "user_17",
           "type": "scatter",
           "x": [
            "2020-04-17",
            "2020-04-18",
            "2020-04-19",
            "2020-04-22",
            "2020-04-23",
            "2020-04-24",
            "2020-05-03",
            "2020-05-04"
           ],
           "y": [
            0,
            1,
            1,
            1,
            1,
            1,
            1,
            1
           ]
          },
          {
           "mode": "markers+lines",
           "name": "user_18",
           "type": "scatter",
           "x": [
            "2020-04-17",
            "2020-04-18",
            "2020-04-19",
            "2020-04-22",
            "2020-04-23",
            "2020-04-24",
            "2020-05-03",
            "2020-05-04"
           ],
           "y": [
            0,
            0,
            0,
            0,
            0,
            0,
            0,
            0
           ]
          },
          {
           "mode": "markers+lines",
           "name": "user_19",
           "type": "scatter",
           "x": [
            "2020-04-17",
            "2020-04-18",
            "2020-04-19",
            "2020-04-22",
            "2020-04-23",
            "2020-04-24",
            "2020-05-03",
            "2020-05-04"
           ],
           "y": [
            0,
            0,
            0,
            0,
            0,
            0,
            0,
            0
           ]
          },
          {
           "mode": "markers+lines",
           "name": "user_2",
           "type": "scatter",
           "x": [
            "2020-04-17",
            "2020-04-18",
            "2020-04-19",
            "2020-04-22",
            "2020-04-23",
            "2020-04-24",
            "2020-05-03",
            "2020-05-04"
           ],
           "y": [
            0,
            0,
            0,
            0,
            0,
            0,
            0,
            0
           ]
          },
          {
           "mode": "markers+lines",
           "name": "user_20",
           "type": "scatter",
           "x": [
            "2020-04-17",
            "2020-04-18",
            "2020-04-19",
            "2020-04-22",
            "2020-04-23",
            "2020-04-24",
            "2020-05-03",
            "2020-05-04"
           ],
           "y": [
            0,
            0,
            0,
            0,
            0,
            0,
            0,
            0
           ]
          },
          {
           "mode": "markers+lines",
           "name": "user_21",
           "type": "scatter",
           "x": [
            "2020-04-17",
            "2020-04-18",
            "2020-04-19",
            "2020-04-22",
            "2020-04-23",
            "2020-04-24",
            "2020-05-03",
            "2020-05-04"
           ],
           "y": [
            0,
            0,
            0,
            0,
            0,
            0,
            0,
            0
           ]
          },
          {
           "mode": "markers+lines",
           "name": "user_22",
           "type": "scatter",
           "x": [
            "2020-04-17",
            "2020-04-18",
            "2020-04-19",
            "2020-04-22",
            "2020-04-23",
            "2020-04-24",
            "2020-05-03",
            "2020-05-04"
           ],
           "y": [
            0,
            0,
            0,
            0,
            0,
            0,
            1,
            1
           ]
          },
          {
           "mode": "markers+lines",
           "name": "user_24",
           "type": "scatter",
           "x": [
            "2020-04-17",
            "2020-04-18",
            "2020-04-19",
            "2020-04-22",
            "2020-04-23",
            "2020-04-24",
            "2020-05-03",
            "2020-05-04"
           ],
           "y": [
            0,
            0,
            0,
            0,
            0,
            0,
            0,
            0
           ]
          },
          {
           "mode": "markers+lines",
           "name": "user_25",
           "type": "scatter",
           "x": [
            "2020-04-17",
            "2020-04-18",
            "2020-04-19",
            "2020-04-22",
            "2020-04-23",
            "2020-04-24",
            "2020-05-03",
            "2020-05-04"
           ],
           "y": [
            0,
            0,
            0,
            0,
            0,
            0,
            0,
            0
           ]
          },
          {
           "mode": "markers+lines",
           "name": "user_26",
           "type": "scatter",
           "x": [
            "2020-04-17",
            "2020-04-18",
            "2020-04-19",
            "2020-04-22",
            "2020-04-23",
            "2020-04-24",
            "2020-05-03",
            "2020-05-04"
           ],
           "y": [
            0,
            0,
            0,
            0,
            0,
            0,
            0,
            0
           ]
          },
          {
           "mode": "markers+lines",
           "name": "user_27",
           "type": "scatter",
           "x": [
            "2020-04-17",
            "2020-04-18",
            "2020-04-19",
            "2020-04-22",
            "2020-04-23",
            "2020-04-24",
            "2020-05-03",
            "2020-05-04"
           ],
           "y": [
            0,
            0,
            0,
            0,
            0,
            0,
            0,
            0
           ]
          },
          {
           "mode": "markers+lines",
           "name": "user_28",
           "type": "scatter",
           "x": [
            "2020-04-17",
            "2020-04-18",
            "2020-04-19",
            "2020-04-22",
            "2020-04-23",
            "2020-04-24",
            "2020-05-03",
            "2020-05-04"
           ],
           "y": [
            0,
            0,
            0,
            0,
            0,
            0,
            0,
            0
           ]
          },
          {
           "mode": "markers+lines",
           "name": "user_29",
           "type": "scatter",
           "x": [
            "2020-04-17",
            "2020-04-18",
            "2020-04-19",
            "2020-04-22",
            "2020-04-23",
            "2020-04-24",
            "2020-05-03",
            "2020-05-04"
           ],
           "y": [
            0,
            0,
            0,
            0,
            0,
            0,
            0,
            0
           ]
          },
          {
           "mode": "markers+lines",
           "name": "user_3",
           "type": "scatter",
           "x": [
            "2020-04-17",
            "2020-04-18",
            "2020-04-19",
            "2020-04-22",
            "2020-04-23",
            "2020-04-24",
            "2020-05-03",
            "2020-05-04"
           ],
           "y": [
            0,
            0,
            0,
            0,
            0,
            0,
            0,
            0
           ]
          },
          {
           "mode": "markers+lines",
           "name": "user_30",
           "type": "scatter",
           "x": [
            "2020-04-17",
            "2020-04-18",
            "2020-04-19",
            "2020-04-22",
            "2020-04-23",
            "2020-04-24",
            "2020-05-03",
            "2020-05-04"
           ],
           "y": [
            0,
            0,
            0,
            1,
            2,
            2,
            4,
            5
           ]
          },
          {
           "mode": "markers+lines",
           "name": "user_31",
           "type": "scatter",
           "x": [
            "2020-04-17",
            "2020-04-18",
            "2020-04-19",
            "2020-04-22",
            "2020-04-23",
            "2020-04-24",
            "2020-05-03",
            "2020-05-04"
           ],
           "y": [
            0,
            0,
            0,
            0,
            0,
            0,
            0,
            0
           ]
          },
          {
           "mode": "markers+lines",
           "name": "user_4",
           "type": "scatter",
           "x": [
            "2020-04-17",
            "2020-04-18",
            "2020-04-19",
            "2020-04-22",
            "2020-04-23",
            "2020-04-24",
            "2020-05-03",
            "2020-05-04"
           ],
           "y": [
            7,
            7,
            11,
            11,
            20,
            27,
            35,
            48
           ]
          },
          {
           "mode": "markers+lines",
           "name": "user_6",
           "type": "scatter",
           "x": [
            "2020-04-17",
            "2020-04-18",
            "2020-04-19",
            "2020-04-22",
            "2020-04-23",
            "2020-04-24",
            "2020-05-03",
            "2020-05-04"
           ],
           "y": [
            0,
            0,
            0,
            0,
            0,
            0,
            0,
            0
           ]
          },
          {
           "mode": "markers+lines",
           "name": "user_8",
           "type": "scatter",
           "x": [
            "2020-04-17",
            "2020-04-18",
            "2020-04-19",
            "2020-04-22",
            "2020-04-23",
            "2020-04-24",
            "2020-05-03",
            "2020-05-04"
           ],
           "y": [
            0,
            0,
            0,
            0,
            0,
            0,
            0,
            0
           ]
          }
         ],
         "layout": {
          "title": {
           "text": "Commit Dynamic up to 2020-05-04"
          }
         }
        },
        {
         "data": [
          {
           "mode": "markers+lines",
           "name": "user_1",
           "type": "scatter",
           "x": [
            "2020-04-17",
            "2020-04-18",
            "2020-04-19",
            "2020-04-22",
            "2020-04-23",
            "2020-04-24",
            "2020-05-03",
            "2020-05-04",
            "2020-05-05"
           ],
           "y": [
            0,
            0,
            0,
            0,
            0,
            0,
            0,
            0,
            0
           ]
          },
          {
           "mode": "markers+lines",
           "name": "user_10",
           "type": "scatter",
           "x": [
            "2020-04-17",
            "2020-04-18",
            "2020-04-19",
            "2020-04-22",
            "2020-04-23",
            "2020-04-24",
            "2020-05-03",
            "2020-05-04",
            "2020-05-05"
           ],
           "y": [
            0,
            0,
            0,
            0,
            0,
            0,
            0,
            0,
            0
           ]
          },
          {
           "mode": "markers+lines",
           "name": "user_11",
           "type": "scatter",
           "x": [
            "2020-04-17",
            "2020-04-18",
            "2020-04-19",
            "2020-04-22",
            "2020-04-23",
            "2020-04-24",
            "2020-05-03",
            "2020-05-04",
            "2020-05-05"
           ],
           "y": [
            0,
            0,
            0,
            0,
            0,
            0,
            1,
            1,
            1
           ]
          },
          {
           "mode": "markers+lines",
           "name": "user_12",
           "type": "scatter",
           "x": [
            "2020-04-17",
            "2020-04-18",
            "2020-04-19",
            "2020-04-22",
            "2020-04-23",
            "2020-04-24",
            "2020-05-03",
            "2020-05-04",
            "2020-05-05"
           ],
           "y": [
            0,
            0,
            0,
            0,
            0,
            0,
            0,
            0,
            0
           ]
          },
          {
           "mode": "markers+lines",
           "name": "user_13",
           "type": "scatter",
           "x": [
            "2020-04-17",
            "2020-04-18",
            "2020-04-19",
            "2020-04-22",
            "2020-04-23",
            "2020-04-24",
            "2020-05-03",
            "2020-05-04",
            "2020-05-05"
           ],
           "y": [
            0,
            0,
            0,
            0,
            0,
            0,
            0,
            0,
            0
           ]
          },
          {
           "mode": "markers+lines",
           "name": "user_14",
           "type": "scatter",
           "x": [
            "2020-04-17",
            "2020-04-18",
            "2020-04-19",
            "2020-04-22",
            "2020-04-23",
            "2020-04-24",
            "2020-05-03",
            "2020-05-04",
            "2020-05-05"
           ],
           "y": [
            0,
            0,
            0,
            0,
            0,
            0,
            0,
            0,
            1
           ]
          },
          {
           "mode": "markers+lines",
           "name": "user_15",
           "type": "scatter",
           "x": [
            "2020-04-17",
            "2020-04-18",
            "2020-04-19",
            "2020-04-22",
            "2020-04-23",
            "2020-04-24",
            "2020-05-03",
            "2020-05-04",
            "2020-05-05"
           ],
           "y": [
            0,
            0,
            0,
            0,
            0,
            0,
            0,
            0,
            0
           ]
          },
          {
           "mode": "markers+lines",
           "name": "user_16",
           "type": "scatter",
           "x": [
            "2020-04-17",
            "2020-04-18",
            "2020-04-19",
            "2020-04-22",
            "2020-04-23",
            "2020-04-24",
            "2020-05-03",
            "2020-05-04",
            "2020-05-05"
           ],
           "y": [
            0,
            0,
            0,
            0,
            0,
            0,
            0,
            0,
            0
           ]
          },
          {
           "mode": "markers+lines",
           "name": "user_17",
           "type": "scatter",
           "x": [
            "2020-04-17",
            "2020-04-18",
            "2020-04-19",
            "2020-04-22",
            "2020-04-23",
            "2020-04-24",
            "2020-05-03",
            "2020-05-04",
            "2020-05-05"
           ],
           "y": [
            0,
            1,
            1,
            1,
            1,
            1,
            1,
            1,
            1
           ]
          },
          {
           "mode": "markers+lines",
           "name": "user_18",
           "type": "scatter",
           "x": [
            "2020-04-17",
            "2020-04-18",
            "2020-04-19",
            "2020-04-22",
            "2020-04-23",
            "2020-04-24",
            "2020-05-03",
            "2020-05-04",
            "2020-05-05"
           ],
           "y": [
            0,
            0,
            0,
            0,
            0,
            0,
            0,
            0,
            0
           ]
          },
          {
           "mode": "markers+lines",
           "name": "user_19",
           "type": "scatter",
           "x": [
            "2020-04-17",
            "2020-04-18",
            "2020-04-19",
            "2020-04-22",
            "2020-04-23",
            "2020-04-24",
            "2020-05-03",
            "2020-05-04",
            "2020-05-05"
           ],
           "y": [
            0,
            0,
            0,
            0,
            0,
            0,
            0,
            0,
            0
           ]
          },
          {
           "mode": "markers+lines",
           "name": "user_2",
           "type": "scatter",
           "x": [
            "2020-04-17",
            "2020-04-18",
            "2020-04-19",
            "2020-04-22",
            "2020-04-23",
            "2020-04-24",
            "2020-05-03",
            "2020-05-04",
            "2020-05-05"
           ],
           "y": [
            0,
            0,
            0,
            0,
            0,
            0,
            0,
            0,
            57
           ]
          },
          {
           "mode": "markers+lines",
           "name": "user_20",
           "type": "scatter",
           "x": [
            "2020-04-17",
            "2020-04-18",
            "2020-04-19",
            "2020-04-22",
            "2020-04-23",
            "2020-04-24",
            "2020-05-03",
            "2020-05-04",
            "2020-05-05"
           ],
           "y": [
            0,
            0,
            0,
            0,
            0,
            0,
            0,
            0,
            0
           ]
          },
          {
           "mode": "markers+lines",
           "name": "user_21",
           "type": "scatter",
           "x": [
            "2020-04-17",
            "2020-04-18",
            "2020-04-19",
            "2020-04-22",
            "2020-04-23",
            "2020-04-24",
            "2020-05-03",
            "2020-05-04",
            "2020-05-05"
           ],
           "y": [
            0,
            0,
            0,
            0,
            0,
            0,
            0,
            0,
            0
           ]
          },
          {
           "mode": "markers+lines",
           "name": "user_22",
           "type": "scatter",
           "x": [
            "2020-04-17",
            "2020-04-18",
            "2020-04-19",
            "2020-04-22",
            "2020-04-23",
            "2020-04-24",
            "2020-05-03",
            "2020-05-04",
            "2020-05-05"
           ],
           "y": [
            0,
            0,
            0,
            0,
            0,
            0,
            1,
            1,
            1
           ]
          },
          {
           "mode": "markers+lines",
           "name": "user_24",
           "type": "scatter",
           "x": [
            "2020-04-17",
            "2020-04-18",
            "2020-04-19",
            "2020-04-22",
            "2020-04-23",
            "2020-04-24",
            "2020-05-03",
            "2020-05-04",
            "2020-05-05"
           ],
           "y": [
            0,
            0,
            0,
            0,
            0,
            0,
            0,
            0,
            0
           ]
          },
          {
           "mode": "markers+lines",
           "name": "user_25",
           "type": "scatter",
           "x": [
            "2020-04-17",
            "2020-04-18",
            "2020-04-19",
            "2020-04-22",
            "2020-04-23",
            "2020-04-24",
            "2020-05-03",
            "2020-05-04",
            "2020-05-05"
           ],
           "y": [
            0,
            0,
            0,
            0,
            0,
            0,
            0,
            0,
            0
           ]
          },
          {
           "mode": "markers+lines",
           "name": "user_26",
           "type": "scatter",
           "x": [
            "2020-04-17",
            "2020-04-18",
            "2020-04-19",
            "2020-04-22",
            "2020-04-23",
            "2020-04-24",
            "2020-05-03",
            "2020-05-04",
            "2020-05-05"
           ],
           "y": [
            0,
            0,
            0,
            0,
            0,
            0,
            0,
            0,
            0
           ]
          },
          {
           "mode": "markers+lines",
           "name": "user_27",
           "type": "scatter",
           "x": [
            "2020-04-17",
            "2020-04-18",
            "2020-04-19",
            "2020-04-22",
            "2020-04-23",
            "2020-04-24",
            "2020-05-03",
            "2020-05-04",
            "2020-05-05"
           ],
           "y": [
            0,
            0,
            0,
            0,
            0,
            0,
            0,
            0,
            0
           ]
          },
          {
           "mode": "markers+lines",
           "name": "user_28",
           "type": "scatter",
           "x": [
            "2020-04-17",
            "2020-04-18",
            "2020-04-19",
            "2020-04-22",
            "2020-04-23",
            "2020-04-24",
            "2020-05-03",
            "2020-05-04",
            "2020-05-05"
           ],
           "y": [
            0,
            0,
            0,
            0,
            0,
            0,
            0,
            0,
            0
           ]
          },
          {
           "mode": "markers+lines",
           "name": "user_29",
           "type": "scatter",
           "x": [
            "2020-04-17",
            "2020-04-18",
            "2020-04-19",
            "2020-04-22",
            "2020-04-23",
            "2020-04-24",
            "2020-05-03",
            "2020-05-04",
            "2020-05-05"
           ],
           "y": [
            0,
            0,
            0,
            0,
            0,
            0,
            0,
            0,
            0
           ]
          },
          {
           "mode": "markers+lines",
           "name": "user_3",
           "type": "scatter",
           "x": [
            "2020-04-17",
            "2020-04-18",
            "2020-04-19",
            "2020-04-22",
            "2020-04-23",
            "2020-04-24",
            "2020-05-03",
            "2020-05-04",
            "2020-05-05"
           ],
           "y": [
            0,
            0,
            0,
            0,
            0,
            0,
            0,
            0,
            0
           ]
          },
          {
           "mode": "markers+lines",
           "name": "user_30",
           "type": "scatter",
           "x": [
            "2020-04-17",
            "2020-04-18",
            "2020-04-19",
            "2020-04-22",
            "2020-04-23",
            "2020-04-24",
            "2020-05-03",
            "2020-05-04",
            "2020-05-05"
           ],
           "y": [
            0,
            0,
            0,
            1,
            2,
            2,
            4,
            5,
            5
           ]
          },
          {
           "mode": "markers+lines",
           "name": "user_31",
           "type": "scatter",
           "x": [
            "2020-04-17",
            "2020-04-18",
            "2020-04-19",
            "2020-04-22",
            "2020-04-23",
            "2020-04-24",
            "2020-05-03",
            "2020-05-04",
            "2020-05-05"
           ],
           "y": [
            0,
            0,
            0,
            0,
            0,
            0,
            0,
            0,
            0
           ]
          },
          {
           "mode": "markers+lines",
           "name": "user_4",
           "type": "scatter",
           "x": [
            "2020-04-17",
            "2020-04-18",
            "2020-04-19",
            "2020-04-22",
            "2020-04-23",
            "2020-04-24",
            "2020-05-03",
            "2020-05-04",
            "2020-05-05"
           ],
           "y": [
            7,
            7,
            11,
            11,
            20,
            27,
            35,
            48,
            53
           ]
          },
          {
           "mode": "markers+lines",
           "name": "user_6",
           "type": "scatter",
           "x": [
            "2020-04-17",
            "2020-04-18",
            "2020-04-19",
            "2020-04-22",
            "2020-04-23",
            "2020-04-24",
            "2020-05-03",
            "2020-05-04",
            "2020-05-05"
           ],
           "y": [
            0,
            0,
            0,
            0,
            0,
            0,
            0,
            0,
            0
           ]
          },
          {
           "mode": "markers+lines",
           "name": "user_8",
           "type": "scatter",
           "x": [
            "2020-04-17",
            "2020-04-18",
            "2020-04-19",
            "2020-04-22",
            "2020-04-23",
            "2020-04-24",
            "2020-05-03",
            "2020-05-04",
            "2020-05-05"
           ],
           "y": [
            0,
            0,
            0,
            0,
            0,
            0,
            0,
            0,
            0
           ]
          }
         ],
         "layout": {
          "title": {
           "text": "Commit Dynamic up to 2020-05-05"
          }
         }
        },
        {
         "data": [
          {
           "mode": "markers+lines",
           "name": "user_1",
           "type": "scatter",
           "x": [
            "2020-04-17",
            "2020-04-18",
            "2020-04-19",
            "2020-04-22",
            "2020-04-23",
            "2020-04-24",
            "2020-05-03",
            "2020-05-04",
            "2020-05-05",
            "2020-05-06"
           ],
           "y": [
            0,
            0,
            0,
            0,
            0,
            0,
            0,
            0,
            0,
            0
           ]
          },
          {
           "mode": "markers+lines",
           "name": "user_10",
           "type": "scatter",
           "x": [
            "2020-04-17",
            "2020-04-18",
            "2020-04-19",
            "2020-04-22",
            "2020-04-23",
            "2020-04-24",
            "2020-05-03",
            "2020-05-04",
            "2020-05-05",
            "2020-05-06"
           ],
           "y": [
            0,
            0,
            0,
            0,
            0,
            0,
            0,
            0,
            0,
            0
           ]
          },
          {
           "mode": "markers+lines",
           "name": "user_11",
           "type": "scatter",
           "x": [
            "2020-04-17",
            "2020-04-18",
            "2020-04-19",
            "2020-04-22",
            "2020-04-23",
            "2020-04-24",
            "2020-05-03",
            "2020-05-04",
            "2020-05-05",
            "2020-05-06"
           ],
           "y": [
            0,
            0,
            0,
            0,
            0,
            0,
            1,
            1,
            1,
            1
           ]
          },
          {
           "mode": "markers+lines",
           "name": "user_12",
           "type": "scatter",
           "x": [
            "2020-04-17",
            "2020-04-18",
            "2020-04-19",
            "2020-04-22",
            "2020-04-23",
            "2020-04-24",
            "2020-05-03",
            "2020-05-04",
            "2020-05-05",
            "2020-05-06"
           ],
           "y": [
            0,
            0,
            0,
            0,
            0,
            0,
            0,
            0,
            0,
            0
           ]
          },
          {
           "mode": "markers+lines",
           "name": "user_13",
           "type": "scatter",
           "x": [
            "2020-04-17",
            "2020-04-18",
            "2020-04-19",
            "2020-04-22",
            "2020-04-23",
            "2020-04-24",
            "2020-05-03",
            "2020-05-04",
            "2020-05-05",
            "2020-05-06"
           ],
           "y": [
            0,
            0,
            0,
            0,
            0,
            0,
            0,
            0,
            0,
            0
           ]
          },
          {
           "mode": "markers+lines",
           "name": "user_14",
           "type": "scatter",
           "x": [
            "2020-04-17",
            "2020-04-18",
            "2020-04-19",
            "2020-04-22",
            "2020-04-23",
            "2020-04-24",
            "2020-05-03",
            "2020-05-04",
            "2020-05-05",
            "2020-05-06"
           ],
           "y": [
            0,
            0,
            0,
            0,
            0,
            0,
            0,
            0,
            1,
            1
           ]
          },
          {
           "mode": "markers+lines",
           "name": "user_15",
           "type": "scatter",
           "x": [
            "2020-04-17",
            "2020-04-18",
            "2020-04-19",
            "2020-04-22",
            "2020-04-23",
            "2020-04-24",
            "2020-05-03",
            "2020-05-04",
            "2020-05-05",
            "2020-05-06"
           ],
           "y": [
            0,
            0,
            0,
            0,
            0,
            0,
            0,
            0,
            0,
            0
           ]
          },
          {
           "mode": "markers+lines",
           "name": "user_16",
           "type": "scatter",
           "x": [
            "2020-04-17",
            "2020-04-18",
            "2020-04-19",
            "2020-04-22",
            "2020-04-23",
            "2020-04-24",
            "2020-05-03",
            "2020-05-04",
            "2020-05-05",
            "2020-05-06"
           ],
           "y": [
            0,
            0,
            0,
            0,
            0,
            0,
            0,
            0,
            0,
            0
           ]
          },
          {
           "mode": "markers+lines",
           "name": "user_17",
           "type": "scatter",
           "x": [
            "2020-04-17",
            "2020-04-18",
            "2020-04-19",
            "2020-04-22",
            "2020-04-23",
            "2020-04-24",
            "2020-05-03",
            "2020-05-04",
            "2020-05-05",
            "2020-05-06"
           ],
           "y": [
            0,
            1,
            1,
            1,
            1,
            1,
            1,
            1,
            1,
            1
           ]
          },
          {
           "mode": "markers+lines",
           "name": "user_18",
           "type": "scatter",
           "x": [
            "2020-04-17",
            "2020-04-18",
            "2020-04-19",
            "2020-04-22",
            "2020-04-23",
            "2020-04-24",
            "2020-05-03",
            "2020-05-04",
            "2020-05-05",
            "2020-05-06"
           ],
           "y": [
            0,
            0,
            0,
            0,
            0,
            0,
            0,
            0,
            0,
            0
           ]
          },
          {
           "mode": "markers+lines",
           "name": "user_19",
           "type": "scatter",
           "x": [
            "2020-04-17",
            "2020-04-18",
            "2020-04-19",
            "2020-04-22",
            "2020-04-23",
            "2020-04-24",
            "2020-05-03",
            "2020-05-04",
            "2020-05-05",
            "2020-05-06"
           ],
           "y": [
            0,
            0,
            0,
            0,
            0,
            0,
            0,
            0,
            0,
            0
           ]
          },
          {
           "mode": "markers+lines",
           "name": "user_2",
           "type": "scatter",
           "x": [
            "2020-04-17",
            "2020-04-18",
            "2020-04-19",
            "2020-04-22",
            "2020-04-23",
            "2020-04-24",
            "2020-05-03",
            "2020-05-04",
            "2020-05-05",
            "2020-05-06"
           ],
           "y": [
            0,
            0,
            0,
            0,
            0,
            0,
            0,
            0,
            57,
            58
           ]
          },
          {
           "mode": "markers+lines",
           "name": "user_20",
           "type": "scatter",
           "x": [
            "2020-04-17",
            "2020-04-18",
            "2020-04-19",
            "2020-04-22",
            "2020-04-23",
            "2020-04-24",
            "2020-05-03",
            "2020-05-04",
            "2020-05-05",
            "2020-05-06"
           ],
           "y": [
            0,
            0,
            0,
            0,
            0,
            0,
            0,
            0,
            0,
            0
           ]
          },
          {
           "mode": "markers+lines",
           "name": "user_21",
           "type": "scatter",
           "x": [
            "2020-04-17",
            "2020-04-18",
            "2020-04-19",
            "2020-04-22",
            "2020-04-23",
            "2020-04-24",
            "2020-05-03",
            "2020-05-04",
            "2020-05-05",
            "2020-05-06"
           ],
           "y": [
            0,
            0,
            0,
            0,
            0,
            0,
            0,
            0,
            0,
            0
           ]
          },
          {
           "mode": "markers+lines",
           "name": "user_22",
           "type": "scatter",
           "x": [
            "2020-04-17",
            "2020-04-18",
            "2020-04-19",
            "2020-04-22",
            "2020-04-23",
            "2020-04-24",
            "2020-05-03",
            "2020-05-04",
            "2020-05-05",
            "2020-05-06"
           ],
           "y": [
            0,
            0,
            0,
            0,
            0,
            0,
            1,
            1,
            1,
            1
           ]
          },
          {
           "mode": "markers+lines",
           "name": "user_24",
           "type": "scatter",
           "x": [
            "2020-04-17",
            "2020-04-18",
            "2020-04-19",
            "2020-04-22",
            "2020-04-23",
            "2020-04-24",
            "2020-05-03",
            "2020-05-04",
            "2020-05-05",
            "2020-05-06"
           ],
           "y": [
            0,
            0,
            0,
            0,
            0,
            0,
            0,
            0,
            0,
            0
           ]
          },
          {
           "mode": "markers+lines",
           "name": "user_25",
           "type": "scatter",
           "x": [
            "2020-04-17",
            "2020-04-18",
            "2020-04-19",
            "2020-04-22",
            "2020-04-23",
            "2020-04-24",
            "2020-05-03",
            "2020-05-04",
            "2020-05-05",
            "2020-05-06"
           ],
           "y": [
            0,
            0,
            0,
            0,
            0,
            0,
            0,
            0,
            0,
            0
           ]
          },
          {
           "mode": "markers+lines",
           "name": "user_26",
           "type": "scatter",
           "x": [
            "2020-04-17",
            "2020-04-18",
            "2020-04-19",
            "2020-04-22",
            "2020-04-23",
            "2020-04-24",
            "2020-05-03",
            "2020-05-04",
            "2020-05-05",
            "2020-05-06"
           ],
           "y": [
            0,
            0,
            0,
            0,
            0,
            0,
            0,
            0,
            0,
            0
           ]
          },
          {
           "mode": "markers+lines",
           "name": "user_27",
           "type": "scatter",
           "x": [
            "2020-04-17",
            "2020-04-18",
            "2020-04-19",
            "2020-04-22",
            "2020-04-23",
            "2020-04-24",
            "2020-05-03",
            "2020-05-04",
            "2020-05-05",
            "2020-05-06"
           ],
           "y": [
            0,
            0,
            0,
            0,
            0,
            0,
            0,
            0,
            0,
            0
           ]
          },
          {
           "mode": "markers+lines",
           "name": "user_28",
           "type": "scatter",
           "x": [
            "2020-04-17",
            "2020-04-18",
            "2020-04-19",
            "2020-04-22",
            "2020-04-23",
            "2020-04-24",
            "2020-05-03",
            "2020-05-04",
            "2020-05-05",
            "2020-05-06"
           ],
           "y": [
            0,
            0,
            0,
            0,
            0,
            0,
            0,
            0,
            0,
            0
           ]
          },
          {
           "mode": "markers+lines",
           "name": "user_29",
           "type": "scatter",
           "x": [
            "2020-04-17",
            "2020-04-18",
            "2020-04-19",
            "2020-04-22",
            "2020-04-23",
            "2020-04-24",
            "2020-05-03",
            "2020-05-04",
            "2020-05-05",
            "2020-05-06"
           ],
           "y": [
            0,
            0,
            0,
            0,
            0,
            0,
            0,
            0,
            0,
            0
           ]
          },
          {
           "mode": "markers+lines",
           "name": "user_3",
           "type": "scatter",
           "x": [
            "2020-04-17",
            "2020-04-18",
            "2020-04-19",
            "2020-04-22",
            "2020-04-23",
            "2020-04-24",
            "2020-05-03",
            "2020-05-04",
            "2020-05-05",
            "2020-05-06"
           ],
           "y": [
            0,
            0,
            0,
            0,
            0,
            0,
            0,
            0,
            0,
            0
           ]
          },
          {
           "mode": "markers+lines",
           "name": "user_30",
           "type": "scatter",
           "x": [
            "2020-04-17",
            "2020-04-18",
            "2020-04-19",
            "2020-04-22",
            "2020-04-23",
            "2020-04-24",
            "2020-05-03",
            "2020-05-04",
            "2020-05-05",
            "2020-05-06"
           ],
           "y": [
            0,
            0,
            0,
            1,
            2,
            2,
            4,
            5,
            5,
            5
           ]
          },
          {
           "mode": "markers+lines",
           "name": "user_31",
           "type": "scatter",
           "x": [
            "2020-04-17",
            "2020-04-18",
            "2020-04-19",
            "2020-04-22",
            "2020-04-23",
            "2020-04-24",
            "2020-05-03",
            "2020-05-04",
            "2020-05-05",
            "2020-05-06"
           ],
           "y": [
            0,
            0,
            0,
            0,
            0,
            0,
            0,
            0,
            0,
            0
           ]
          },
          {
           "mode": "markers+lines",
           "name": "user_4",
           "type": "scatter",
           "x": [
            "2020-04-17",
            "2020-04-18",
            "2020-04-19",
            "2020-04-22",
            "2020-04-23",
            "2020-04-24",
            "2020-05-03",
            "2020-05-04",
            "2020-05-05",
            "2020-05-06"
           ],
           "y": [
            7,
            7,
            11,
            11,
            20,
            27,
            35,
            48,
            53,
            53
           ]
          },
          {
           "mode": "markers+lines",
           "name": "user_6",
           "type": "scatter",
           "x": [
            "2020-04-17",
            "2020-04-18",
            "2020-04-19",
            "2020-04-22",
            "2020-04-23",
            "2020-04-24",
            "2020-05-03",
            "2020-05-04",
            "2020-05-05",
            "2020-05-06"
           ],
           "y": [
            0,
            0,
            0,
            0,
            0,
            0,
            0,
            0,
            0,
            0
           ]
          },
          {
           "mode": "markers+lines",
           "name": "user_8",
           "type": "scatter",
           "x": [
            "2020-04-17",
            "2020-04-18",
            "2020-04-19",
            "2020-04-22",
            "2020-04-23",
            "2020-04-24",
            "2020-05-03",
            "2020-05-04",
            "2020-05-05",
            "2020-05-06"
           ],
           "y": [
            0,
            0,
            0,
            0,
            0,
            0,
            0,
            0,
            0,
            0
           ]
          }
         ],
         "layout": {
          "title": {
           "text": "Commit Dynamic up to 2020-05-06"
          }
         }
        },
        {
         "data": [
          {
           "mode": "markers+lines",
           "name": "user_1",
           "type": "scatter",
           "x": [
            "2020-04-17",
            "2020-04-18",
            "2020-04-19",
            "2020-04-22",
            "2020-04-23",
            "2020-04-24",
            "2020-05-03",
            "2020-05-04",
            "2020-05-05",
            "2020-05-06",
            "2020-05-07"
           ],
           "y": [
            0,
            0,
            0,
            0,
            0,
            0,
            0,
            0,
            0,
            0,
            0
           ]
          },
          {
           "mode": "markers+lines",
           "name": "user_10",
           "type": "scatter",
           "x": [
            "2020-04-17",
            "2020-04-18",
            "2020-04-19",
            "2020-04-22",
            "2020-04-23",
            "2020-04-24",
            "2020-05-03",
            "2020-05-04",
            "2020-05-05",
            "2020-05-06",
            "2020-05-07"
           ],
           "y": [
            0,
            0,
            0,
            0,
            0,
            0,
            0,
            0,
            0,
            0,
            0
           ]
          },
          {
           "mode": "markers+lines",
           "name": "user_11",
           "type": "scatter",
           "x": [
            "2020-04-17",
            "2020-04-18",
            "2020-04-19",
            "2020-04-22",
            "2020-04-23",
            "2020-04-24",
            "2020-05-03",
            "2020-05-04",
            "2020-05-05",
            "2020-05-06",
            "2020-05-07"
           ],
           "y": [
            0,
            0,
            0,
            0,
            0,
            0,
            1,
            1,
            1,
            1,
            1
           ]
          },
          {
           "mode": "markers+lines",
           "name": "user_12",
           "type": "scatter",
           "x": [
            "2020-04-17",
            "2020-04-18",
            "2020-04-19",
            "2020-04-22",
            "2020-04-23",
            "2020-04-24",
            "2020-05-03",
            "2020-05-04",
            "2020-05-05",
            "2020-05-06",
            "2020-05-07"
           ],
           "y": [
            0,
            0,
            0,
            0,
            0,
            0,
            0,
            0,
            0,
            0,
            0
           ]
          },
          {
           "mode": "markers+lines",
           "name": "user_13",
           "type": "scatter",
           "x": [
            "2020-04-17",
            "2020-04-18",
            "2020-04-19",
            "2020-04-22",
            "2020-04-23",
            "2020-04-24",
            "2020-05-03",
            "2020-05-04",
            "2020-05-05",
            "2020-05-06",
            "2020-05-07"
           ],
           "y": [
            0,
            0,
            0,
            0,
            0,
            0,
            0,
            0,
            0,
            0,
            0
           ]
          },
          {
           "mode": "markers+lines",
           "name": "user_14",
           "type": "scatter",
           "x": [
            "2020-04-17",
            "2020-04-18",
            "2020-04-19",
            "2020-04-22",
            "2020-04-23",
            "2020-04-24",
            "2020-05-03",
            "2020-05-04",
            "2020-05-05",
            "2020-05-06",
            "2020-05-07"
           ],
           "y": [
            0,
            0,
            0,
            0,
            0,
            0,
            0,
            0,
            1,
            1,
            1
           ]
          },
          {
           "mode": "markers+lines",
           "name": "user_15",
           "type": "scatter",
           "x": [
            "2020-04-17",
            "2020-04-18",
            "2020-04-19",
            "2020-04-22",
            "2020-04-23",
            "2020-04-24",
            "2020-05-03",
            "2020-05-04",
            "2020-05-05",
            "2020-05-06",
            "2020-05-07"
           ],
           "y": [
            0,
            0,
            0,
            0,
            0,
            0,
            0,
            0,
            0,
            0,
            0
           ]
          },
          {
           "mode": "markers+lines",
           "name": "user_16",
           "type": "scatter",
           "x": [
            "2020-04-17",
            "2020-04-18",
            "2020-04-19",
            "2020-04-22",
            "2020-04-23",
            "2020-04-24",
            "2020-05-03",
            "2020-05-04",
            "2020-05-05",
            "2020-05-06",
            "2020-05-07"
           ],
           "y": [
            0,
            0,
            0,
            0,
            0,
            0,
            0,
            0,
            0,
            0,
            0
           ]
          },
          {
           "mode": "markers+lines",
           "name": "user_17",
           "type": "scatter",
           "x": [
            "2020-04-17",
            "2020-04-18",
            "2020-04-19",
            "2020-04-22",
            "2020-04-23",
            "2020-04-24",
            "2020-05-03",
            "2020-05-04",
            "2020-05-05",
            "2020-05-06",
            "2020-05-07"
           ],
           "y": [
            0,
            1,
            1,
            1,
            1,
            1,
            1,
            1,
            1,
            1,
            1
           ]
          },
          {
           "mode": "markers+lines",
           "name": "user_18",
           "type": "scatter",
           "x": [
            "2020-04-17",
            "2020-04-18",
            "2020-04-19",
            "2020-04-22",
            "2020-04-23",
            "2020-04-24",
            "2020-05-03",
            "2020-05-04",
            "2020-05-05",
            "2020-05-06",
            "2020-05-07"
           ],
           "y": [
            0,
            0,
            0,
            0,
            0,
            0,
            0,
            0,
            0,
            0,
            0
           ]
          },
          {
           "mode": "markers+lines",
           "name": "user_19",
           "type": "scatter",
           "x": [
            "2020-04-17",
            "2020-04-18",
            "2020-04-19",
            "2020-04-22",
            "2020-04-23",
            "2020-04-24",
            "2020-05-03",
            "2020-05-04",
            "2020-05-05",
            "2020-05-06",
            "2020-05-07"
           ],
           "y": [
            0,
            0,
            0,
            0,
            0,
            0,
            0,
            0,
            0,
            0,
            0
           ]
          },
          {
           "mode": "markers+lines",
           "name": "user_2",
           "type": "scatter",
           "x": [
            "2020-04-17",
            "2020-04-18",
            "2020-04-19",
            "2020-04-22",
            "2020-04-23",
            "2020-04-24",
            "2020-05-03",
            "2020-05-04",
            "2020-05-05",
            "2020-05-06",
            "2020-05-07"
           ],
           "y": [
            0,
            0,
            0,
            0,
            0,
            0,
            0,
            0,
            57,
            58,
            58
           ]
          },
          {
           "mode": "markers+lines",
           "name": "user_20",
           "type": "scatter",
           "x": [
            "2020-04-17",
            "2020-04-18",
            "2020-04-19",
            "2020-04-22",
            "2020-04-23",
            "2020-04-24",
            "2020-05-03",
            "2020-05-04",
            "2020-05-05",
            "2020-05-06",
            "2020-05-07"
           ],
           "y": [
            0,
            0,
            0,
            0,
            0,
            0,
            0,
            0,
            0,
            0,
            0
           ]
          },
          {
           "mode": "markers+lines",
           "name": "user_21",
           "type": "scatter",
           "x": [
            "2020-04-17",
            "2020-04-18",
            "2020-04-19",
            "2020-04-22",
            "2020-04-23",
            "2020-04-24",
            "2020-05-03",
            "2020-05-04",
            "2020-05-05",
            "2020-05-06",
            "2020-05-07"
           ],
           "y": [
            0,
            0,
            0,
            0,
            0,
            0,
            0,
            0,
            0,
            0,
            0
           ]
          },
          {
           "mode": "markers+lines",
           "name": "user_22",
           "type": "scatter",
           "x": [
            "2020-04-17",
            "2020-04-18",
            "2020-04-19",
            "2020-04-22",
            "2020-04-23",
            "2020-04-24",
            "2020-05-03",
            "2020-05-04",
            "2020-05-05",
            "2020-05-06",
            "2020-05-07"
           ],
           "y": [
            0,
            0,
            0,
            0,
            0,
            0,
            1,
            1,
            1,
            1,
            1
           ]
          },
          {
           "mode": "markers+lines",
           "name": "user_24",
           "type": "scatter",
           "x": [
            "2020-04-17",
            "2020-04-18",
            "2020-04-19",
            "2020-04-22",
            "2020-04-23",
            "2020-04-24",
            "2020-05-03",
            "2020-05-04",
            "2020-05-05",
            "2020-05-06",
            "2020-05-07"
           ],
           "y": [
            0,
            0,
            0,
            0,
            0,
            0,
            0,
            0,
            0,
            0,
            0
           ]
          },
          {
           "mode": "markers+lines",
           "name": "user_25",
           "type": "scatter",
           "x": [
            "2020-04-17",
            "2020-04-18",
            "2020-04-19",
            "2020-04-22",
            "2020-04-23",
            "2020-04-24",
            "2020-05-03",
            "2020-05-04",
            "2020-05-05",
            "2020-05-06",
            "2020-05-07"
           ],
           "y": [
            0,
            0,
            0,
            0,
            0,
            0,
            0,
            0,
            0,
            0,
            0
           ]
          },
          {
           "mode": "markers+lines",
           "name": "user_26",
           "type": "scatter",
           "x": [
            "2020-04-17",
            "2020-04-18",
            "2020-04-19",
            "2020-04-22",
            "2020-04-23",
            "2020-04-24",
            "2020-05-03",
            "2020-05-04",
            "2020-05-05",
            "2020-05-06",
            "2020-05-07"
           ],
           "y": [
            0,
            0,
            0,
            0,
            0,
            0,
            0,
            0,
            0,
            0,
            0
           ]
          },
          {
           "mode": "markers+lines",
           "name": "user_27",
           "type": "scatter",
           "x": [
            "2020-04-17",
            "2020-04-18",
            "2020-04-19",
            "2020-04-22",
            "2020-04-23",
            "2020-04-24",
            "2020-05-03",
            "2020-05-04",
            "2020-05-05",
            "2020-05-06",
            "2020-05-07"
           ],
           "y": [
            0,
            0,
            0,
            0,
            0,
            0,
            0,
            0,
            0,
            0,
            0
           ]
          },
          {
           "mode": "markers+lines",
           "name": "user_28",
           "type": "scatter",
           "x": [
            "2020-04-17",
            "2020-04-18",
            "2020-04-19",
            "2020-04-22",
            "2020-04-23",
            "2020-04-24",
            "2020-05-03",
            "2020-05-04",
            "2020-05-05",
            "2020-05-06",
            "2020-05-07"
           ],
           "y": [
            0,
            0,
            0,
            0,
            0,
            0,
            0,
            0,
            0,
            0,
            0
           ]
          },
          {
           "mode": "markers+lines",
           "name": "user_29",
           "type": "scatter",
           "x": [
            "2020-04-17",
            "2020-04-18",
            "2020-04-19",
            "2020-04-22",
            "2020-04-23",
            "2020-04-24",
            "2020-05-03",
            "2020-05-04",
            "2020-05-05",
            "2020-05-06",
            "2020-05-07"
           ],
           "y": [
            0,
            0,
            0,
            0,
            0,
            0,
            0,
            0,
            0,
            0,
            0
           ]
          },
          {
           "mode": "markers+lines",
           "name": "user_3",
           "type": "scatter",
           "x": [
            "2020-04-17",
            "2020-04-18",
            "2020-04-19",
            "2020-04-22",
            "2020-04-23",
            "2020-04-24",
            "2020-05-03",
            "2020-05-04",
            "2020-05-05",
            "2020-05-06",
            "2020-05-07"
           ],
           "y": [
            0,
            0,
            0,
            0,
            0,
            0,
            0,
            0,
            0,
            0,
            1
           ]
          },
          {
           "mode": "markers+lines",
           "name": "user_30",
           "type": "scatter",
           "x": [
            "2020-04-17",
            "2020-04-18",
            "2020-04-19",
            "2020-04-22",
            "2020-04-23",
            "2020-04-24",
            "2020-05-03",
            "2020-05-04",
            "2020-05-05",
            "2020-05-06",
            "2020-05-07"
           ],
           "y": [
            0,
            0,
            0,
            1,
            2,
            2,
            4,
            5,
            5,
            5,
            12
           ]
          },
          {
           "mode": "markers+lines",
           "name": "user_31",
           "type": "scatter",
           "x": [
            "2020-04-17",
            "2020-04-18",
            "2020-04-19",
            "2020-04-22",
            "2020-04-23",
            "2020-04-24",
            "2020-05-03",
            "2020-05-04",
            "2020-05-05",
            "2020-05-06",
            "2020-05-07"
           ],
           "y": [
            0,
            0,
            0,
            0,
            0,
            0,
            0,
            0,
            0,
            0,
            1
           ]
          },
          {
           "mode": "markers+lines",
           "name": "user_4",
           "type": "scatter",
           "x": [
            "2020-04-17",
            "2020-04-18",
            "2020-04-19",
            "2020-04-22",
            "2020-04-23",
            "2020-04-24",
            "2020-05-03",
            "2020-05-04",
            "2020-05-05",
            "2020-05-06",
            "2020-05-07"
           ],
           "y": [
            7,
            7,
            11,
            11,
            20,
            27,
            35,
            48,
            53,
            53,
            71
           ]
          },
          {
           "mode": "markers+lines",
           "name": "user_6",
           "type": "scatter",
           "x": [
            "2020-04-17",
            "2020-04-18",
            "2020-04-19",
            "2020-04-22",
            "2020-04-23",
            "2020-04-24",
            "2020-05-03",
            "2020-05-04",
            "2020-05-05",
            "2020-05-06",
            "2020-05-07"
           ],
           "y": [
            0,
            0,
            0,
            0,
            0,
            0,
            0,
            0,
            0,
            0,
            0
           ]
          },
          {
           "mode": "markers+lines",
           "name": "user_8",
           "type": "scatter",
           "x": [
            "2020-04-17",
            "2020-04-18",
            "2020-04-19",
            "2020-04-22",
            "2020-04-23",
            "2020-04-24",
            "2020-05-03",
            "2020-05-04",
            "2020-05-05",
            "2020-05-06",
            "2020-05-07"
           ],
           "y": [
            0,
            0,
            0,
            0,
            0,
            0,
            0,
            0,
            0,
            0,
            0
           ]
          }
         ],
         "layout": {
          "title": {
           "text": "Commit Dynamic up to 2020-05-07"
          }
         }
        },
        {
         "data": [
          {
           "mode": "markers+lines",
           "name": "user_1",
           "type": "scatter",
           "x": [
            "2020-04-17",
            "2020-04-18",
            "2020-04-19",
            "2020-04-22",
            "2020-04-23",
            "2020-04-24",
            "2020-05-03",
            "2020-05-04",
            "2020-05-05",
            "2020-05-06",
            "2020-05-07",
            "2020-05-08"
           ],
           "y": [
            0,
            0,
            0,
            0,
            0,
            0,
            0,
            0,
            0,
            0,
            0,
            0
           ]
          },
          {
           "mode": "markers+lines",
           "name": "user_10",
           "type": "scatter",
           "x": [
            "2020-04-17",
            "2020-04-18",
            "2020-04-19",
            "2020-04-22",
            "2020-04-23",
            "2020-04-24",
            "2020-05-03",
            "2020-05-04",
            "2020-05-05",
            "2020-05-06",
            "2020-05-07",
            "2020-05-08"
           ],
           "y": [
            0,
            0,
            0,
            0,
            0,
            0,
            0,
            0,
            0,
            0,
            0,
            0
           ]
          },
          {
           "mode": "markers+lines",
           "name": "user_11",
           "type": "scatter",
           "x": [
            "2020-04-17",
            "2020-04-18",
            "2020-04-19",
            "2020-04-22",
            "2020-04-23",
            "2020-04-24",
            "2020-05-03",
            "2020-05-04",
            "2020-05-05",
            "2020-05-06",
            "2020-05-07",
            "2020-05-08"
           ],
           "y": [
            0,
            0,
            0,
            0,
            0,
            0,
            1,
            1,
            1,
            1,
            1,
            1
           ]
          },
          {
           "mode": "markers+lines",
           "name": "user_12",
           "type": "scatter",
           "x": [
            "2020-04-17",
            "2020-04-18",
            "2020-04-19",
            "2020-04-22",
            "2020-04-23",
            "2020-04-24",
            "2020-05-03",
            "2020-05-04",
            "2020-05-05",
            "2020-05-06",
            "2020-05-07",
            "2020-05-08"
           ],
           "y": [
            0,
            0,
            0,
            0,
            0,
            0,
            0,
            0,
            0,
            0,
            0,
            0
           ]
          },
          {
           "mode": "markers+lines",
           "name": "user_13",
           "type": "scatter",
           "x": [
            "2020-04-17",
            "2020-04-18",
            "2020-04-19",
            "2020-04-22",
            "2020-04-23",
            "2020-04-24",
            "2020-05-03",
            "2020-05-04",
            "2020-05-05",
            "2020-05-06",
            "2020-05-07",
            "2020-05-08"
           ],
           "y": [
            0,
            0,
            0,
            0,
            0,
            0,
            0,
            0,
            0,
            0,
            0,
            0
           ]
          },
          {
           "mode": "markers+lines",
           "name": "user_14",
           "type": "scatter",
           "x": [
            "2020-04-17",
            "2020-04-18",
            "2020-04-19",
            "2020-04-22",
            "2020-04-23",
            "2020-04-24",
            "2020-05-03",
            "2020-05-04",
            "2020-05-05",
            "2020-05-06",
            "2020-05-07",
            "2020-05-08"
           ],
           "y": [
            0,
            0,
            0,
            0,
            0,
            0,
            0,
            0,
            1,
            1,
            1,
            1
           ]
          },
          {
           "mode": "markers+lines",
           "name": "user_15",
           "type": "scatter",
           "x": [
            "2020-04-17",
            "2020-04-18",
            "2020-04-19",
            "2020-04-22",
            "2020-04-23",
            "2020-04-24",
            "2020-05-03",
            "2020-05-04",
            "2020-05-05",
            "2020-05-06",
            "2020-05-07",
            "2020-05-08"
           ],
           "y": [
            0,
            0,
            0,
            0,
            0,
            0,
            0,
            0,
            0,
            0,
            0,
            0
           ]
          },
          {
           "mode": "markers+lines",
           "name": "user_16",
           "type": "scatter",
           "x": [
            "2020-04-17",
            "2020-04-18",
            "2020-04-19",
            "2020-04-22",
            "2020-04-23",
            "2020-04-24",
            "2020-05-03",
            "2020-05-04",
            "2020-05-05",
            "2020-05-06",
            "2020-05-07",
            "2020-05-08"
           ],
           "y": [
            0,
            0,
            0,
            0,
            0,
            0,
            0,
            0,
            0,
            0,
            0,
            0
           ]
          },
          {
           "mode": "markers+lines",
           "name": "user_17",
           "type": "scatter",
           "x": [
            "2020-04-17",
            "2020-04-18",
            "2020-04-19",
            "2020-04-22",
            "2020-04-23",
            "2020-04-24",
            "2020-05-03",
            "2020-05-04",
            "2020-05-05",
            "2020-05-06",
            "2020-05-07",
            "2020-05-08"
           ],
           "y": [
            0,
            1,
            1,
            1,
            1,
            1,
            1,
            1,
            1,
            1,
            1,
            1
           ]
          },
          {
           "mode": "markers+lines",
           "name": "user_18",
           "type": "scatter",
           "x": [
            "2020-04-17",
            "2020-04-18",
            "2020-04-19",
            "2020-04-22",
            "2020-04-23",
            "2020-04-24",
            "2020-05-03",
            "2020-05-04",
            "2020-05-05",
            "2020-05-06",
            "2020-05-07",
            "2020-05-08"
           ],
           "y": [
            0,
            0,
            0,
            0,
            0,
            0,
            0,
            0,
            0,
            0,
            0,
            0
           ]
          },
          {
           "mode": "markers+lines",
           "name": "user_19",
           "type": "scatter",
           "x": [
            "2020-04-17",
            "2020-04-18",
            "2020-04-19",
            "2020-04-22",
            "2020-04-23",
            "2020-04-24",
            "2020-05-03",
            "2020-05-04",
            "2020-05-05",
            "2020-05-06",
            "2020-05-07",
            "2020-05-08"
           ],
           "y": [
            0,
            0,
            0,
            0,
            0,
            0,
            0,
            0,
            0,
            0,
            0,
            0
           ]
          },
          {
           "mode": "markers+lines",
           "name": "user_2",
           "type": "scatter",
           "x": [
            "2020-04-17",
            "2020-04-18",
            "2020-04-19",
            "2020-04-22",
            "2020-04-23",
            "2020-04-24",
            "2020-05-03",
            "2020-05-04",
            "2020-05-05",
            "2020-05-06",
            "2020-05-07",
            "2020-05-08"
           ],
           "y": [
            0,
            0,
            0,
            0,
            0,
            0,
            0,
            0,
            57,
            58,
            58,
            58
           ]
          },
          {
           "mode": "markers+lines",
           "name": "user_20",
           "type": "scatter",
           "x": [
            "2020-04-17",
            "2020-04-18",
            "2020-04-19",
            "2020-04-22",
            "2020-04-23",
            "2020-04-24",
            "2020-05-03",
            "2020-05-04",
            "2020-05-05",
            "2020-05-06",
            "2020-05-07",
            "2020-05-08"
           ],
           "y": [
            0,
            0,
            0,
            0,
            0,
            0,
            0,
            0,
            0,
            0,
            0,
            0
           ]
          },
          {
           "mode": "markers+lines",
           "name": "user_21",
           "type": "scatter",
           "x": [
            "2020-04-17",
            "2020-04-18",
            "2020-04-19",
            "2020-04-22",
            "2020-04-23",
            "2020-04-24",
            "2020-05-03",
            "2020-05-04",
            "2020-05-05",
            "2020-05-06",
            "2020-05-07",
            "2020-05-08"
           ],
           "y": [
            0,
            0,
            0,
            0,
            0,
            0,
            0,
            0,
            0,
            0,
            0,
            0
           ]
          },
          {
           "mode": "markers+lines",
           "name": "user_22",
           "type": "scatter",
           "x": [
            "2020-04-17",
            "2020-04-18",
            "2020-04-19",
            "2020-04-22",
            "2020-04-23",
            "2020-04-24",
            "2020-05-03",
            "2020-05-04",
            "2020-05-05",
            "2020-05-06",
            "2020-05-07",
            "2020-05-08"
           ],
           "y": [
            0,
            0,
            0,
            0,
            0,
            0,
            1,
            1,
            1,
            1,
            1,
            1
           ]
          },
          {
           "mode": "markers+lines",
           "name": "user_24",
           "type": "scatter",
           "x": [
            "2020-04-17",
            "2020-04-18",
            "2020-04-19",
            "2020-04-22",
            "2020-04-23",
            "2020-04-24",
            "2020-05-03",
            "2020-05-04",
            "2020-05-05",
            "2020-05-06",
            "2020-05-07",
            "2020-05-08"
           ],
           "y": [
            0,
            0,
            0,
            0,
            0,
            0,
            0,
            0,
            0,
            0,
            0,
            0
           ]
          },
          {
           "mode": "markers+lines",
           "name": "user_25",
           "type": "scatter",
           "x": [
            "2020-04-17",
            "2020-04-18",
            "2020-04-19",
            "2020-04-22",
            "2020-04-23",
            "2020-04-24",
            "2020-05-03",
            "2020-05-04",
            "2020-05-05",
            "2020-05-06",
            "2020-05-07",
            "2020-05-08"
           ],
           "y": [
            0,
            0,
            0,
            0,
            0,
            0,
            0,
            0,
            0,
            0,
            0,
            5
           ]
          },
          {
           "mode": "markers+lines",
           "name": "user_26",
           "type": "scatter",
           "x": [
            "2020-04-17",
            "2020-04-18",
            "2020-04-19",
            "2020-04-22",
            "2020-04-23",
            "2020-04-24",
            "2020-05-03",
            "2020-05-04",
            "2020-05-05",
            "2020-05-06",
            "2020-05-07",
            "2020-05-08"
           ],
           "y": [
            0,
            0,
            0,
            0,
            0,
            0,
            0,
            0,
            0,
            0,
            0,
            0
           ]
          },
          {
           "mode": "markers+lines",
           "name": "user_27",
           "type": "scatter",
           "x": [
            "2020-04-17",
            "2020-04-18",
            "2020-04-19",
            "2020-04-22",
            "2020-04-23",
            "2020-04-24",
            "2020-05-03",
            "2020-05-04",
            "2020-05-05",
            "2020-05-06",
            "2020-05-07",
            "2020-05-08"
           ],
           "y": [
            0,
            0,
            0,
            0,
            0,
            0,
            0,
            0,
            0,
            0,
            0,
            0
           ]
          },
          {
           "mode": "markers+lines",
           "name": "user_28",
           "type": "scatter",
           "x": [
            "2020-04-17",
            "2020-04-18",
            "2020-04-19",
            "2020-04-22",
            "2020-04-23",
            "2020-04-24",
            "2020-05-03",
            "2020-05-04",
            "2020-05-05",
            "2020-05-06",
            "2020-05-07",
            "2020-05-08"
           ],
           "y": [
            0,
            0,
            0,
            0,
            0,
            0,
            0,
            0,
            0,
            0,
            0,
            0
           ]
          },
          {
           "mode": "markers+lines",
           "name": "user_29",
           "type": "scatter",
           "x": [
            "2020-04-17",
            "2020-04-18",
            "2020-04-19",
            "2020-04-22",
            "2020-04-23",
            "2020-04-24",
            "2020-05-03",
            "2020-05-04",
            "2020-05-05",
            "2020-05-06",
            "2020-05-07",
            "2020-05-08"
           ],
           "y": [
            0,
            0,
            0,
            0,
            0,
            0,
            0,
            0,
            0,
            0,
            0,
            0
           ]
          },
          {
           "mode": "markers+lines",
           "name": "user_3",
           "type": "scatter",
           "x": [
            "2020-04-17",
            "2020-04-18",
            "2020-04-19",
            "2020-04-22",
            "2020-04-23",
            "2020-04-24",
            "2020-05-03",
            "2020-05-04",
            "2020-05-05",
            "2020-05-06",
            "2020-05-07",
            "2020-05-08"
           ],
           "y": [
            0,
            0,
            0,
            0,
            0,
            0,
            0,
            0,
            0,
            0,
            1,
            28
           ]
          },
          {
           "mode": "markers+lines",
           "name": "user_30",
           "type": "scatter",
           "x": [
            "2020-04-17",
            "2020-04-18",
            "2020-04-19",
            "2020-04-22",
            "2020-04-23",
            "2020-04-24",
            "2020-05-03",
            "2020-05-04",
            "2020-05-05",
            "2020-05-06",
            "2020-05-07",
            "2020-05-08"
           ],
           "y": [
            0,
            0,
            0,
            1,
            2,
            2,
            4,
            5,
            5,
            5,
            12,
            12
           ]
          },
          {
           "mode": "markers+lines",
           "name": "user_31",
           "type": "scatter",
           "x": [
            "2020-04-17",
            "2020-04-18",
            "2020-04-19",
            "2020-04-22",
            "2020-04-23",
            "2020-04-24",
            "2020-05-03",
            "2020-05-04",
            "2020-05-05",
            "2020-05-06",
            "2020-05-07",
            "2020-05-08"
           ],
           "y": [
            0,
            0,
            0,
            0,
            0,
            0,
            0,
            0,
            0,
            0,
            1,
            1
           ]
          },
          {
           "mode": "markers+lines",
           "name": "user_4",
           "type": "scatter",
           "x": [
            "2020-04-17",
            "2020-04-18",
            "2020-04-19",
            "2020-04-22",
            "2020-04-23",
            "2020-04-24",
            "2020-05-03",
            "2020-05-04",
            "2020-05-05",
            "2020-05-06",
            "2020-05-07",
            "2020-05-08"
           ],
           "y": [
            7,
            7,
            11,
            11,
            20,
            27,
            35,
            48,
            53,
            53,
            71,
            83
           ]
          },
          {
           "mode": "markers+lines",
           "name": "user_6",
           "type": "scatter",
           "x": [
            "2020-04-17",
            "2020-04-18",
            "2020-04-19",
            "2020-04-22",
            "2020-04-23",
            "2020-04-24",
            "2020-05-03",
            "2020-05-04",
            "2020-05-05",
            "2020-05-06",
            "2020-05-07",
            "2020-05-08"
           ],
           "y": [
            0,
            0,
            0,
            0,
            0,
            0,
            0,
            0,
            0,
            0,
            0,
            0
           ]
          },
          {
           "mode": "markers+lines",
           "name": "user_8",
           "type": "scatter",
           "x": [
            "2020-04-17",
            "2020-04-18",
            "2020-04-19",
            "2020-04-22",
            "2020-04-23",
            "2020-04-24",
            "2020-05-03",
            "2020-05-04",
            "2020-05-05",
            "2020-05-06",
            "2020-05-07",
            "2020-05-08"
           ],
           "y": [
            0,
            0,
            0,
            0,
            0,
            0,
            0,
            0,
            0,
            0,
            0,
            0
           ]
          }
         ],
         "layout": {
          "title": {
           "text": "Commit Dynamic up to 2020-05-08"
          }
         }
        },
        {
         "data": [
          {
           "mode": "markers+lines",
           "name": "user_1",
           "type": "scatter",
           "x": [
            "2020-04-17",
            "2020-04-18",
            "2020-04-19",
            "2020-04-22",
            "2020-04-23",
            "2020-04-24",
            "2020-05-03",
            "2020-05-04",
            "2020-05-05",
            "2020-05-06",
            "2020-05-07",
            "2020-05-08",
            "2020-05-09"
           ],
           "y": [
            0,
            0,
            0,
            0,
            0,
            0,
            0,
            0,
            0,
            0,
            0,
            0,
            0
           ]
          },
          {
           "mode": "markers+lines",
           "name": "user_10",
           "type": "scatter",
           "x": [
            "2020-04-17",
            "2020-04-18",
            "2020-04-19",
            "2020-04-22",
            "2020-04-23",
            "2020-04-24",
            "2020-05-03",
            "2020-05-04",
            "2020-05-05",
            "2020-05-06",
            "2020-05-07",
            "2020-05-08",
            "2020-05-09"
           ],
           "y": [
            0,
            0,
            0,
            0,
            0,
            0,
            0,
            0,
            0,
            0,
            0,
            0,
            0
           ]
          },
          {
           "mode": "markers+lines",
           "name": "user_11",
           "type": "scatter",
           "x": [
            "2020-04-17",
            "2020-04-18",
            "2020-04-19",
            "2020-04-22",
            "2020-04-23",
            "2020-04-24",
            "2020-05-03",
            "2020-05-04",
            "2020-05-05",
            "2020-05-06",
            "2020-05-07",
            "2020-05-08",
            "2020-05-09"
           ],
           "y": [
            0,
            0,
            0,
            0,
            0,
            0,
            1,
            1,
            1,
            1,
            1,
            1,
            1
           ]
          },
          {
           "mode": "markers+lines",
           "name": "user_12",
           "type": "scatter",
           "x": [
            "2020-04-17",
            "2020-04-18",
            "2020-04-19",
            "2020-04-22",
            "2020-04-23",
            "2020-04-24",
            "2020-05-03",
            "2020-05-04",
            "2020-05-05",
            "2020-05-06",
            "2020-05-07",
            "2020-05-08",
            "2020-05-09"
           ],
           "y": [
            0,
            0,
            0,
            0,
            0,
            0,
            0,
            0,
            0,
            0,
            0,
            0,
            0
           ]
          },
          {
           "mode": "markers+lines",
           "name": "user_13",
           "type": "scatter",
           "x": [
            "2020-04-17",
            "2020-04-18",
            "2020-04-19",
            "2020-04-22",
            "2020-04-23",
            "2020-04-24",
            "2020-05-03",
            "2020-05-04",
            "2020-05-05",
            "2020-05-06",
            "2020-05-07",
            "2020-05-08",
            "2020-05-09"
           ],
           "y": [
            0,
            0,
            0,
            0,
            0,
            0,
            0,
            0,
            0,
            0,
            0,
            0,
            0
           ]
          },
          {
           "mode": "markers+lines",
           "name": "user_14",
           "type": "scatter",
           "x": [
            "2020-04-17",
            "2020-04-18",
            "2020-04-19",
            "2020-04-22",
            "2020-04-23",
            "2020-04-24",
            "2020-05-03",
            "2020-05-04",
            "2020-05-05",
            "2020-05-06",
            "2020-05-07",
            "2020-05-08",
            "2020-05-09"
           ],
           "y": [
            0,
            0,
            0,
            0,
            0,
            0,
            0,
            0,
            1,
            1,
            1,
            1,
            18
           ]
          },
          {
           "mode": "markers+lines",
           "name": "user_15",
           "type": "scatter",
           "x": [
            "2020-04-17",
            "2020-04-18",
            "2020-04-19",
            "2020-04-22",
            "2020-04-23",
            "2020-04-24",
            "2020-05-03",
            "2020-05-04",
            "2020-05-05",
            "2020-05-06",
            "2020-05-07",
            "2020-05-08",
            "2020-05-09"
           ],
           "y": [
            0,
            0,
            0,
            0,
            0,
            0,
            0,
            0,
            0,
            0,
            0,
            0,
            0
           ]
          },
          {
           "mode": "markers+lines",
           "name": "user_16",
           "type": "scatter",
           "x": [
            "2020-04-17",
            "2020-04-18",
            "2020-04-19",
            "2020-04-22",
            "2020-04-23",
            "2020-04-24",
            "2020-05-03",
            "2020-05-04",
            "2020-05-05",
            "2020-05-06",
            "2020-05-07",
            "2020-05-08",
            "2020-05-09"
           ],
           "y": [
            0,
            0,
            0,
            0,
            0,
            0,
            0,
            0,
            0,
            0,
            0,
            0,
            0
           ]
          },
          {
           "mode": "markers+lines",
           "name": "user_17",
           "type": "scatter",
           "x": [
            "2020-04-17",
            "2020-04-18",
            "2020-04-19",
            "2020-04-22",
            "2020-04-23",
            "2020-04-24",
            "2020-05-03",
            "2020-05-04",
            "2020-05-05",
            "2020-05-06",
            "2020-05-07",
            "2020-05-08",
            "2020-05-09"
           ],
           "y": [
            0,
            1,
            1,
            1,
            1,
            1,
            1,
            1,
            1,
            1,
            1,
            1,
            1
           ]
          },
          {
           "mode": "markers+lines",
           "name": "user_18",
           "type": "scatter",
           "x": [
            "2020-04-17",
            "2020-04-18",
            "2020-04-19",
            "2020-04-22",
            "2020-04-23",
            "2020-04-24",
            "2020-05-03",
            "2020-05-04",
            "2020-05-05",
            "2020-05-06",
            "2020-05-07",
            "2020-05-08",
            "2020-05-09"
           ],
           "y": [
            0,
            0,
            0,
            0,
            0,
            0,
            0,
            0,
            0,
            0,
            0,
            0,
            0
           ]
          },
          {
           "mode": "markers+lines",
           "name": "user_19",
           "type": "scatter",
           "x": [
            "2020-04-17",
            "2020-04-18",
            "2020-04-19",
            "2020-04-22",
            "2020-04-23",
            "2020-04-24",
            "2020-05-03",
            "2020-05-04",
            "2020-05-05",
            "2020-05-06",
            "2020-05-07",
            "2020-05-08",
            "2020-05-09"
           ],
           "y": [
            0,
            0,
            0,
            0,
            0,
            0,
            0,
            0,
            0,
            0,
            0,
            0,
            0
           ]
          },
          {
           "mode": "markers+lines",
           "name": "user_2",
           "type": "scatter",
           "x": [
            "2020-04-17",
            "2020-04-18",
            "2020-04-19",
            "2020-04-22",
            "2020-04-23",
            "2020-04-24",
            "2020-05-03",
            "2020-05-04",
            "2020-05-05",
            "2020-05-06",
            "2020-05-07",
            "2020-05-08",
            "2020-05-09"
           ],
           "y": [
            0,
            0,
            0,
            0,
            0,
            0,
            0,
            0,
            57,
            58,
            58,
            58,
            58
           ]
          },
          {
           "mode": "markers+lines",
           "name": "user_20",
           "type": "scatter",
           "x": [
            "2020-04-17",
            "2020-04-18",
            "2020-04-19",
            "2020-04-22",
            "2020-04-23",
            "2020-04-24",
            "2020-05-03",
            "2020-05-04",
            "2020-05-05",
            "2020-05-06",
            "2020-05-07",
            "2020-05-08",
            "2020-05-09"
           ],
           "y": [
            0,
            0,
            0,
            0,
            0,
            0,
            0,
            0,
            0,
            0,
            0,
            0,
            0
           ]
          },
          {
           "mode": "markers+lines",
           "name": "user_21",
           "type": "scatter",
           "x": [
            "2020-04-17",
            "2020-04-18",
            "2020-04-19",
            "2020-04-22",
            "2020-04-23",
            "2020-04-24",
            "2020-05-03",
            "2020-05-04",
            "2020-05-05",
            "2020-05-06",
            "2020-05-07",
            "2020-05-08",
            "2020-05-09"
           ],
           "y": [
            0,
            0,
            0,
            0,
            0,
            0,
            0,
            0,
            0,
            0,
            0,
            0,
            0
           ]
          },
          {
           "mode": "markers+lines",
           "name": "user_22",
           "type": "scatter",
           "x": [
            "2020-04-17",
            "2020-04-18",
            "2020-04-19",
            "2020-04-22",
            "2020-04-23",
            "2020-04-24",
            "2020-05-03",
            "2020-05-04",
            "2020-05-05",
            "2020-05-06",
            "2020-05-07",
            "2020-05-08",
            "2020-05-09"
           ],
           "y": [
            0,
            0,
            0,
            0,
            0,
            0,
            1,
            1,
            1,
            1,
            1,
            1,
            1
           ]
          },
          {
           "mode": "markers+lines",
           "name": "user_24",
           "type": "scatter",
           "x": [
            "2020-04-17",
            "2020-04-18",
            "2020-04-19",
            "2020-04-22",
            "2020-04-23",
            "2020-04-24",
            "2020-05-03",
            "2020-05-04",
            "2020-05-05",
            "2020-05-06",
            "2020-05-07",
            "2020-05-08",
            "2020-05-09"
           ],
           "y": [
            0,
            0,
            0,
            0,
            0,
            0,
            0,
            0,
            0,
            0,
            0,
            0,
            0
           ]
          },
          {
           "mode": "markers+lines",
           "name": "user_25",
           "type": "scatter",
           "x": [
            "2020-04-17",
            "2020-04-18",
            "2020-04-19",
            "2020-04-22",
            "2020-04-23",
            "2020-04-24",
            "2020-05-03",
            "2020-05-04",
            "2020-05-05",
            "2020-05-06",
            "2020-05-07",
            "2020-05-08",
            "2020-05-09"
           ],
           "y": [
            0,
            0,
            0,
            0,
            0,
            0,
            0,
            0,
            0,
            0,
            0,
            5,
            27
           ]
          },
          {
           "mode": "markers+lines",
           "name": "user_26",
           "type": "scatter",
           "x": [
            "2020-04-17",
            "2020-04-18",
            "2020-04-19",
            "2020-04-22",
            "2020-04-23",
            "2020-04-24",
            "2020-05-03",
            "2020-05-04",
            "2020-05-05",
            "2020-05-06",
            "2020-05-07",
            "2020-05-08",
            "2020-05-09"
           ],
           "y": [
            0,
            0,
            0,
            0,
            0,
            0,
            0,
            0,
            0,
            0,
            0,
            0,
            0
           ]
          },
          {
           "mode": "markers+lines",
           "name": "user_27",
           "type": "scatter",
           "x": [
            "2020-04-17",
            "2020-04-18",
            "2020-04-19",
            "2020-04-22",
            "2020-04-23",
            "2020-04-24",
            "2020-05-03",
            "2020-05-04",
            "2020-05-05",
            "2020-05-06",
            "2020-05-07",
            "2020-05-08",
            "2020-05-09"
           ],
           "y": [
            0,
            0,
            0,
            0,
            0,
            0,
            0,
            0,
            0,
            0,
            0,
            0,
            0
           ]
          },
          {
           "mode": "markers+lines",
           "name": "user_28",
           "type": "scatter",
           "x": [
            "2020-04-17",
            "2020-04-18",
            "2020-04-19",
            "2020-04-22",
            "2020-04-23",
            "2020-04-24",
            "2020-05-03",
            "2020-05-04",
            "2020-05-05",
            "2020-05-06",
            "2020-05-07",
            "2020-05-08",
            "2020-05-09"
           ],
           "y": [
            0,
            0,
            0,
            0,
            0,
            0,
            0,
            0,
            0,
            0,
            0,
            0,
            0
           ]
          },
          {
           "mode": "markers+lines",
           "name": "user_29",
           "type": "scatter",
           "x": [
            "2020-04-17",
            "2020-04-18",
            "2020-04-19",
            "2020-04-22",
            "2020-04-23",
            "2020-04-24",
            "2020-05-03",
            "2020-05-04",
            "2020-05-05",
            "2020-05-06",
            "2020-05-07",
            "2020-05-08",
            "2020-05-09"
           ],
           "y": [
            0,
            0,
            0,
            0,
            0,
            0,
            0,
            0,
            0,
            0,
            0,
            0,
            0
           ]
          },
          {
           "mode": "markers+lines",
           "name": "user_3",
           "type": "scatter",
           "x": [
            "2020-04-17",
            "2020-04-18",
            "2020-04-19",
            "2020-04-22",
            "2020-04-23",
            "2020-04-24",
            "2020-05-03",
            "2020-05-04",
            "2020-05-05",
            "2020-05-06",
            "2020-05-07",
            "2020-05-08",
            "2020-05-09"
           ],
           "y": [
            0,
            0,
            0,
            0,
            0,
            0,
            0,
            0,
            0,
            0,
            1,
            28,
            29
           ]
          },
          {
           "mode": "markers+lines",
           "name": "user_30",
           "type": "scatter",
           "x": [
            "2020-04-17",
            "2020-04-18",
            "2020-04-19",
            "2020-04-22",
            "2020-04-23",
            "2020-04-24",
            "2020-05-03",
            "2020-05-04",
            "2020-05-05",
            "2020-05-06",
            "2020-05-07",
            "2020-05-08",
            "2020-05-09"
           ],
           "y": [
            0,
            0,
            0,
            1,
            2,
            2,
            4,
            5,
            5,
            5,
            12,
            12,
            12
           ]
          },
          {
           "mode": "markers+lines",
           "name": "user_31",
           "type": "scatter",
           "x": [
            "2020-04-17",
            "2020-04-18",
            "2020-04-19",
            "2020-04-22",
            "2020-04-23",
            "2020-04-24",
            "2020-05-03",
            "2020-05-04",
            "2020-05-05",
            "2020-05-06",
            "2020-05-07",
            "2020-05-08",
            "2020-05-09"
           ],
           "y": [
            0,
            0,
            0,
            0,
            0,
            0,
            0,
            0,
            0,
            0,
            1,
            1,
            4
           ]
          },
          {
           "mode": "markers+lines",
           "name": "user_4",
           "type": "scatter",
           "x": [
            "2020-04-17",
            "2020-04-18",
            "2020-04-19",
            "2020-04-22",
            "2020-04-23",
            "2020-04-24",
            "2020-05-03",
            "2020-05-04",
            "2020-05-05",
            "2020-05-06",
            "2020-05-07",
            "2020-05-08",
            "2020-05-09"
           ],
           "y": [
            7,
            7,
            11,
            11,
            20,
            27,
            35,
            48,
            53,
            53,
            71,
            83,
            83
           ]
          },
          {
           "mode": "markers+lines",
           "name": "user_6",
           "type": "scatter",
           "x": [
            "2020-04-17",
            "2020-04-18",
            "2020-04-19",
            "2020-04-22",
            "2020-04-23",
            "2020-04-24",
            "2020-05-03",
            "2020-05-04",
            "2020-05-05",
            "2020-05-06",
            "2020-05-07",
            "2020-05-08",
            "2020-05-09"
           ],
           "y": [
            0,
            0,
            0,
            0,
            0,
            0,
            0,
            0,
            0,
            0,
            0,
            0,
            0
           ]
          },
          {
           "mode": "markers+lines",
           "name": "user_8",
           "type": "scatter",
           "x": [
            "2020-04-17",
            "2020-04-18",
            "2020-04-19",
            "2020-04-22",
            "2020-04-23",
            "2020-04-24",
            "2020-05-03",
            "2020-05-04",
            "2020-05-05",
            "2020-05-06",
            "2020-05-07",
            "2020-05-08",
            "2020-05-09"
           ],
           "y": [
            0,
            0,
            0,
            0,
            0,
            0,
            0,
            0,
            0,
            0,
            0,
            0,
            0
           ]
          }
         ],
         "layout": {
          "title": {
           "text": "Commit Dynamic up to 2020-05-09"
          }
         }
        },
        {
         "data": [
          {
           "mode": "markers+lines",
           "name": "user_1",
           "type": "scatter",
           "x": [
            "2020-04-17",
            "2020-04-18",
            "2020-04-19",
            "2020-04-22",
            "2020-04-23",
            "2020-04-24",
            "2020-05-03",
            "2020-05-04",
            "2020-05-05",
            "2020-05-06",
            "2020-05-07",
            "2020-05-08",
            "2020-05-09",
            "2020-05-10"
           ],
           "y": [
            0,
            0,
            0,
            0,
            0,
            0,
            0,
            0,
            0,
            0,
            0,
            0,
            0,
            0
           ]
          },
          {
           "mode": "markers+lines",
           "name": "user_10",
           "type": "scatter",
           "x": [
            "2020-04-17",
            "2020-04-18",
            "2020-04-19",
            "2020-04-22",
            "2020-04-23",
            "2020-04-24",
            "2020-05-03",
            "2020-05-04",
            "2020-05-05",
            "2020-05-06",
            "2020-05-07",
            "2020-05-08",
            "2020-05-09",
            "2020-05-10"
           ],
           "y": [
            0,
            0,
            0,
            0,
            0,
            0,
            0,
            0,
            0,
            0,
            0,
            0,
            0,
            0
           ]
          },
          {
           "mode": "markers+lines",
           "name": "user_11",
           "type": "scatter",
           "x": [
            "2020-04-17",
            "2020-04-18",
            "2020-04-19",
            "2020-04-22",
            "2020-04-23",
            "2020-04-24",
            "2020-05-03",
            "2020-05-04",
            "2020-05-05",
            "2020-05-06",
            "2020-05-07",
            "2020-05-08",
            "2020-05-09",
            "2020-05-10"
           ],
           "y": [
            0,
            0,
            0,
            0,
            0,
            0,
            1,
            1,
            1,
            1,
            1,
            1,
            1,
            1
           ]
          },
          {
           "mode": "markers+lines",
           "name": "user_12",
           "type": "scatter",
           "x": [
            "2020-04-17",
            "2020-04-18",
            "2020-04-19",
            "2020-04-22",
            "2020-04-23",
            "2020-04-24",
            "2020-05-03",
            "2020-05-04",
            "2020-05-05",
            "2020-05-06",
            "2020-05-07",
            "2020-05-08",
            "2020-05-09",
            "2020-05-10"
           ],
           "y": [
            0,
            0,
            0,
            0,
            0,
            0,
            0,
            0,
            0,
            0,
            0,
            0,
            0,
            0
           ]
          },
          {
           "mode": "markers+lines",
           "name": "user_13",
           "type": "scatter",
           "x": [
            "2020-04-17",
            "2020-04-18",
            "2020-04-19",
            "2020-04-22",
            "2020-04-23",
            "2020-04-24",
            "2020-05-03",
            "2020-05-04",
            "2020-05-05",
            "2020-05-06",
            "2020-05-07",
            "2020-05-08",
            "2020-05-09",
            "2020-05-10"
           ],
           "y": [
            0,
            0,
            0,
            0,
            0,
            0,
            0,
            0,
            0,
            0,
            0,
            0,
            0,
            0
           ]
          },
          {
           "mode": "markers+lines",
           "name": "user_14",
           "type": "scatter",
           "x": [
            "2020-04-17",
            "2020-04-18",
            "2020-04-19",
            "2020-04-22",
            "2020-04-23",
            "2020-04-24",
            "2020-05-03",
            "2020-05-04",
            "2020-05-05",
            "2020-05-06",
            "2020-05-07",
            "2020-05-08",
            "2020-05-09",
            "2020-05-10"
           ],
           "y": [
            0,
            0,
            0,
            0,
            0,
            0,
            0,
            0,
            1,
            1,
            1,
            1,
            18,
            25
           ]
          },
          {
           "mode": "markers+lines",
           "name": "user_15",
           "type": "scatter",
           "x": [
            "2020-04-17",
            "2020-04-18",
            "2020-04-19",
            "2020-04-22",
            "2020-04-23",
            "2020-04-24",
            "2020-05-03",
            "2020-05-04",
            "2020-05-05",
            "2020-05-06",
            "2020-05-07",
            "2020-05-08",
            "2020-05-09",
            "2020-05-10"
           ],
           "y": [
            0,
            0,
            0,
            0,
            0,
            0,
            0,
            0,
            0,
            0,
            0,
            0,
            0,
            0
           ]
          },
          {
           "mode": "markers+lines",
           "name": "user_16",
           "type": "scatter",
           "x": [
            "2020-04-17",
            "2020-04-18",
            "2020-04-19",
            "2020-04-22",
            "2020-04-23",
            "2020-04-24",
            "2020-05-03",
            "2020-05-04",
            "2020-05-05",
            "2020-05-06",
            "2020-05-07",
            "2020-05-08",
            "2020-05-09",
            "2020-05-10"
           ],
           "y": [
            0,
            0,
            0,
            0,
            0,
            0,
            0,
            0,
            0,
            0,
            0,
            0,
            0,
            0
           ]
          },
          {
           "mode": "markers+lines",
           "name": "user_17",
           "type": "scatter",
           "x": [
            "2020-04-17",
            "2020-04-18",
            "2020-04-19",
            "2020-04-22",
            "2020-04-23",
            "2020-04-24",
            "2020-05-03",
            "2020-05-04",
            "2020-05-05",
            "2020-05-06",
            "2020-05-07",
            "2020-05-08",
            "2020-05-09",
            "2020-05-10"
           ],
           "y": [
            0,
            1,
            1,
            1,
            1,
            1,
            1,
            1,
            1,
            1,
            1,
            1,
            1,
            1
           ]
          },
          {
           "mode": "markers+lines",
           "name": "user_18",
           "type": "scatter",
           "x": [
            "2020-04-17",
            "2020-04-18",
            "2020-04-19",
            "2020-04-22",
            "2020-04-23",
            "2020-04-24",
            "2020-05-03",
            "2020-05-04",
            "2020-05-05",
            "2020-05-06",
            "2020-05-07",
            "2020-05-08",
            "2020-05-09",
            "2020-05-10"
           ],
           "y": [
            0,
            0,
            0,
            0,
            0,
            0,
            0,
            0,
            0,
            0,
            0,
            0,
            0,
            0
           ]
          },
          {
           "mode": "markers+lines",
           "name": "user_19",
           "type": "scatter",
           "x": [
            "2020-04-17",
            "2020-04-18",
            "2020-04-19",
            "2020-04-22",
            "2020-04-23",
            "2020-04-24",
            "2020-05-03",
            "2020-05-04",
            "2020-05-05",
            "2020-05-06",
            "2020-05-07",
            "2020-05-08",
            "2020-05-09",
            "2020-05-10"
           ],
           "y": [
            0,
            0,
            0,
            0,
            0,
            0,
            0,
            0,
            0,
            0,
            0,
            0,
            0,
            0
           ]
          },
          {
           "mode": "markers+lines",
           "name": "user_2",
           "type": "scatter",
           "x": [
            "2020-04-17",
            "2020-04-18",
            "2020-04-19",
            "2020-04-22",
            "2020-04-23",
            "2020-04-24",
            "2020-05-03",
            "2020-05-04",
            "2020-05-05",
            "2020-05-06",
            "2020-05-07",
            "2020-05-08",
            "2020-05-09",
            "2020-05-10"
           ],
           "y": [
            0,
            0,
            0,
            0,
            0,
            0,
            0,
            0,
            57,
            58,
            58,
            58,
            58,
            62
           ]
          },
          {
           "mode": "markers+lines",
           "name": "user_20",
           "type": "scatter",
           "x": [
            "2020-04-17",
            "2020-04-18",
            "2020-04-19",
            "2020-04-22",
            "2020-04-23",
            "2020-04-24",
            "2020-05-03",
            "2020-05-04",
            "2020-05-05",
            "2020-05-06",
            "2020-05-07",
            "2020-05-08",
            "2020-05-09",
            "2020-05-10"
           ],
           "y": [
            0,
            0,
            0,
            0,
            0,
            0,
            0,
            0,
            0,
            0,
            0,
            0,
            0,
            0
           ]
          },
          {
           "mode": "markers+lines",
           "name": "user_21",
           "type": "scatter",
           "x": [
            "2020-04-17",
            "2020-04-18",
            "2020-04-19",
            "2020-04-22",
            "2020-04-23",
            "2020-04-24",
            "2020-05-03",
            "2020-05-04",
            "2020-05-05",
            "2020-05-06",
            "2020-05-07",
            "2020-05-08",
            "2020-05-09",
            "2020-05-10"
           ],
           "y": [
            0,
            0,
            0,
            0,
            0,
            0,
            0,
            0,
            0,
            0,
            0,
            0,
            0,
            7
           ]
          },
          {
           "mode": "markers+lines",
           "name": "user_22",
           "type": "scatter",
           "x": [
            "2020-04-17",
            "2020-04-18",
            "2020-04-19",
            "2020-04-22",
            "2020-04-23",
            "2020-04-24",
            "2020-05-03",
            "2020-05-04",
            "2020-05-05",
            "2020-05-06",
            "2020-05-07",
            "2020-05-08",
            "2020-05-09",
            "2020-05-10"
           ],
           "y": [
            0,
            0,
            0,
            0,
            0,
            0,
            1,
            1,
            1,
            1,
            1,
            1,
            1,
            1
           ]
          },
          {
           "mode": "markers+lines",
           "name": "user_24",
           "type": "scatter",
           "x": [
            "2020-04-17",
            "2020-04-18",
            "2020-04-19",
            "2020-04-22",
            "2020-04-23",
            "2020-04-24",
            "2020-05-03",
            "2020-05-04",
            "2020-05-05",
            "2020-05-06",
            "2020-05-07",
            "2020-05-08",
            "2020-05-09",
            "2020-05-10"
           ],
           "y": [
            0,
            0,
            0,
            0,
            0,
            0,
            0,
            0,
            0,
            0,
            0,
            0,
            0,
            0
           ]
          },
          {
           "mode": "markers+lines",
           "name": "user_25",
           "type": "scatter",
           "x": [
            "2020-04-17",
            "2020-04-18",
            "2020-04-19",
            "2020-04-22",
            "2020-04-23",
            "2020-04-24",
            "2020-05-03",
            "2020-05-04",
            "2020-05-05",
            "2020-05-06",
            "2020-05-07",
            "2020-05-08",
            "2020-05-09",
            "2020-05-10"
           ],
           "y": [
            0,
            0,
            0,
            0,
            0,
            0,
            0,
            0,
            0,
            0,
            0,
            5,
            27,
            29
           ]
          },
          {
           "mode": "markers+lines",
           "name": "user_26",
           "type": "scatter",
           "x": [
            "2020-04-17",
            "2020-04-18",
            "2020-04-19",
            "2020-04-22",
            "2020-04-23",
            "2020-04-24",
            "2020-05-03",
            "2020-05-04",
            "2020-05-05",
            "2020-05-06",
            "2020-05-07",
            "2020-05-08",
            "2020-05-09",
            "2020-05-10"
           ],
           "y": [
            0,
            0,
            0,
            0,
            0,
            0,
            0,
            0,
            0,
            0,
            0,
            0,
            0,
            35
           ]
          },
          {
           "mode": "markers+lines",
           "name": "user_27",
           "type": "scatter",
           "x": [
            "2020-04-17",
            "2020-04-18",
            "2020-04-19",
            "2020-04-22",
            "2020-04-23",
            "2020-04-24",
            "2020-05-03",
            "2020-05-04",
            "2020-05-05",
            "2020-05-06",
            "2020-05-07",
            "2020-05-08",
            "2020-05-09",
            "2020-05-10"
           ],
           "y": [
            0,
            0,
            0,
            0,
            0,
            0,
            0,
            0,
            0,
            0,
            0,
            0,
            0,
            0
           ]
          },
          {
           "mode": "markers+lines",
           "name": "user_28",
           "type": "scatter",
           "x": [
            "2020-04-17",
            "2020-04-18",
            "2020-04-19",
            "2020-04-22",
            "2020-04-23",
            "2020-04-24",
            "2020-05-03",
            "2020-05-04",
            "2020-05-05",
            "2020-05-06",
            "2020-05-07",
            "2020-05-08",
            "2020-05-09",
            "2020-05-10"
           ],
           "y": [
            0,
            0,
            0,
            0,
            0,
            0,
            0,
            0,
            0,
            0,
            0,
            0,
            0,
            0
           ]
          },
          {
           "mode": "markers+lines",
           "name": "user_29",
           "type": "scatter",
           "x": [
            "2020-04-17",
            "2020-04-18",
            "2020-04-19",
            "2020-04-22",
            "2020-04-23",
            "2020-04-24",
            "2020-05-03",
            "2020-05-04",
            "2020-05-05",
            "2020-05-06",
            "2020-05-07",
            "2020-05-08",
            "2020-05-09",
            "2020-05-10"
           ],
           "y": [
            0,
            0,
            0,
            0,
            0,
            0,
            0,
            0,
            0,
            0,
            0,
            0,
            0,
            0
           ]
          },
          {
           "mode": "markers+lines",
           "name": "user_3",
           "type": "scatter",
           "x": [
            "2020-04-17",
            "2020-04-18",
            "2020-04-19",
            "2020-04-22",
            "2020-04-23",
            "2020-04-24",
            "2020-05-03",
            "2020-05-04",
            "2020-05-05",
            "2020-05-06",
            "2020-05-07",
            "2020-05-08",
            "2020-05-09",
            "2020-05-10"
           ],
           "y": [
            0,
            0,
            0,
            0,
            0,
            0,
            0,
            0,
            0,
            0,
            1,
            28,
            29,
            31
           ]
          },
          {
           "mode": "markers+lines",
           "name": "user_30",
           "type": "scatter",
           "x": [
            "2020-04-17",
            "2020-04-18",
            "2020-04-19",
            "2020-04-22",
            "2020-04-23",
            "2020-04-24",
            "2020-05-03",
            "2020-05-04",
            "2020-05-05",
            "2020-05-06",
            "2020-05-07",
            "2020-05-08",
            "2020-05-09",
            "2020-05-10"
           ],
           "y": [
            0,
            0,
            0,
            1,
            2,
            2,
            4,
            5,
            5,
            5,
            12,
            12,
            12,
            17
           ]
          },
          {
           "mode": "markers+lines",
           "name": "user_31",
           "type": "scatter",
           "x": [
            "2020-04-17",
            "2020-04-18",
            "2020-04-19",
            "2020-04-22",
            "2020-04-23",
            "2020-04-24",
            "2020-05-03",
            "2020-05-04",
            "2020-05-05",
            "2020-05-06",
            "2020-05-07",
            "2020-05-08",
            "2020-05-09",
            "2020-05-10"
           ],
           "y": [
            0,
            0,
            0,
            0,
            0,
            0,
            0,
            0,
            0,
            0,
            1,
            1,
            4,
            4
           ]
          },
          {
           "mode": "markers+lines",
           "name": "user_4",
           "type": "scatter",
           "x": [
            "2020-04-17",
            "2020-04-18",
            "2020-04-19",
            "2020-04-22",
            "2020-04-23",
            "2020-04-24",
            "2020-05-03",
            "2020-05-04",
            "2020-05-05",
            "2020-05-06",
            "2020-05-07",
            "2020-05-08",
            "2020-05-09",
            "2020-05-10"
           ],
           "y": [
            7,
            7,
            11,
            11,
            20,
            27,
            35,
            48,
            53,
            53,
            71,
            83,
            83,
            83
           ]
          },
          {
           "mode": "markers+lines",
           "name": "user_6",
           "type": "scatter",
           "x": [
            "2020-04-17",
            "2020-04-18",
            "2020-04-19",
            "2020-04-22",
            "2020-04-23",
            "2020-04-24",
            "2020-05-03",
            "2020-05-04",
            "2020-05-05",
            "2020-05-06",
            "2020-05-07",
            "2020-05-08",
            "2020-05-09",
            "2020-05-10"
           ],
           "y": [
            0,
            0,
            0,
            0,
            0,
            0,
            0,
            0,
            0,
            0,
            0,
            0,
            0,
            0
           ]
          },
          {
           "mode": "markers+lines",
           "name": "user_8",
           "type": "scatter",
           "x": [
            "2020-04-17",
            "2020-04-18",
            "2020-04-19",
            "2020-04-22",
            "2020-04-23",
            "2020-04-24",
            "2020-05-03",
            "2020-05-04",
            "2020-05-05",
            "2020-05-06",
            "2020-05-07",
            "2020-05-08",
            "2020-05-09",
            "2020-05-10"
           ],
           "y": [
            0,
            0,
            0,
            0,
            0,
            0,
            0,
            0,
            0,
            0,
            0,
            0,
            0,
            0
           ]
          }
         ],
         "layout": {
          "title": {
           "text": "Commit Dynamic up to 2020-05-10"
          }
         }
        },
        {
         "data": [
          {
           "mode": "markers+lines",
           "name": "user_1",
           "type": "scatter",
           "x": [
            "2020-04-17",
            "2020-04-18",
            "2020-04-19",
            "2020-04-22",
            "2020-04-23",
            "2020-04-24",
            "2020-05-03",
            "2020-05-04",
            "2020-05-05",
            "2020-05-06",
            "2020-05-07",
            "2020-05-08",
            "2020-05-09",
            "2020-05-10",
            "2020-05-11"
           ],
           "y": [
            0,
            0,
            0,
            0,
            0,
            0,
            0,
            0,
            0,
            0,
            0,
            0,
            0,
            0,
            0
           ]
          },
          {
           "mode": "markers+lines",
           "name": "user_10",
           "type": "scatter",
           "x": [
            "2020-04-17",
            "2020-04-18",
            "2020-04-19",
            "2020-04-22",
            "2020-04-23",
            "2020-04-24",
            "2020-05-03",
            "2020-05-04",
            "2020-05-05",
            "2020-05-06",
            "2020-05-07",
            "2020-05-08",
            "2020-05-09",
            "2020-05-10",
            "2020-05-11"
           ],
           "y": [
            0,
            0,
            0,
            0,
            0,
            0,
            0,
            0,
            0,
            0,
            0,
            0,
            0,
            0,
            0
           ]
          },
          {
           "mode": "markers+lines",
           "name": "user_11",
           "type": "scatter",
           "x": [
            "2020-04-17",
            "2020-04-18",
            "2020-04-19",
            "2020-04-22",
            "2020-04-23",
            "2020-04-24",
            "2020-05-03",
            "2020-05-04",
            "2020-05-05",
            "2020-05-06",
            "2020-05-07",
            "2020-05-08",
            "2020-05-09",
            "2020-05-10",
            "2020-05-11"
           ],
           "y": [
            0,
            0,
            0,
            0,
            0,
            0,
            1,
            1,
            1,
            1,
            1,
            1,
            1,
            1,
            1
           ]
          },
          {
           "mode": "markers+lines",
           "name": "user_12",
           "type": "scatter",
           "x": [
            "2020-04-17",
            "2020-04-18",
            "2020-04-19",
            "2020-04-22",
            "2020-04-23",
            "2020-04-24",
            "2020-05-03",
            "2020-05-04",
            "2020-05-05",
            "2020-05-06",
            "2020-05-07",
            "2020-05-08",
            "2020-05-09",
            "2020-05-10",
            "2020-05-11"
           ],
           "y": [
            0,
            0,
            0,
            0,
            0,
            0,
            0,
            0,
            0,
            0,
            0,
            0,
            0,
            0,
            0
           ]
          },
          {
           "mode": "markers+lines",
           "name": "user_13",
           "type": "scatter",
           "x": [
            "2020-04-17",
            "2020-04-18",
            "2020-04-19",
            "2020-04-22",
            "2020-04-23",
            "2020-04-24",
            "2020-05-03",
            "2020-05-04",
            "2020-05-05",
            "2020-05-06",
            "2020-05-07",
            "2020-05-08",
            "2020-05-09",
            "2020-05-10",
            "2020-05-11"
           ],
           "y": [
            0,
            0,
            0,
            0,
            0,
            0,
            0,
            0,
            0,
            0,
            0,
            0,
            0,
            0,
            2
           ]
          },
          {
           "mode": "markers+lines",
           "name": "user_14",
           "type": "scatter",
           "x": [
            "2020-04-17",
            "2020-04-18",
            "2020-04-19",
            "2020-04-22",
            "2020-04-23",
            "2020-04-24",
            "2020-05-03",
            "2020-05-04",
            "2020-05-05",
            "2020-05-06",
            "2020-05-07",
            "2020-05-08",
            "2020-05-09",
            "2020-05-10",
            "2020-05-11"
           ],
           "y": [
            0,
            0,
            0,
            0,
            0,
            0,
            0,
            0,
            1,
            1,
            1,
            1,
            18,
            25,
            49
           ]
          },
          {
           "mode": "markers+lines",
           "name": "user_15",
           "type": "scatter",
           "x": [
            "2020-04-17",
            "2020-04-18",
            "2020-04-19",
            "2020-04-22",
            "2020-04-23",
            "2020-04-24",
            "2020-05-03",
            "2020-05-04",
            "2020-05-05",
            "2020-05-06",
            "2020-05-07",
            "2020-05-08",
            "2020-05-09",
            "2020-05-10",
            "2020-05-11"
           ],
           "y": [
            0,
            0,
            0,
            0,
            0,
            0,
            0,
            0,
            0,
            0,
            0,
            0,
            0,
            0,
            0
           ]
          },
          {
           "mode": "markers+lines",
           "name": "user_16",
           "type": "scatter",
           "x": [
            "2020-04-17",
            "2020-04-18",
            "2020-04-19",
            "2020-04-22",
            "2020-04-23",
            "2020-04-24",
            "2020-05-03",
            "2020-05-04",
            "2020-05-05",
            "2020-05-06",
            "2020-05-07",
            "2020-05-08",
            "2020-05-09",
            "2020-05-10",
            "2020-05-11"
           ],
           "y": [
            0,
            0,
            0,
            0,
            0,
            0,
            0,
            0,
            0,
            0,
            0,
            0,
            0,
            0,
            0
           ]
          },
          {
           "mode": "markers+lines",
           "name": "user_17",
           "type": "scatter",
           "x": [
            "2020-04-17",
            "2020-04-18",
            "2020-04-19",
            "2020-04-22",
            "2020-04-23",
            "2020-04-24",
            "2020-05-03",
            "2020-05-04",
            "2020-05-05",
            "2020-05-06",
            "2020-05-07",
            "2020-05-08",
            "2020-05-09",
            "2020-05-10",
            "2020-05-11"
           ],
           "y": [
            0,
            1,
            1,
            1,
            1,
            1,
            1,
            1,
            1,
            1,
            1,
            1,
            1,
            1,
            1
           ]
          },
          {
           "mode": "markers+lines",
           "name": "user_18",
           "type": "scatter",
           "x": [
            "2020-04-17",
            "2020-04-18",
            "2020-04-19",
            "2020-04-22",
            "2020-04-23",
            "2020-04-24",
            "2020-05-03",
            "2020-05-04",
            "2020-05-05",
            "2020-05-06",
            "2020-05-07",
            "2020-05-08",
            "2020-05-09",
            "2020-05-10",
            "2020-05-11"
           ],
           "y": [
            0,
            0,
            0,
            0,
            0,
            0,
            0,
            0,
            0,
            0,
            0,
            0,
            0,
            0,
            7
           ]
          },
          {
           "mode": "markers+lines",
           "name": "user_19",
           "type": "scatter",
           "x": [
            "2020-04-17",
            "2020-04-18",
            "2020-04-19",
            "2020-04-22",
            "2020-04-23",
            "2020-04-24",
            "2020-05-03",
            "2020-05-04",
            "2020-05-05",
            "2020-05-06",
            "2020-05-07",
            "2020-05-08",
            "2020-05-09",
            "2020-05-10",
            "2020-05-11"
           ],
           "y": [
            0,
            0,
            0,
            0,
            0,
            0,
            0,
            0,
            0,
            0,
            0,
            0,
            0,
            0,
            0
           ]
          },
          {
           "mode": "markers+lines",
           "name": "user_2",
           "type": "scatter",
           "x": [
            "2020-04-17",
            "2020-04-18",
            "2020-04-19",
            "2020-04-22",
            "2020-04-23",
            "2020-04-24",
            "2020-05-03",
            "2020-05-04",
            "2020-05-05",
            "2020-05-06",
            "2020-05-07",
            "2020-05-08",
            "2020-05-09",
            "2020-05-10",
            "2020-05-11"
           ],
           "y": [
            0,
            0,
            0,
            0,
            0,
            0,
            0,
            0,
            57,
            58,
            58,
            58,
            58,
            62,
            74
           ]
          },
          {
           "mode": "markers+lines",
           "name": "user_20",
           "type": "scatter",
           "x": [
            "2020-04-17",
            "2020-04-18",
            "2020-04-19",
            "2020-04-22",
            "2020-04-23",
            "2020-04-24",
            "2020-05-03",
            "2020-05-04",
            "2020-05-05",
            "2020-05-06",
            "2020-05-07",
            "2020-05-08",
            "2020-05-09",
            "2020-05-10",
            "2020-05-11"
           ],
           "y": [
            0,
            0,
            0,
            0,
            0,
            0,
            0,
            0,
            0,
            0,
            0,
            0,
            0,
            0,
            11
           ]
          },
          {
           "mode": "markers+lines",
           "name": "user_21",
           "type": "scatter",
           "x": [
            "2020-04-17",
            "2020-04-18",
            "2020-04-19",
            "2020-04-22",
            "2020-04-23",
            "2020-04-24",
            "2020-05-03",
            "2020-05-04",
            "2020-05-05",
            "2020-05-06",
            "2020-05-07",
            "2020-05-08",
            "2020-05-09",
            "2020-05-10",
            "2020-05-11"
           ],
           "y": [
            0,
            0,
            0,
            0,
            0,
            0,
            0,
            0,
            0,
            0,
            0,
            0,
            0,
            7,
            7
           ]
          },
          {
           "mode": "markers+lines",
           "name": "user_22",
           "type": "scatter",
           "x": [
            "2020-04-17",
            "2020-04-18",
            "2020-04-19",
            "2020-04-22",
            "2020-04-23",
            "2020-04-24",
            "2020-05-03",
            "2020-05-04",
            "2020-05-05",
            "2020-05-06",
            "2020-05-07",
            "2020-05-08",
            "2020-05-09",
            "2020-05-10",
            "2020-05-11"
           ],
           "y": [
            0,
            0,
            0,
            0,
            0,
            0,
            1,
            1,
            1,
            1,
            1,
            1,
            1,
            1,
            1
           ]
          },
          {
           "mode": "markers+lines",
           "name": "user_24",
           "type": "scatter",
           "x": [
            "2020-04-17",
            "2020-04-18",
            "2020-04-19",
            "2020-04-22",
            "2020-04-23",
            "2020-04-24",
            "2020-05-03",
            "2020-05-04",
            "2020-05-05",
            "2020-05-06",
            "2020-05-07",
            "2020-05-08",
            "2020-05-09",
            "2020-05-10",
            "2020-05-11"
           ],
           "y": [
            0,
            0,
            0,
            0,
            0,
            0,
            0,
            0,
            0,
            0,
            0,
            0,
            0,
            0,
            0
           ]
          },
          {
           "mode": "markers+lines",
           "name": "user_25",
           "type": "scatter",
           "x": [
            "2020-04-17",
            "2020-04-18",
            "2020-04-19",
            "2020-04-22",
            "2020-04-23",
            "2020-04-24",
            "2020-05-03",
            "2020-05-04",
            "2020-05-05",
            "2020-05-06",
            "2020-05-07",
            "2020-05-08",
            "2020-05-09",
            "2020-05-10",
            "2020-05-11"
           ],
           "y": [
            0,
            0,
            0,
            0,
            0,
            0,
            0,
            0,
            0,
            0,
            0,
            5,
            27,
            29,
            33
           ]
          },
          {
           "mode": "markers+lines",
           "name": "user_26",
           "type": "scatter",
           "x": [
            "2020-04-17",
            "2020-04-18",
            "2020-04-19",
            "2020-04-22",
            "2020-04-23",
            "2020-04-24",
            "2020-05-03",
            "2020-05-04",
            "2020-05-05",
            "2020-05-06",
            "2020-05-07",
            "2020-05-08",
            "2020-05-09",
            "2020-05-10",
            "2020-05-11"
           ],
           "y": [
            0,
            0,
            0,
            0,
            0,
            0,
            0,
            0,
            0,
            0,
            0,
            0,
            0,
            35,
            35
           ]
          },
          {
           "mode": "markers+lines",
           "name": "user_27",
           "type": "scatter",
           "x": [
            "2020-04-17",
            "2020-04-18",
            "2020-04-19",
            "2020-04-22",
            "2020-04-23",
            "2020-04-24",
            "2020-05-03",
            "2020-05-04",
            "2020-05-05",
            "2020-05-06",
            "2020-05-07",
            "2020-05-08",
            "2020-05-09",
            "2020-05-10",
            "2020-05-11"
           ],
           "y": [
            0,
            0,
            0,
            0,
            0,
            0,
            0,
            0,
            0,
            0,
            0,
            0,
            0,
            0,
            0
           ]
          },
          {
           "mode": "markers+lines",
           "name": "user_28",
           "type": "scatter",
           "x": [
            "2020-04-17",
            "2020-04-18",
            "2020-04-19",
            "2020-04-22",
            "2020-04-23",
            "2020-04-24",
            "2020-05-03",
            "2020-05-04",
            "2020-05-05",
            "2020-05-06",
            "2020-05-07",
            "2020-05-08",
            "2020-05-09",
            "2020-05-10",
            "2020-05-11"
           ],
           "y": [
            0,
            0,
            0,
            0,
            0,
            0,
            0,
            0,
            0,
            0,
            0,
            0,
            0,
            0,
            0
           ]
          },
          {
           "mode": "markers+lines",
           "name": "user_29",
           "type": "scatter",
           "x": [
            "2020-04-17",
            "2020-04-18",
            "2020-04-19",
            "2020-04-22",
            "2020-04-23",
            "2020-04-24",
            "2020-05-03",
            "2020-05-04",
            "2020-05-05",
            "2020-05-06",
            "2020-05-07",
            "2020-05-08",
            "2020-05-09",
            "2020-05-10",
            "2020-05-11"
           ],
           "y": [
            0,
            0,
            0,
            0,
            0,
            0,
            0,
            0,
            0,
            0,
            0,
            0,
            0,
            0,
            5
           ]
          },
          {
           "mode": "markers+lines",
           "name": "user_3",
           "type": "scatter",
           "x": [
            "2020-04-17",
            "2020-04-18",
            "2020-04-19",
            "2020-04-22",
            "2020-04-23",
            "2020-04-24",
            "2020-05-03",
            "2020-05-04",
            "2020-05-05",
            "2020-05-06",
            "2020-05-07",
            "2020-05-08",
            "2020-05-09",
            "2020-05-10",
            "2020-05-11"
           ],
           "y": [
            0,
            0,
            0,
            0,
            0,
            0,
            0,
            0,
            0,
            0,
            1,
            28,
            29,
            31,
            54
           ]
          },
          {
           "mode": "markers+lines",
           "name": "user_30",
           "type": "scatter",
           "x": [
            "2020-04-17",
            "2020-04-18",
            "2020-04-19",
            "2020-04-22",
            "2020-04-23",
            "2020-04-24",
            "2020-05-03",
            "2020-05-04",
            "2020-05-05",
            "2020-05-06",
            "2020-05-07",
            "2020-05-08",
            "2020-05-09",
            "2020-05-10",
            "2020-05-11"
           ],
           "y": [
            0,
            0,
            0,
            1,
            2,
            2,
            4,
            5,
            5,
            5,
            12,
            12,
            12,
            17,
            17
           ]
          },
          {
           "mode": "markers+lines",
           "name": "user_31",
           "type": "scatter",
           "x": [
            "2020-04-17",
            "2020-04-18",
            "2020-04-19",
            "2020-04-22",
            "2020-04-23",
            "2020-04-24",
            "2020-05-03",
            "2020-05-04",
            "2020-05-05",
            "2020-05-06",
            "2020-05-07",
            "2020-05-08",
            "2020-05-09",
            "2020-05-10",
            "2020-05-11"
           ],
           "y": [
            0,
            0,
            0,
            0,
            0,
            0,
            0,
            0,
            0,
            0,
            1,
            1,
            4,
            4,
            6
           ]
          },
          {
           "mode": "markers+lines",
           "name": "user_4",
           "type": "scatter",
           "x": [
            "2020-04-17",
            "2020-04-18",
            "2020-04-19",
            "2020-04-22",
            "2020-04-23",
            "2020-04-24",
            "2020-05-03",
            "2020-05-04",
            "2020-05-05",
            "2020-05-06",
            "2020-05-07",
            "2020-05-08",
            "2020-05-09",
            "2020-05-10",
            "2020-05-11"
           ],
           "y": [
            7,
            7,
            11,
            11,
            20,
            27,
            35,
            48,
            53,
            53,
            71,
            83,
            83,
            83,
            87
           ]
          },
          {
           "mode": "markers+lines",
           "name": "user_6",
           "type": "scatter",
           "x": [
            "2020-04-17",
            "2020-04-18",
            "2020-04-19",
            "2020-04-22",
            "2020-04-23",
            "2020-04-24",
            "2020-05-03",
            "2020-05-04",
            "2020-05-05",
            "2020-05-06",
            "2020-05-07",
            "2020-05-08",
            "2020-05-09",
            "2020-05-10",
            "2020-05-11"
           ],
           "y": [
            0,
            0,
            0,
            0,
            0,
            0,
            0,
            0,
            0,
            0,
            0,
            0,
            0,
            0,
            0
           ]
          },
          {
           "mode": "markers+lines",
           "name": "user_8",
           "type": "scatter",
           "x": [
            "2020-04-17",
            "2020-04-18",
            "2020-04-19",
            "2020-04-22",
            "2020-04-23",
            "2020-04-24",
            "2020-05-03",
            "2020-05-04",
            "2020-05-05",
            "2020-05-06",
            "2020-05-07",
            "2020-05-08",
            "2020-05-09",
            "2020-05-10",
            "2020-05-11"
           ],
           "y": [
            0,
            0,
            0,
            0,
            0,
            0,
            0,
            0,
            0,
            0,
            0,
            0,
            0,
            0,
            0
           ]
          }
         ],
         "layout": {
          "title": {
           "text": "Commit Dynamic up to 2020-05-11"
          }
         }
        },
        {
         "data": [
          {
           "mode": "markers+lines",
           "name": "user_1",
           "type": "scatter",
           "x": [
            "2020-04-17",
            "2020-04-18",
            "2020-04-19",
            "2020-04-22",
            "2020-04-23",
            "2020-04-24",
            "2020-05-03",
            "2020-05-04",
            "2020-05-05",
            "2020-05-06",
            "2020-05-07",
            "2020-05-08",
            "2020-05-09",
            "2020-05-10",
            "2020-05-11",
            "2020-05-12"
           ],
           "y": [
            0,
            0,
            0,
            0,
            0,
            0,
            0,
            0,
            0,
            0,
            0,
            0,
            0,
            0,
            0,
            0
           ]
          },
          {
           "mode": "markers+lines",
           "name": "user_10",
           "type": "scatter",
           "x": [
            "2020-04-17",
            "2020-04-18",
            "2020-04-19",
            "2020-04-22",
            "2020-04-23",
            "2020-04-24",
            "2020-05-03",
            "2020-05-04",
            "2020-05-05",
            "2020-05-06",
            "2020-05-07",
            "2020-05-08",
            "2020-05-09",
            "2020-05-10",
            "2020-05-11",
            "2020-05-12"
           ],
           "y": [
            0,
            0,
            0,
            0,
            0,
            0,
            0,
            0,
            0,
            0,
            0,
            0,
            0,
            0,
            0,
            7
           ]
          },
          {
           "mode": "markers+lines",
           "name": "user_11",
           "type": "scatter",
           "x": [
            "2020-04-17",
            "2020-04-18",
            "2020-04-19",
            "2020-04-22",
            "2020-04-23",
            "2020-04-24",
            "2020-05-03",
            "2020-05-04",
            "2020-05-05",
            "2020-05-06",
            "2020-05-07",
            "2020-05-08",
            "2020-05-09",
            "2020-05-10",
            "2020-05-11",
            "2020-05-12"
           ],
           "y": [
            0,
            0,
            0,
            0,
            0,
            0,
            1,
            1,
            1,
            1,
            1,
            1,
            1,
            1,
            1,
            1
           ]
          },
          {
           "mode": "markers+lines",
           "name": "user_12",
           "type": "scatter",
           "x": [
            "2020-04-17",
            "2020-04-18",
            "2020-04-19",
            "2020-04-22",
            "2020-04-23",
            "2020-04-24",
            "2020-05-03",
            "2020-05-04",
            "2020-05-05",
            "2020-05-06",
            "2020-05-07",
            "2020-05-08",
            "2020-05-09",
            "2020-05-10",
            "2020-05-11",
            "2020-05-12"
           ],
           "y": [
            0,
            0,
            0,
            0,
            0,
            0,
            0,
            0,
            0,
            0,
            0,
            0,
            0,
            0,
            0,
            0
           ]
          },
          {
           "mode": "markers+lines",
           "name": "user_13",
           "type": "scatter",
           "x": [
            "2020-04-17",
            "2020-04-18",
            "2020-04-19",
            "2020-04-22",
            "2020-04-23",
            "2020-04-24",
            "2020-05-03",
            "2020-05-04",
            "2020-05-05",
            "2020-05-06",
            "2020-05-07",
            "2020-05-08",
            "2020-05-09",
            "2020-05-10",
            "2020-05-11",
            "2020-05-12"
           ],
           "y": [
            0,
            0,
            0,
            0,
            0,
            0,
            0,
            0,
            0,
            0,
            0,
            0,
            0,
            0,
            2,
            30
           ]
          },
          {
           "mode": "markers+lines",
           "name": "user_14",
           "type": "scatter",
           "x": [
            "2020-04-17",
            "2020-04-18",
            "2020-04-19",
            "2020-04-22",
            "2020-04-23",
            "2020-04-24",
            "2020-05-03",
            "2020-05-04",
            "2020-05-05",
            "2020-05-06",
            "2020-05-07",
            "2020-05-08",
            "2020-05-09",
            "2020-05-10",
            "2020-05-11",
            "2020-05-12"
           ],
           "y": [
            0,
            0,
            0,
            0,
            0,
            0,
            0,
            0,
            1,
            1,
            1,
            1,
            18,
            25,
            49,
            92
           ]
          },
          {
           "mode": "markers+lines",
           "name": "user_15",
           "type": "scatter",
           "x": [
            "2020-04-17",
            "2020-04-18",
            "2020-04-19",
            "2020-04-22",
            "2020-04-23",
            "2020-04-24",
            "2020-05-03",
            "2020-05-04",
            "2020-05-05",
            "2020-05-06",
            "2020-05-07",
            "2020-05-08",
            "2020-05-09",
            "2020-05-10",
            "2020-05-11",
            "2020-05-12"
           ],
           "y": [
            0,
            0,
            0,
            0,
            0,
            0,
            0,
            0,
            0,
            0,
            0,
            0,
            0,
            0,
            0,
            0
           ]
          },
          {
           "mode": "markers+lines",
           "name": "user_16",
           "type": "scatter",
           "x": [
            "2020-04-17",
            "2020-04-18",
            "2020-04-19",
            "2020-04-22",
            "2020-04-23",
            "2020-04-24",
            "2020-05-03",
            "2020-05-04",
            "2020-05-05",
            "2020-05-06",
            "2020-05-07",
            "2020-05-08",
            "2020-05-09",
            "2020-05-10",
            "2020-05-11",
            "2020-05-12"
           ],
           "y": [
            0,
            0,
            0,
            0,
            0,
            0,
            0,
            0,
            0,
            0,
            0,
            0,
            0,
            0,
            0,
            2
           ]
          },
          {
           "mode": "markers+lines",
           "name": "user_17",
           "type": "scatter",
           "x": [
            "2020-04-17",
            "2020-04-18",
            "2020-04-19",
            "2020-04-22",
            "2020-04-23",
            "2020-04-24",
            "2020-05-03",
            "2020-05-04",
            "2020-05-05",
            "2020-05-06",
            "2020-05-07",
            "2020-05-08",
            "2020-05-09",
            "2020-05-10",
            "2020-05-11",
            "2020-05-12"
           ],
           "y": [
            0,
            1,
            1,
            1,
            1,
            1,
            1,
            1,
            1,
            1,
            1,
            1,
            1,
            1,
            1,
            3
           ]
          },
          {
           "mode": "markers+lines",
           "name": "user_18",
           "type": "scatter",
           "x": [
            "2020-04-17",
            "2020-04-18",
            "2020-04-19",
            "2020-04-22",
            "2020-04-23",
            "2020-04-24",
            "2020-05-03",
            "2020-05-04",
            "2020-05-05",
            "2020-05-06",
            "2020-05-07",
            "2020-05-08",
            "2020-05-09",
            "2020-05-10",
            "2020-05-11",
            "2020-05-12"
           ],
           "y": [
            0,
            0,
            0,
            0,
            0,
            0,
            0,
            0,
            0,
            0,
            0,
            0,
            0,
            0,
            7,
            7
           ]
          },
          {
           "mode": "markers+lines",
           "name": "user_19",
           "type": "scatter",
           "x": [
            "2020-04-17",
            "2020-04-18",
            "2020-04-19",
            "2020-04-22",
            "2020-04-23",
            "2020-04-24",
            "2020-05-03",
            "2020-05-04",
            "2020-05-05",
            "2020-05-06",
            "2020-05-07",
            "2020-05-08",
            "2020-05-09",
            "2020-05-10",
            "2020-05-11",
            "2020-05-12"
           ],
           "y": [
            0,
            0,
            0,
            0,
            0,
            0,
            0,
            0,
            0,
            0,
            0,
            0,
            0,
            0,
            0,
            0
           ]
          },
          {
           "mode": "markers+lines",
           "name": "user_2",
           "type": "scatter",
           "x": [
            "2020-04-17",
            "2020-04-18",
            "2020-04-19",
            "2020-04-22",
            "2020-04-23",
            "2020-04-24",
            "2020-05-03",
            "2020-05-04",
            "2020-05-05",
            "2020-05-06",
            "2020-05-07",
            "2020-05-08",
            "2020-05-09",
            "2020-05-10",
            "2020-05-11",
            "2020-05-12"
           ],
           "y": [
            0,
            0,
            0,
            0,
            0,
            0,
            0,
            0,
            57,
            58,
            58,
            58,
            58,
            62,
            74,
            78
           ]
          },
          {
           "mode": "markers+lines",
           "name": "user_20",
           "type": "scatter",
           "x": [
            "2020-04-17",
            "2020-04-18",
            "2020-04-19",
            "2020-04-22",
            "2020-04-23",
            "2020-04-24",
            "2020-05-03",
            "2020-05-04",
            "2020-05-05",
            "2020-05-06",
            "2020-05-07",
            "2020-05-08",
            "2020-05-09",
            "2020-05-10",
            "2020-05-11",
            "2020-05-12"
           ],
           "y": [
            0,
            0,
            0,
            0,
            0,
            0,
            0,
            0,
            0,
            0,
            0,
            0,
            0,
            0,
            11,
            11
           ]
          },
          {
           "mode": "markers+lines",
           "name": "user_21",
           "type": "scatter",
           "x": [
            "2020-04-17",
            "2020-04-18",
            "2020-04-19",
            "2020-04-22",
            "2020-04-23",
            "2020-04-24",
            "2020-05-03",
            "2020-05-04",
            "2020-05-05",
            "2020-05-06",
            "2020-05-07",
            "2020-05-08",
            "2020-05-09",
            "2020-05-10",
            "2020-05-11",
            "2020-05-12"
           ],
           "y": [
            0,
            0,
            0,
            0,
            0,
            0,
            0,
            0,
            0,
            0,
            0,
            0,
            0,
            7,
            7,
            7
           ]
          },
          {
           "mode": "markers+lines",
           "name": "user_22",
           "type": "scatter",
           "x": [
            "2020-04-17",
            "2020-04-18",
            "2020-04-19",
            "2020-04-22",
            "2020-04-23",
            "2020-04-24",
            "2020-05-03",
            "2020-05-04",
            "2020-05-05",
            "2020-05-06",
            "2020-05-07",
            "2020-05-08",
            "2020-05-09",
            "2020-05-10",
            "2020-05-11",
            "2020-05-12"
           ],
           "y": [
            0,
            0,
            0,
            0,
            0,
            0,
            1,
            1,
            1,
            1,
            1,
            1,
            1,
            1,
            1,
            1
           ]
          },
          {
           "mode": "markers+lines",
           "name": "user_24",
           "type": "scatter",
           "x": [
            "2020-04-17",
            "2020-04-18",
            "2020-04-19",
            "2020-04-22",
            "2020-04-23",
            "2020-04-24",
            "2020-05-03",
            "2020-05-04",
            "2020-05-05",
            "2020-05-06",
            "2020-05-07",
            "2020-05-08",
            "2020-05-09",
            "2020-05-10",
            "2020-05-11",
            "2020-05-12"
           ],
           "y": [
            0,
            0,
            0,
            0,
            0,
            0,
            0,
            0,
            0,
            0,
            0,
            0,
            0,
            0,
            0,
            0
           ]
          },
          {
           "mode": "markers+lines",
           "name": "user_25",
           "type": "scatter",
           "x": [
            "2020-04-17",
            "2020-04-18",
            "2020-04-19",
            "2020-04-22",
            "2020-04-23",
            "2020-04-24",
            "2020-05-03",
            "2020-05-04",
            "2020-05-05",
            "2020-05-06",
            "2020-05-07",
            "2020-05-08",
            "2020-05-09",
            "2020-05-10",
            "2020-05-11",
            "2020-05-12"
           ],
           "y": [
            0,
            0,
            0,
            0,
            0,
            0,
            0,
            0,
            0,
            0,
            0,
            5,
            27,
            29,
            33,
            54
           ]
          },
          {
           "mode": "markers+lines",
           "name": "user_26",
           "type": "scatter",
           "x": [
            "2020-04-17",
            "2020-04-18",
            "2020-04-19",
            "2020-04-22",
            "2020-04-23",
            "2020-04-24",
            "2020-05-03",
            "2020-05-04",
            "2020-05-05",
            "2020-05-06",
            "2020-05-07",
            "2020-05-08",
            "2020-05-09",
            "2020-05-10",
            "2020-05-11",
            "2020-05-12"
           ],
           "y": [
            0,
            0,
            0,
            0,
            0,
            0,
            0,
            0,
            0,
            0,
            0,
            0,
            0,
            35,
            35,
            35
           ]
          },
          {
           "mode": "markers+lines",
           "name": "user_27",
           "type": "scatter",
           "x": [
            "2020-04-17",
            "2020-04-18",
            "2020-04-19",
            "2020-04-22",
            "2020-04-23",
            "2020-04-24",
            "2020-05-03",
            "2020-05-04",
            "2020-05-05",
            "2020-05-06",
            "2020-05-07",
            "2020-05-08",
            "2020-05-09",
            "2020-05-10",
            "2020-05-11",
            "2020-05-12"
           ],
           "y": [
            0,
            0,
            0,
            0,
            0,
            0,
            0,
            0,
            0,
            0,
            0,
            0,
            0,
            0,
            0,
            0
           ]
          },
          {
           "mode": "markers+lines",
           "name": "user_28",
           "type": "scatter",
           "x": [
            "2020-04-17",
            "2020-04-18",
            "2020-04-19",
            "2020-04-22",
            "2020-04-23",
            "2020-04-24",
            "2020-05-03",
            "2020-05-04",
            "2020-05-05",
            "2020-05-06",
            "2020-05-07",
            "2020-05-08",
            "2020-05-09",
            "2020-05-10",
            "2020-05-11",
            "2020-05-12"
           ],
           "y": [
            0,
            0,
            0,
            0,
            0,
            0,
            0,
            0,
            0,
            0,
            0,
            0,
            0,
            0,
            0,
            2
           ]
          },
          {
           "mode": "markers+lines",
           "name": "user_29",
           "type": "scatter",
           "x": [
            "2020-04-17",
            "2020-04-18",
            "2020-04-19",
            "2020-04-22",
            "2020-04-23",
            "2020-04-24",
            "2020-05-03",
            "2020-05-04",
            "2020-05-05",
            "2020-05-06",
            "2020-05-07",
            "2020-05-08",
            "2020-05-09",
            "2020-05-10",
            "2020-05-11",
            "2020-05-12"
           ],
           "y": [
            0,
            0,
            0,
            0,
            0,
            0,
            0,
            0,
            0,
            0,
            0,
            0,
            0,
            0,
            5,
            18
           ]
          },
          {
           "mode": "markers+lines",
           "name": "user_3",
           "type": "scatter",
           "x": [
            "2020-04-17",
            "2020-04-18",
            "2020-04-19",
            "2020-04-22",
            "2020-04-23",
            "2020-04-24",
            "2020-05-03",
            "2020-05-04",
            "2020-05-05",
            "2020-05-06",
            "2020-05-07",
            "2020-05-08",
            "2020-05-09",
            "2020-05-10",
            "2020-05-11",
            "2020-05-12"
           ],
           "y": [
            0,
            0,
            0,
            0,
            0,
            0,
            0,
            0,
            0,
            0,
            1,
            28,
            29,
            31,
            54,
            56
           ]
          },
          {
           "mode": "markers+lines",
           "name": "user_30",
           "type": "scatter",
           "x": [
            "2020-04-17",
            "2020-04-18",
            "2020-04-19",
            "2020-04-22",
            "2020-04-23",
            "2020-04-24",
            "2020-05-03",
            "2020-05-04",
            "2020-05-05",
            "2020-05-06",
            "2020-05-07",
            "2020-05-08",
            "2020-05-09",
            "2020-05-10",
            "2020-05-11",
            "2020-05-12"
           ],
           "y": [
            0,
            0,
            0,
            1,
            2,
            2,
            4,
            5,
            5,
            5,
            12,
            12,
            12,
            17,
            17,
            17
           ]
          },
          {
           "mode": "markers+lines",
           "name": "user_31",
           "type": "scatter",
           "x": [
            "2020-04-17",
            "2020-04-18",
            "2020-04-19",
            "2020-04-22",
            "2020-04-23",
            "2020-04-24",
            "2020-05-03",
            "2020-05-04",
            "2020-05-05",
            "2020-05-06",
            "2020-05-07",
            "2020-05-08",
            "2020-05-09",
            "2020-05-10",
            "2020-05-11",
            "2020-05-12"
           ],
           "y": [
            0,
            0,
            0,
            0,
            0,
            0,
            0,
            0,
            0,
            0,
            1,
            1,
            4,
            4,
            6,
            6
           ]
          },
          {
           "mode": "markers+lines",
           "name": "user_4",
           "type": "scatter",
           "x": [
            "2020-04-17",
            "2020-04-18",
            "2020-04-19",
            "2020-04-22",
            "2020-04-23",
            "2020-04-24",
            "2020-05-03",
            "2020-05-04",
            "2020-05-05",
            "2020-05-06",
            "2020-05-07",
            "2020-05-08",
            "2020-05-09",
            "2020-05-10",
            "2020-05-11",
            "2020-05-12"
           ],
           "y": [
            7,
            7,
            11,
            11,
            20,
            27,
            35,
            48,
            53,
            53,
            71,
            83,
            83,
            83,
            87,
            125
           ]
          },
          {
           "mode": "markers+lines",
           "name": "user_6",
           "type": "scatter",
           "x": [
            "2020-04-17",
            "2020-04-18",
            "2020-04-19",
            "2020-04-22",
            "2020-04-23",
            "2020-04-24",
            "2020-05-03",
            "2020-05-04",
            "2020-05-05",
            "2020-05-06",
            "2020-05-07",
            "2020-05-08",
            "2020-05-09",
            "2020-05-10",
            "2020-05-11",
            "2020-05-12"
           ],
           "y": [
            0,
            0,
            0,
            0,
            0,
            0,
            0,
            0,
            0,
            0,
            0,
            0,
            0,
            0,
            0,
            0
           ]
          },
          {
           "mode": "markers+lines",
           "name": "user_8",
           "type": "scatter",
           "x": [
            "2020-04-17",
            "2020-04-18",
            "2020-04-19",
            "2020-04-22",
            "2020-04-23",
            "2020-04-24",
            "2020-05-03",
            "2020-05-04",
            "2020-05-05",
            "2020-05-06",
            "2020-05-07",
            "2020-05-08",
            "2020-05-09",
            "2020-05-10",
            "2020-05-11",
            "2020-05-12"
           ],
           "y": [
            0,
            0,
            0,
            0,
            0,
            0,
            0,
            0,
            0,
            0,
            0,
            0,
            0,
            0,
            0,
            0
           ]
          }
         ],
         "layout": {
          "title": {
           "text": "Commit Dynamic up to 2020-05-12"
          }
         }
        },
        {
         "data": [
          {
           "mode": "markers+lines",
           "name": "user_1",
           "type": "scatter",
           "x": [
            "2020-04-17",
            "2020-04-18",
            "2020-04-19",
            "2020-04-22",
            "2020-04-23",
            "2020-04-24",
            "2020-05-03",
            "2020-05-04",
            "2020-05-05",
            "2020-05-06",
            "2020-05-07",
            "2020-05-08",
            "2020-05-09",
            "2020-05-10",
            "2020-05-11",
            "2020-05-12",
            "2020-05-13"
           ],
           "y": [
            0,
            0,
            0,
            0,
            0,
            0,
            0,
            0,
            0,
            0,
            0,
            0,
            0,
            0,
            0,
            0,
            0
           ]
          },
          {
           "mode": "markers+lines",
           "name": "user_10",
           "type": "scatter",
           "x": [
            "2020-04-17",
            "2020-04-18",
            "2020-04-19",
            "2020-04-22",
            "2020-04-23",
            "2020-04-24",
            "2020-05-03",
            "2020-05-04",
            "2020-05-05",
            "2020-05-06",
            "2020-05-07",
            "2020-05-08",
            "2020-05-09",
            "2020-05-10",
            "2020-05-11",
            "2020-05-12",
            "2020-05-13"
           ],
           "y": [
            0,
            0,
            0,
            0,
            0,
            0,
            0,
            0,
            0,
            0,
            0,
            0,
            0,
            0,
            0,
            7,
            21
           ]
          },
          {
           "mode": "markers+lines",
           "name": "user_11",
           "type": "scatter",
           "x": [
            "2020-04-17",
            "2020-04-18",
            "2020-04-19",
            "2020-04-22",
            "2020-04-23",
            "2020-04-24",
            "2020-05-03",
            "2020-05-04",
            "2020-05-05",
            "2020-05-06",
            "2020-05-07",
            "2020-05-08",
            "2020-05-09",
            "2020-05-10",
            "2020-05-11",
            "2020-05-12",
            "2020-05-13"
           ],
           "y": [
            0,
            0,
            0,
            0,
            0,
            0,
            1,
            1,
            1,
            1,
            1,
            1,
            1,
            1,
            1,
            1,
            1
           ]
          },
          {
           "mode": "markers+lines",
           "name": "user_12",
           "type": "scatter",
           "x": [
            "2020-04-17",
            "2020-04-18",
            "2020-04-19",
            "2020-04-22",
            "2020-04-23",
            "2020-04-24",
            "2020-05-03",
            "2020-05-04",
            "2020-05-05",
            "2020-05-06",
            "2020-05-07",
            "2020-05-08",
            "2020-05-09",
            "2020-05-10",
            "2020-05-11",
            "2020-05-12",
            "2020-05-13"
           ],
           "y": [
            0,
            0,
            0,
            0,
            0,
            0,
            0,
            0,
            0,
            0,
            0,
            0,
            0,
            0,
            0,
            0,
            0
           ]
          },
          {
           "mode": "markers+lines",
           "name": "user_13",
           "type": "scatter",
           "x": [
            "2020-04-17",
            "2020-04-18",
            "2020-04-19",
            "2020-04-22",
            "2020-04-23",
            "2020-04-24",
            "2020-05-03",
            "2020-05-04",
            "2020-05-05",
            "2020-05-06",
            "2020-05-07",
            "2020-05-08",
            "2020-05-09",
            "2020-05-10",
            "2020-05-11",
            "2020-05-12",
            "2020-05-13"
           ],
           "y": [
            0,
            0,
            0,
            0,
            0,
            0,
            0,
            0,
            0,
            0,
            0,
            0,
            0,
            0,
            2,
            30,
            30
           ]
          },
          {
           "mode": "markers+lines",
           "name": "user_14",
           "type": "scatter",
           "x": [
            "2020-04-17",
            "2020-04-18",
            "2020-04-19",
            "2020-04-22",
            "2020-04-23",
            "2020-04-24",
            "2020-05-03",
            "2020-05-04",
            "2020-05-05",
            "2020-05-06",
            "2020-05-07",
            "2020-05-08",
            "2020-05-09",
            "2020-05-10",
            "2020-05-11",
            "2020-05-12",
            "2020-05-13"
           ],
           "y": [
            0,
            0,
            0,
            0,
            0,
            0,
            0,
            0,
            1,
            1,
            1,
            1,
            18,
            25,
            49,
            92,
            92
           ]
          },
          {
           "mode": "markers+lines",
           "name": "user_15",
           "type": "scatter",
           "x": [
            "2020-04-17",
            "2020-04-18",
            "2020-04-19",
            "2020-04-22",
            "2020-04-23",
            "2020-04-24",
            "2020-05-03",
            "2020-05-04",
            "2020-05-05",
            "2020-05-06",
            "2020-05-07",
            "2020-05-08",
            "2020-05-09",
            "2020-05-10",
            "2020-05-11",
            "2020-05-12",
            "2020-05-13"
           ],
           "y": [
            0,
            0,
            0,
            0,
            0,
            0,
            0,
            0,
            0,
            0,
            0,
            0,
            0,
            0,
            0,
            0,
            0
           ]
          },
          {
           "mode": "markers+lines",
           "name": "user_16",
           "type": "scatter",
           "x": [
            "2020-04-17",
            "2020-04-18",
            "2020-04-19",
            "2020-04-22",
            "2020-04-23",
            "2020-04-24",
            "2020-05-03",
            "2020-05-04",
            "2020-05-05",
            "2020-05-06",
            "2020-05-07",
            "2020-05-08",
            "2020-05-09",
            "2020-05-10",
            "2020-05-11",
            "2020-05-12",
            "2020-05-13"
           ],
           "y": [
            0,
            0,
            0,
            0,
            0,
            0,
            0,
            0,
            0,
            0,
            0,
            0,
            0,
            0,
            0,
            2,
            2
           ]
          },
          {
           "mode": "markers+lines",
           "name": "user_17",
           "type": "scatter",
           "x": [
            "2020-04-17",
            "2020-04-18",
            "2020-04-19",
            "2020-04-22",
            "2020-04-23",
            "2020-04-24",
            "2020-05-03",
            "2020-05-04",
            "2020-05-05",
            "2020-05-06",
            "2020-05-07",
            "2020-05-08",
            "2020-05-09",
            "2020-05-10",
            "2020-05-11",
            "2020-05-12",
            "2020-05-13"
           ],
           "y": [
            0,
            1,
            1,
            1,
            1,
            1,
            1,
            1,
            1,
            1,
            1,
            1,
            1,
            1,
            1,
            3,
            3
           ]
          },
          {
           "mode": "markers+lines",
           "name": "user_18",
           "type": "scatter",
           "x": [
            "2020-04-17",
            "2020-04-18",
            "2020-04-19",
            "2020-04-22",
            "2020-04-23",
            "2020-04-24",
            "2020-05-03",
            "2020-05-04",
            "2020-05-05",
            "2020-05-06",
            "2020-05-07",
            "2020-05-08",
            "2020-05-09",
            "2020-05-10",
            "2020-05-11",
            "2020-05-12",
            "2020-05-13"
           ],
           "y": [
            0,
            0,
            0,
            0,
            0,
            0,
            0,
            0,
            0,
            0,
            0,
            0,
            0,
            0,
            7,
            7,
            8
           ]
          },
          {
           "mode": "markers+lines",
           "name": "user_19",
           "type": "scatter",
           "x": [
            "2020-04-17",
            "2020-04-18",
            "2020-04-19",
            "2020-04-22",
            "2020-04-23",
            "2020-04-24",
            "2020-05-03",
            "2020-05-04",
            "2020-05-05",
            "2020-05-06",
            "2020-05-07",
            "2020-05-08",
            "2020-05-09",
            "2020-05-10",
            "2020-05-11",
            "2020-05-12",
            "2020-05-13"
           ],
           "y": [
            0,
            0,
            0,
            0,
            0,
            0,
            0,
            0,
            0,
            0,
            0,
            0,
            0,
            0,
            0,
            0,
            0
           ]
          },
          {
           "mode": "markers+lines",
           "name": "user_2",
           "type": "scatter",
           "x": [
            "2020-04-17",
            "2020-04-18",
            "2020-04-19",
            "2020-04-22",
            "2020-04-23",
            "2020-04-24",
            "2020-05-03",
            "2020-05-04",
            "2020-05-05",
            "2020-05-06",
            "2020-05-07",
            "2020-05-08",
            "2020-05-09",
            "2020-05-10",
            "2020-05-11",
            "2020-05-12",
            "2020-05-13"
           ],
           "y": [
            0,
            0,
            0,
            0,
            0,
            0,
            0,
            0,
            57,
            58,
            58,
            58,
            58,
            62,
            74,
            78,
            93
           ]
          },
          {
           "mode": "markers+lines",
           "name": "user_20",
           "type": "scatter",
           "x": [
            "2020-04-17",
            "2020-04-18",
            "2020-04-19",
            "2020-04-22",
            "2020-04-23",
            "2020-04-24",
            "2020-05-03",
            "2020-05-04",
            "2020-05-05",
            "2020-05-06",
            "2020-05-07",
            "2020-05-08",
            "2020-05-09",
            "2020-05-10",
            "2020-05-11",
            "2020-05-12",
            "2020-05-13"
           ],
           "y": [
            0,
            0,
            0,
            0,
            0,
            0,
            0,
            0,
            0,
            0,
            0,
            0,
            0,
            0,
            11,
            11,
            11
           ]
          },
          {
           "mode": "markers+lines",
           "name": "user_21",
           "type": "scatter",
           "x": [
            "2020-04-17",
            "2020-04-18",
            "2020-04-19",
            "2020-04-22",
            "2020-04-23",
            "2020-04-24",
            "2020-05-03",
            "2020-05-04",
            "2020-05-05",
            "2020-05-06",
            "2020-05-07",
            "2020-05-08",
            "2020-05-09",
            "2020-05-10",
            "2020-05-11",
            "2020-05-12",
            "2020-05-13"
           ],
           "y": [
            0,
            0,
            0,
            0,
            0,
            0,
            0,
            0,
            0,
            0,
            0,
            0,
            0,
            7,
            7,
            7,
            7
           ]
          },
          {
           "mode": "markers+lines",
           "name": "user_22",
           "type": "scatter",
           "x": [
            "2020-04-17",
            "2020-04-18",
            "2020-04-19",
            "2020-04-22",
            "2020-04-23",
            "2020-04-24",
            "2020-05-03",
            "2020-05-04",
            "2020-05-05",
            "2020-05-06",
            "2020-05-07",
            "2020-05-08",
            "2020-05-09",
            "2020-05-10",
            "2020-05-11",
            "2020-05-12",
            "2020-05-13"
           ],
           "y": [
            0,
            0,
            0,
            0,
            0,
            0,
            1,
            1,
            1,
            1,
            1,
            1,
            1,
            1,
            1,
            1,
            1
           ]
          },
          {
           "mode": "markers+lines",
           "name": "user_24",
           "type": "scatter",
           "x": [
            "2020-04-17",
            "2020-04-18",
            "2020-04-19",
            "2020-04-22",
            "2020-04-23",
            "2020-04-24",
            "2020-05-03",
            "2020-05-04",
            "2020-05-05",
            "2020-05-06",
            "2020-05-07",
            "2020-05-08",
            "2020-05-09",
            "2020-05-10",
            "2020-05-11",
            "2020-05-12",
            "2020-05-13"
           ],
           "y": [
            0,
            0,
            0,
            0,
            0,
            0,
            0,
            0,
            0,
            0,
            0,
            0,
            0,
            0,
            0,
            0,
            9
           ]
          },
          {
           "mode": "markers+lines",
           "name": "user_25",
           "type": "scatter",
           "x": [
            "2020-04-17",
            "2020-04-18",
            "2020-04-19",
            "2020-04-22",
            "2020-04-23",
            "2020-04-24",
            "2020-05-03",
            "2020-05-04",
            "2020-05-05",
            "2020-05-06",
            "2020-05-07",
            "2020-05-08",
            "2020-05-09",
            "2020-05-10",
            "2020-05-11",
            "2020-05-12",
            "2020-05-13"
           ],
           "y": [
            0,
            0,
            0,
            0,
            0,
            0,
            0,
            0,
            0,
            0,
            0,
            5,
            27,
            29,
            33,
            54,
            57
           ]
          },
          {
           "mode": "markers+lines",
           "name": "user_26",
           "type": "scatter",
           "x": [
            "2020-04-17",
            "2020-04-18",
            "2020-04-19",
            "2020-04-22",
            "2020-04-23",
            "2020-04-24",
            "2020-05-03",
            "2020-05-04",
            "2020-05-05",
            "2020-05-06",
            "2020-05-07",
            "2020-05-08",
            "2020-05-09",
            "2020-05-10",
            "2020-05-11",
            "2020-05-12",
            "2020-05-13"
           ],
           "y": [
            0,
            0,
            0,
            0,
            0,
            0,
            0,
            0,
            0,
            0,
            0,
            0,
            0,
            35,
            35,
            35,
            52
           ]
          },
          {
           "mode": "markers+lines",
           "name": "user_27",
           "type": "scatter",
           "x": [
            "2020-04-17",
            "2020-04-18",
            "2020-04-19",
            "2020-04-22",
            "2020-04-23",
            "2020-04-24",
            "2020-05-03",
            "2020-05-04",
            "2020-05-05",
            "2020-05-06",
            "2020-05-07",
            "2020-05-08",
            "2020-05-09",
            "2020-05-10",
            "2020-05-11",
            "2020-05-12",
            "2020-05-13"
           ],
           "y": [
            0,
            0,
            0,
            0,
            0,
            0,
            0,
            0,
            0,
            0,
            0,
            0,
            0,
            0,
            0,
            0,
            0
           ]
          },
          {
           "mode": "markers+lines",
           "name": "user_28",
           "type": "scatter",
           "x": [
            "2020-04-17",
            "2020-04-18",
            "2020-04-19",
            "2020-04-22",
            "2020-04-23",
            "2020-04-24",
            "2020-05-03",
            "2020-05-04",
            "2020-05-05",
            "2020-05-06",
            "2020-05-07",
            "2020-05-08",
            "2020-05-09",
            "2020-05-10",
            "2020-05-11",
            "2020-05-12",
            "2020-05-13"
           ],
           "y": [
            0,
            0,
            0,
            0,
            0,
            0,
            0,
            0,
            0,
            0,
            0,
            0,
            0,
            0,
            0,
            2,
            20
           ]
          },
          {
           "mode": "markers+lines",
           "name": "user_29",
           "type": "scatter",
           "x": [
            "2020-04-17",
            "2020-04-18",
            "2020-04-19",
            "2020-04-22",
            "2020-04-23",
            "2020-04-24",
            "2020-05-03",
            "2020-05-04",
            "2020-05-05",
            "2020-05-06",
            "2020-05-07",
            "2020-05-08",
            "2020-05-09",
            "2020-05-10",
            "2020-05-11",
            "2020-05-12",
            "2020-05-13"
           ],
           "y": [
            0,
            0,
            0,
            0,
            0,
            0,
            0,
            0,
            0,
            0,
            0,
            0,
            0,
            0,
            5,
            18,
            34
           ]
          },
          {
           "mode": "markers+lines",
           "name": "user_3",
           "type": "scatter",
           "x": [
            "2020-04-17",
            "2020-04-18",
            "2020-04-19",
            "2020-04-22",
            "2020-04-23",
            "2020-04-24",
            "2020-05-03",
            "2020-05-04",
            "2020-05-05",
            "2020-05-06",
            "2020-05-07",
            "2020-05-08",
            "2020-05-09",
            "2020-05-10",
            "2020-05-11",
            "2020-05-12",
            "2020-05-13"
           ],
           "y": [
            0,
            0,
            0,
            0,
            0,
            0,
            0,
            0,
            0,
            0,
            1,
            28,
            29,
            31,
            54,
            56,
            56
           ]
          },
          {
           "mode": "markers+lines",
           "name": "user_30",
           "type": "scatter",
           "x": [
            "2020-04-17",
            "2020-04-18",
            "2020-04-19",
            "2020-04-22",
            "2020-04-23",
            "2020-04-24",
            "2020-05-03",
            "2020-05-04",
            "2020-05-05",
            "2020-05-06",
            "2020-05-07",
            "2020-05-08",
            "2020-05-09",
            "2020-05-10",
            "2020-05-11",
            "2020-05-12",
            "2020-05-13"
           ],
           "y": [
            0,
            0,
            0,
            1,
            2,
            2,
            4,
            5,
            5,
            5,
            12,
            12,
            12,
            17,
            17,
            17,
            17
           ]
          },
          {
           "mode": "markers+lines",
           "name": "user_31",
           "type": "scatter",
           "x": [
            "2020-04-17",
            "2020-04-18",
            "2020-04-19",
            "2020-04-22",
            "2020-04-23",
            "2020-04-24",
            "2020-05-03",
            "2020-05-04",
            "2020-05-05",
            "2020-05-06",
            "2020-05-07",
            "2020-05-08",
            "2020-05-09",
            "2020-05-10",
            "2020-05-11",
            "2020-05-12",
            "2020-05-13"
           ],
           "y": [
            0,
            0,
            0,
            0,
            0,
            0,
            0,
            0,
            0,
            0,
            1,
            1,
            4,
            4,
            6,
            6,
            6
           ]
          },
          {
           "mode": "markers+lines",
           "name": "user_4",
           "type": "scatter",
           "x": [
            "2020-04-17",
            "2020-04-18",
            "2020-04-19",
            "2020-04-22",
            "2020-04-23",
            "2020-04-24",
            "2020-05-03",
            "2020-05-04",
            "2020-05-05",
            "2020-05-06",
            "2020-05-07",
            "2020-05-08",
            "2020-05-09",
            "2020-05-10",
            "2020-05-11",
            "2020-05-12",
            "2020-05-13"
           ],
           "y": [
            7,
            7,
            11,
            11,
            20,
            27,
            35,
            48,
            53,
            53,
            71,
            83,
            83,
            83,
            87,
            125,
            137
           ]
          },
          {
           "mode": "markers+lines",
           "name": "user_6",
           "type": "scatter",
           "x": [
            "2020-04-17",
            "2020-04-18",
            "2020-04-19",
            "2020-04-22",
            "2020-04-23",
            "2020-04-24",
            "2020-05-03",
            "2020-05-04",
            "2020-05-05",
            "2020-05-06",
            "2020-05-07",
            "2020-05-08",
            "2020-05-09",
            "2020-05-10",
            "2020-05-11",
            "2020-05-12",
            "2020-05-13"
           ],
           "y": [
            0,
            0,
            0,
            0,
            0,
            0,
            0,
            0,
            0,
            0,
            0,
            0,
            0,
            0,
            0,
            0,
            1
           ]
          },
          {
           "mode": "markers+lines",
           "name": "user_8",
           "type": "scatter",
           "x": [
            "2020-04-17",
            "2020-04-18",
            "2020-04-19",
            "2020-04-22",
            "2020-04-23",
            "2020-04-24",
            "2020-05-03",
            "2020-05-04",
            "2020-05-05",
            "2020-05-06",
            "2020-05-07",
            "2020-05-08",
            "2020-05-09",
            "2020-05-10",
            "2020-05-11",
            "2020-05-12",
            "2020-05-13"
           ],
           "y": [
            0,
            0,
            0,
            0,
            0,
            0,
            0,
            0,
            0,
            0,
            0,
            0,
            0,
            0,
            0,
            0,
            0
           ]
          }
         ],
         "layout": {
          "title": {
           "text": "Commit Dynamic up to 2020-05-13"
          }
         }
        },
        {
         "data": [
          {
           "mode": "markers+lines",
           "name": "user_1",
           "type": "scatter",
           "x": [
            "2020-04-17",
            "2020-04-18",
            "2020-04-19",
            "2020-04-22",
            "2020-04-23",
            "2020-04-24",
            "2020-05-03",
            "2020-05-04",
            "2020-05-05",
            "2020-05-06",
            "2020-05-07",
            "2020-05-08",
            "2020-05-09",
            "2020-05-10",
            "2020-05-11",
            "2020-05-12",
            "2020-05-13",
            "2020-05-14"
           ],
           "y": [
            0,
            0,
            0,
            0,
            0,
            0,
            0,
            0,
            0,
            0,
            0,
            0,
            0,
            0,
            0,
            0,
            0,
            11
           ]
          },
          {
           "mode": "markers+lines",
           "name": "user_10",
           "type": "scatter",
           "x": [
            "2020-04-17",
            "2020-04-18",
            "2020-04-19",
            "2020-04-22",
            "2020-04-23",
            "2020-04-24",
            "2020-05-03",
            "2020-05-04",
            "2020-05-05",
            "2020-05-06",
            "2020-05-07",
            "2020-05-08",
            "2020-05-09",
            "2020-05-10",
            "2020-05-11",
            "2020-05-12",
            "2020-05-13",
            "2020-05-14"
           ],
           "y": [
            0,
            0,
            0,
            0,
            0,
            0,
            0,
            0,
            0,
            0,
            0,
            0,
            0,
            0,
            0,
            7,
            21,
            58
           ]
          },
          {
           "mode": "markers+lines",
           "name": "user_11",
           "type": "scatter",
           "x": [
            "2020-04-17",
            "2020-04-18",
            "2020-04-19",
            "2020-04-22",
            "2020-04-23",
            "2020-04-24",
            "2020-05-03",
            "2020-05-04",
            "2020-05-05",
            "2020-05-06",
            "2020-05-07",
            "2020-05-08",
            "2020-05-09",
            "2020-05-10",
            "2020-05-11",
            "2020-05-12",
            "2020-05-13",
            "2020-05-14"
           ],
           "y": [
            0,
            0,
            0,
            0,
            0,
            0,
            1,
            1,
            1,
            1,
            1,
            1,
            1,
            1,
            1,
            1,
            1,
            1
           ]
          },
          {
           "mode": "markers+lines",
           "name": "user_12",
           "type": "scatter",
           "x": [
            "2020-04-17",
            "2020-04-18",
            "2020-04-19",
            "2020-04-22",
            "2020-04-23",
            "2020-04-24",
            "2020-05-03",
            "2020-05-04",
            "2020-05-05",
            "2020-05-06",
            "2020-05-07",
            "2020-05-08",
            "2020-05-09",
            "2020-05-10",
            "2020-05-11",
            "2020-05-12",
            "2020-05-13",
            "2020-05-14"
           ],
           "y": [
            0,
            0,
            0,
            0,
            0,
            0,
            0,
            0,
            0,
            0,
            0,
            0,
            0,
            0,
            0,
            0,
            0,
            4
           ]
          },
          {
           "mode": "markers+lines",
           "name": "user_13",
           "type": "scatter",
           "x": [
            "2020-04-17",
            "2020-04-18",
            "2020-04-19",
            "2020-04-22",
            "2020-04-23",
            "2020-04-24",
            "2020-05-03",
            "2020-05-04",
            "2020-05-05",
            "2020-05-06",
            "2020-05-07",
            "2020-05-08",
            "2020-05-09",
            "2020-05-10",
            "2020-05-11",
            "2020-05-12",
            "2020-05-13",
            "2020-05-14"
           ],
           "y": [
            0,
            0,
            0,
            0,
            0,
            0,
            0,
            0,
            0,
            0,
            0,
            0,
            0,
            0,
            2,
            30,
            30,
            32
           ]
          },
          {
           "mode": "markers+lines",
           "name": "user_14",
           "type": "scatter",
           "x": [
            "2020-04-17",
            "2020-04-18",
            "2020-04-19",
            "2020-04-22",
            "2020-04-23",
            "2020-04-24",
            "2020-05-03",
            "2020-05-04",
            "2020-05-05",
            "2020-05-06",
            "2020-05-07",
            "2020-05-08",
            "2020-05-09",
            "2020-05-10",
            "2020-05-11",
            "2020-05-12",
            "2020-05-13",
            "2020-05-14"
           ],
           "y": [
            0,
            0,
            0,
            0,
            0,
            0,
            0,
            0,
            1,
            1,
            1,
            1,
            18,
            25,
            49,
            92,
            92,
            99
           ]
          },
          {
           "mode": "markers+lines",
           "name": "user_15",
           "type": "scatter",
           "x": [
            "2020-04-17",
            "2020-04-18",
            "2020-04-19",
            "2020-04-22",
            "2020-04-23",
            "2020-04-24",
            "2020-05-03",
            "2020-05-04",
            "2020-05-05",
            "2020-05-06",
            "2020-05-07",
            "2020-05-08",
            "2020-05-09",
            "2020-05-10",
            "2020-05-11",
            "2020-05-12",
            "2020-05-13",
            "2020-05-14"
           ],
           "y": [
            0,
            0,
            0,
            0,
            0,
            0,
            0,
            0,
            0,
            0,
            0,
            0,
            0,
            0,
            0,
            0,
            0,
            3
           ]
          },
          {
           "mode": "markers+lines",
           "name": "user_16",
           "type": "scatter",
           "x": [
            "2020-04-17",
            "2020-04-18",
            "2020-04-19",
            "2020-04-22",
            "2020-04-23",
            "2020-04-24",
            "2020-05-03",
            "2020-05-04",
            "2020-05-05",
            "2020-05-06",
            "2020-05-07",
            "2020-05-08",
            "2020-05-09",
            "2020-05-10",
            "2020-05-11",
            "2020-05-12",
            "2020-05-13",
            "2020-05-14"
           ],
           "y": [
            0,
            0,
            0,
            0,
            0,
            0,
            0,
            0,
            0,
            0,
            0,
            0,
            0,
            0,
            0,
            2,
            2,
            9
           ]
          },
          {
           "mode": "markers+lines",
           "name": "user_17",
           "type": "scatter",
           "x": [
            "2020-04-17",
            "2020-04-18",
            "2020-04-19",
            "2020-04-22",
            "2020-04-23",
            "2020-04-24",
            "2020-05-03",
            "2020-05-04",
            "2020-05-05",
            "2020-05-06",
            "2020-05-07",
            "2020-05-08",
            "2020-05-09",
            "2020-05-10",
            "2020-05-11",
            "2020-05-12",
            "2020-05-13",
            "2020-05-14"
           ],
           "y": [
            0,
            1,
            1,
            1,
            1,
            1,
            1,
            1,
            1,
            1,
            1,
            1,
            1,
            1,
            1,
            3,
            3,
            5
           ]
          },
          {
           "mode": "markers+lines",
           "name": "user_18",
           "type": "scatter",
           "x": [
            "2020-04-17",
            "2020-04-18",
            "2020-04-19",
            "2020-04-22",
            "2020-04-23",
            "2020-04-24",
            "2020-05-03",
            "2020-05-04",
            "2020-05-05",
            "2020-05-06",
            "2020-05-07",
            "2020-05-08",
            "2020-05-09",
            "2020-05-10",
            "2020-05-11",
            "2020-05-12",
            "2020-05-13",
            "2020-05-14"
           ],
           "y": [
            0,
            0,
            0,
            0,
            0,
            0,
            0,
            0,
            0,
            0,
            0,
            0,
            0,
            0,
            7,
            7,
            8,
            31
           ]
          },
          {
           "mode": "markers+lines",
           "name": "user_19",
           "type": "scatter",
           "x": [
            "2020-04-17",
            "2020-04-18",
            "2020-04-19",
            "2020-04-22",
            "2020-04-23",
            "2020-04-24",
            "2020-05-03",
            "2020-05-04",
            "2020-05-05",
            "2020-05-06",
            "2020-05-07",
            "2020-05-08",
            "2020-05-09",
            "2020-05-10",
            "2020-05-11",
            "2020-05-12",
            "2020-05-13",
            "2020-05-14"
           ],
           "y": [
            0,
            0,
            0,
            0,
            0,
            0,
            0,
            0,
            0,
            0,
            0,
            0,
            0,
            0,
            0,
            0,
            0,
            25
           ]
          },
          {
           "mode": "markers+lines",
           "name": "user_2",
           "type": "scatter",
           "x": [
            "2020-04-17",
            "2020-04-18",
            "2020-04-19",
            "2020-04-22",
            "2020-04-23",
            "2020-04-24",
            "2020-05-03",
            "2020-05-04",
            "2020-05-05",
            "2020-05-06",
            "2020-05-07",
            "2020-05-08",
            "2020-05-09",
            "2020-05-10",
            "2020-05-11",
            "2020-05-12",
            "2020-05-13",
            "2020-05-14"
           ],
           "y": [
            0,
            0,
            0,
            0,
            0,
            0,
            0,
            0,
            57,
            58,
            58,
            58,
            58,
            62,
            74,
            78,
            93,
            95
           ]
          },
          {
           "mode": "markers+lines",
           "name": "user_20",
           "type": "scatter",
           "x": [
            "2020-04-17",
            "2020-04-18",
            "2020-04-19",
            "2020-04-22",
            "2020-04-23",
            "2020-04-24",
            "2020-05-03",
            "2020-05-04",
            "2020-05-05",
            "2020-05-06",
            "2020-05-07",
            "2020-05-08",
            "2020-05-09",
            "2020-05-10",
            "2020-05-11",
            "2020-05-12",
            "2020-05-13",
            "2020-05-14"
           ],
           "y": [
            0,
            0,
            0,
            0,
            0,
            0,
            0,
            0,
            0,
            0,
            0,
            0,
            0,
            0,
            11,
            11,
            11,
            54
           ]
          },
          {
           "mode": "markers+lines",
           "name": "user_21",
           "type": "scatter",
           "x": [
            "2020-04-17",
            "2020-04-18",
            "2020-04-19",
            "2020-04-22",
            "2020-04-23",
            "2020-04-24",
            "2020-05-03",
            "2020-05-04",
            "2020-05-05",
            "2020-05-06",
            "2020-05-07",
            "2020-05-08",
            "2020-05-09",
            "2020-05-10",
            "2020-05-11",
            "2020-05-12",
            "2020-05-13",
            "2020-05-14"
           ],
           "y": [
            0,
            0,
            0,
            0,
            0,
            0,
            0,
            0,
            0,
            0,
            0,
            0,
            0,
            7,
            7,
            7,
            7,
            9
           ]
          },
          {
           "mode": "markers+lines",
           "name": "user_22",
           "type": "scatter",
           "x": [
            "2020-04-17",
            "2020-04-18",
            "2020-04-19",
            "2020-04-22",
            "2020-04-23",
            "2020-04-24",
            "2020-05-03",
            "2020-05-04",
            "2020-05-05",
            "2020-05-06",
            "2020-05-07",
            "2020-05-08",
            "2020-05-09",
            "2020-05-10",
            "2020-05-11",
            "2020-05-12",
            "2020-05-13",
            "2020-05-14"
           ],
           "y": [
            0,
            0,
            0,
            0,
            0,
            0,
            1,
            1,
            1,
            1,
            1,
            1,
            1,
            1,
            1,
            1,
            1,
            2
           ]
          },
          {
           "mode": "markers+lines",
           "name": "user_24",
           "type": "scatter",
           "x": [
            "2020-04-17",
            "2020-04-18",
            "2020-04-19",
            "2020-04-22",
            "2020-04-23",
            "2020-04-24",
            "2020-05-03",
            "2020-05-04",
            "2020-05-05",
            "2020-05-06",
            "2020-05-07",
            "2020-05-08",
            "2020-05-09",
            "2020-05-10",
            "2020-05-11",
            "2020-05-12",
            "2020-05-13",
            "2020-05-14"
           ],
           "y": [
            0,
            0,
            0,
            0,
            0,
            0,
            0,
            0,
            0,
            0,
            0,
            0,
            0,
            0,
            0,
            0,
            9,
            34
           ]
          },
          {
           "mode": "markers+lines",
           "name": "user_25",
           "type": "scatter",
           "x": [
            "2020-04-17",
            "2020-04-18",
            "2020-04-19",
            "2020-04-22",
            "2020-04-23",
            "2020-04-24",
            "2020-05-03",
            "2020-05-04",
            "2020-05-05",
            "2020-05-06",
            "2020-05-07",
            "2020-05-08",
            "2020-05-09",
            "2020-05-10",
            "2020-05-11",
            "2020-05-12",
            "2020-05-13",
            "2020-05-14"
           ],
           "y": [
            0,
            0,
            0,
            0,
            0,
            0,
            0,
            0,
            0,
            0,
            0,
            5,
            27,
            29,
            33,
            54,
            57,
            77
           ]
          },
          {
           "mode": "markers+lines",
           "name": "user_26",
           "type": "scatter",
           "x": [
            "2020-04-17",
            "2020-04-18",
            "2020-04-19",
            "2020-04-22",
            "2020-04-23",
            "2020-04-24",
            "2020-05-03",
            "2020-05-04",
            "2020-05-05",
            "2020-05-06",
            "2020-05-07",
            "2020-05-08",
            "2020-05-09",
            "2020-05-10",
            "2020-05-11",
            "2020-05-12",
            "2020-05-13",
            "2020-05-14"
           ],
           "y": [
            0,
            0,
            0,
            0,
            0,
            0,
            0,
            0,
            0,
            0,
            0,
            0,
            0,
            35,
            35,
            35,
            52,
            69
           ]
          },
          {
           "mode": "markers+lines",
           "name": "user_27",
           "type": "scatter",
           "x": [
            "2020-04-17",
            "2020-04-18",
            "2020-04-19",
            "2020-04-22",
            "2020-04-23",
            "2020-04-24",
            "2020-05-03",
            "2020-05-04",
            "2020-05-05",
            "2020-05-06",
            "2020-05-07",
            "2020-05-08",
            "2020-05-09",
            "2020-05-10",
            "2020-05-11",
            "2020-05-12",
            "2020-05-13",
            "2020-05-14"
           ],
           "y": [
            0,
            0,
            0,
            0,
            0,
            0,
            0,
            0,
            0,
            0,
            0,
            0,
            0,
            0,
            0,
            0,
            0,
            8
           ]
          },
          {
           "mode": "markers+lines",
           "name": "user_28",
           "type": "scatter",
           "x": [
            "2020-04-17",
            "2020-04-18",
            "2020-04-19",
            "2020-04-22",
            "2020-04-23",
            "2020-04-24",
            "2020-05-03",
            "2020-05-04",
            "2020-05-05",
            "2020-05-06",
            "2020-05-07",
            "2020-05-08",
            "2020-05-09",
            "2020-05-10",
            "2020-05-11",
            "2020-05-12",
            "2020-05-13",
            "2020-05-14"
           ],
           "y": [
            0,
            0,
            0,
            0,
            0,
            0,
            0,
            0,
            0,
            0,
            0,
            0,
            0,
            0,
            0,
            2,
            20,
            26
           ]
          },
          {
           "mode": "markers+lines",
           "name": "user_29",
           "type": "scatter",
           "x": [
            "2020-04-17",
            "2020-04-18",
            "2020-04-19",
            "2020-04-22",
            "2020-04-23",
            "2020-04-24",
            "2020-05-03",
            "2020-05-04",
            "2020-05-05",
            "2020-05-06",
            "2020-05-07",
            "2020-05-08",
            "2020-05-09",
            "2020-05-10",
            "2020-05-11",
            "2020-05-12",
            "2020-05-13",
            "2020-05-14"
           ],
           "y": [
            0,
            0,
            0,
            0,
            0,
            0,
            0,
            0,
            0,
            0,
            0,
            0,
            0,
            0,
            5,
            18,
            34,
            35
           ]
          },
          {
           "mode": "markers+lines",
           "name": "user_3",
           "type": "scatter",
           "x": [
            "2020-04-17",
            "2020-04-18",
            "2020-04-19",
            "2020-04-22",
            "2020-04-23",
            "2020-04-24",
            "2020-05-03",
            "2020-05-04",
            "2020-05-05",
            "2020-05-06",
            "2020-05-07",
            "2020-05-08",
            "2020-05-09",
            "2020-05-10",
            "2020-05-11",
            "2020-05-12",
            "2020-05-13",
            "2020-05-14"
           ],
           "y": [
            0,
            0,
            0,
            0,
            0,
            0,
            0,
            0,
            0,
            0,
            1,
            28,
            29,
            31,
            54,
            56,
            56,
            58
           ]
          },
          {
           "mode": "markers+lines",
           "name": "user_30",
           "type": "scatter",
           "x": [
            "2020-04-17",
            "2020-04-18",
            "2020-04-19",
            "2020-04-22",
            "2020-04-23",
            "2020-04-24",
            "2020-05-03",
            "2020-05-04",
            "2020-05-05",
            "2020-05-06",
            "2020-05-07",
            "2020-05-08",
            "2020-05-09",
            "2020-05-10",
            "2020-05-11",
            "2020-05-12",
            "2020-05-13",
            "2020-05-14"
           ],
           "y": [
            0,
            0,
            0,
            1,
            2,
            2,
            4,
            5,
            5,
            5,
            12,
            12,
            12,
            17,
            17,
            17,
            17,
            19
           ]
          },
          {
           "mode": "markers+lines",
           "name": "user_31",
           "type": "scatter",
           "x": [
            "2020-04-17",
            "2020-04-18",
            "2020-04-19",
            "2020-04-22",
            "2020-04-23",
            "2020-04-24",
            "2020-05-03",
            "2020-05-04",
            "2020-05-05",
            "2020-05-06",
            "2020-05-07",
            "2020-05-08",
            "2020-05-09",
            "2020-05-10",
            "2020-05-11",
            "2020-05-12",
            "2020-05-13",
            "2020-05-14"
           ],
           "y": [
            0,
            0,
            0,
            0,
            0,
            0,
            0,
            0,
            0,
            0,
            1,
            1,
            4,
            4,
            6,
            6,
            6,
            8
           ]
          },
          {
           "mode": "markers+lines",
           "name": "user_4",
           "type": "scatter",
           "x": [
            "2020-04-17",
            "2020-04-18",
            "2020-04-19",
            "2020-04-22",
            "2020-04-23",
            "2020-04-24",
            "2020-05-03",
            "2020-05-04",
            "2020-05-05",
            "2020-05-06",
            "2020-05-07",
            "2020-05-08",
            "2020-05-09",
            "2020-05-10",
            "2020-05-11",
            "2020-05-12",
            "2020-05-13",
            "2020-05-14"
           ],
           "y": [
            7,
            7,
            11,
            11,
            20,
            27,
            35,
            48,
            53,
            53,
            71,
            83,
            83,
            83,
            87,
            125,
            137,
            164
           ]
          },
          {
           "mode": "markers+lines",
           "name": "user_6",
           "type": "scatter",
           "x": [
            "2020-04-17",
            "2020-04-18",
            "2020-04-19",
            "2020-04-22",
            "2020-04-23",
            "2020-04-24",
            "2020-05-03",
            "2020-05-04",
            "2020-05-05",
            "2020-05-06",
            "2020-05-07",
            "2020-05-08",
            "2020-05-09",
            "2020-05-10",
            "2020-05-11",
            "2020-05-12",
            "2020-05-13",
            "2020-05-14"
           ],
           "y": [
            0,
            0,
            0,
            0,
            0,
            0,
            0,
            0,
            0,
            0,
            0,
            0,
            0,
            0,
            0,
            0,
            1,
            2
           ]
          },
          {
           "mode": "markers+lines",
           "name": "user_8",
           "type": "scatter",
           "x": [
            "2020-04-17",
            "2020-04-18",
            "2020-04-19",
            "2020-04-22",
            "2020-04-23",
            "2020-04-24",
            "2020-05-03",
            "2020-05-04",
            "2020-05-05",
            "2020-05-06",
            "2020-05-07",
            "2020-05-08",
            "2020-05-09",
            "2020-05-10",
            "2020-05-11",
            "2020-05-12",
            "2020-05-13",
            "2020-05-14"
           ],
           "y": [
            0,
            0,
            0,
            0,
            0,
            0,
            0,
            0,
            0,
            0,
            0,
            0,
            0,
            0,
            0,
            0,
            0,
            8
           ]
          }
         ],
         "layout": {
          "title": {
           "text": "Commit Dynamic up to 2020-05-14"
          }
         }
        },
        {
         "data": [
          {
           "mode": "markers+lines",
           "name": "user_1",
           "type": "scatter",
           "x": [
            "2020-04-17",
            "2020-04-18",
            "2020-04-19",
            "2020-04-22",
            "2020-04-23",
            "2020-04-24",
            "2020-05-03",
            "2020-05-04",
            "2020-05-05",
            "2020-05-06",
            "2020-05-07",
            "2020-05-08",
            "2020-05-09",
            "2020-05-10",
            "2020-05-11",
            "2020-05-12",
            "2020-05-13",
            "2020-05-14",
            "2020-05-15"
           ],
           "y": [
            0,
            0,
            0,
            0,
            0,
            0,
            0,
            0,
            0,
            0,
            0,
            0,
            0,
            0,
            0,
            0,
            0,
            11,
            11
           ]
          },
          {
           "mode": "markers+lines",
           "name": "user_10",
           "type": "scatter",
           "x": [
            "2020-04-17",
            "2020-04-18",
            "2020-04-19",
            "2020-04-22",
            "2020-04-23",
            "2020-04-24",
            "2020-05-03",
            "2020-05-04",
            "2020-05-05",
            "2020-05-06",
            "2020-05-07",
            "2020-05-08",
            "2020-05-09",
            "2020-05-10",
            "2020-05-11",
            "2020-05-12",
            "2020-05-13",
            "2020-05-14",
            "2020-05-15"
           ],
           "y": [
            0,
            0,
            0,
            0,
            0,
            0,
            0,
            0,
            0,
            0,
            0,
            0,
            0,
            0,
            0,
            7,
            21,
            58,
            58
           ]
          },
          {
           "mode": "markers+lines",
           "name": "user_11",
           "type": "scatter",
           "x": [
            "2020-04-17",
            "2020-04-18",
            "2020-04-19",
            "2020-04-22",
            "2020-04-23",
            "2020-04-24",
            "2020-05-03",
            "2020-05-04",
            "2020-05-05",
            "2020-05-06",
            "2020-05-07",
            "2020-05-08",
            "2020-05-09",
            "2020-05-10",
            "2020-05-11",
            "2020-05-12",
            "2020-05-13",
            "2020-05-14",
            "2020-05-15"
           ],
           "y": [
            0,
            0,
            0,
            0,
            0,
            0,
            1,
            1,
            1,
            1,
            1,
            1,
            1,
            1,
            1,
            1,
            1,
            1,
            1
           ]
          },
          {
           "mode": "markers+lines",
           "name": "user_12",
           "type": "scatter",
           "x": [
            "2020-04-17",
            "2020-04-18",
            "2020-04-19",
            "2020-04-22",
            "2020-04-23",
            "2020-04-24",
            "2020-05-03",
            "2020-05-04",
            "2020-05-05",
            "2020-05-06",
            "2020-05-07",
            "2020-05-08",
            "2020-05-09",
            "2020-05-10",
            "2020-05-11",
            "2020-05-12",
            "2020-05-13",
            "2020-05-14",
            "2020-05-15"
           ],
           "y": [
            0,
            0,
            0,
            0,
            0,
            0,
            0,
            0,
            0,
            0,
            0,
            0,
            0,
            0,
            0,
            0,
            0,
            4,
            4
           ]
          },
          {
           "mode": "markers+lines",
           "name": "user_13",
           "type": "scatter",
           "x": [
            "2020-04-17",
            "2020-04-18",
            "2020-04-19",
            "2020-04-22",
            "2020-04-23",
            "2020-04-24",
            "2020-05-03",
            "2020-05-04",
            "2020-05-05",
            "2020-05-06",
            "2020-05-07",
            "2020-05-08",
            "2020-05-09",
            "2020-05-10",
            "2020-05-11",
            "2020-05-12",
            "2020-05-13",
            "2020-05-14",
            "2020-05-15"
           ],
           "y": [
            0,
            0,
            0,
            0,
            0,
            0,
            0,
            0,
            0,
            0,
            0,
            0,
            0,
            0,
            2,
            30,
            30,
            32,
            32
           ]
          },
          {
           "mode": "markers+lines",
           "name": "user_14",
           "type": "scatter",
           "x": [
            "2020-04-17",
            "2020-04-18",
            "2020-04-19",
            "2020-04-22",
            "2020-04-23",
            "2020-04-24",
            "2020-05-03",
            "2020-05-04",
            "2020-05-05",
            "2020-05-06",
            "2020-05-07",
            "2020-05-08",
            "2020-05-09",
            "2020-05-10",
            "2020-05-11",
            "2020-05-12",
            "2020-05-13",
            "2020-05-14",
            "2020-05-15"
           ],
           "y": [
            0,
            0,
            0,
            0,
            0,
            0,
            0,
            0,
            1,
            1,
            1,
            1,
            18,
            25,
            49,
            92,
            92,
            99,
            99
           ]
          },
          {
           "mode": "markers+lines",
           "name": "user_15",
           "type": "scatter",
           "x": [
            "2020-04-17",
            "2020-04-18",
            "2020-04-19",
            "2020-04-22",
            "2020-04-23",
            "2020-04-24",
            "2020-05-03",
            "2020-05-04",
            "2020-05-05",
            "2020-05-06",
            "2020-05-07",
            "2020-05-08",
            "2020-05-09",
            "2020-05-10",
            "2020-05-11",
            "2020-05-12",
            "2020-05-13",
            "2020-05-14",
            "2020-05-15"
           ],
           "y": [
            0,
            0,
            0,
            0,
            0,
            0,
            0,
            0,
            0,
            0,
            0,
            0,
            0,
            0,
            0,
            0,
            0,
            3,
            3
           ]
          },
          {
           "mode": "markers+lines",
           "name": "user_16",
           "type": "scatter",
           "x": [
            "2020-04-17",
            "2020-04-18",
            "2020-04-19",
            "2020-04-22",
            "2020-04-23",
            "2020-04-24",
            "2020-05-03",
            "2020-05-04",
            "2020-05-05",
            "2020-05-06",
            "2020-05-07",
            "2020-05-08",
            "2020-05-09",
            "2020-05-10",
            "2020-05-11",
            "2020-05-12",
            "2020-05-13",
            "2020-05-14",
            "2020-05-15"
           ],
           "y": [
            0,
            0,
            0,
            0,
            0,
            0,
            0,
            0,
            0,
            0,
            0,
            0,
            0,
            0,
            0,
            2,
            2,
            9,
            9
           ]
          },
          {
           "mode": "markers+lines",
           "name": "user_17",
           "type": "scatter",
           "x": [
            "2020-04-17",
            "2020-04-18",
            "2020-04-19",
            "2020-04-22",
            "2020-04-23",
            "2020-04-24",
            "2020-05-03",
            "2020-05-04",
            "2020-05-05",
            "2020-05-06",
            "2020-05-07",
            "2020-05-08",
            "2020-05-09",
            "2020-05-10",
            "2020-05-11",
            "2020-05-12",
            "2020-05-13",
            "2020-05-14",
            "2020-05-15"
           ],
           "y": [
            0,
            1,
            1,
            1,
            1,
            1,
            1,
            1,
            1,
            1,
            1,
            1,
            1,
            1,
            1,
            3,
            3,
            5,
            5
           ]
          },
          {
           "mode": "markers+lines",
           "name": "user_18",
           "type": "scatter",
           "x": [
            "2020-04-17",
            "2020-04-18",
            "2020-04-19",
            "2020-04-22",
            "2020-04-23",
            "2020-04-24",
            "2020-05-03",
            "2020-05-04",
            "2020-05-05",
            "2020-05-06",
            "2020-05-07",
            "2020-05-08",
            "2020-05-09",
            "2020-05-10",
            "2020-05-11",
            "2020-05-12",
            "2020-05-13",
            "2020-05-14",
            "2020-05-15"
           ],
           "y": [
            0,
            0,
            0,
            0,
            0,
            0,
            0,
            0,
            0,
            0,
            0,
            0,
            0,
            0,
            7,
            7,
            8,
            31,
            31
           ]
          },
          {
           "mode": "markers+lines",
           "name": "user_19",
           "type": "scatter",
           "x": [
            "2020-04-17",
            "2020-04-18",
            "2020-04-19",
            "2020-04-22",
            "2020-04-23",
            "2020-04-24",
            "2020-05-03",
            "2020-05-04",
            "2020-05-05",
            "2020-05-06",
            "2020-05-07",
            "2020-05-08",
            "2020-05-09",
            "2020-05-10",
            "2020-05-11",
            "2020-05-12",
            "2020-05-13",
            "2020-05-14",
            "2020-05-15"
           ],
           "y": [
            0,
            0,
            0,
            0,
            0,
            0,
            0,
            0,
            0,
            0,
            0,
            0,
            0,
            0,
            0,
            0,
            0,
            25,
            29
           ]
          },
          {
           "mode": "markers+lines",
           "name": "user_2",
           "type": "scatter",
           "x": [
            "2020-04-17",
            "2020-04-18",
            "2020-04-19",
            "2020-04-22",
            "2020-04-23",
            "2020-04-24",
            "2020-05-03",
            "2020-05-04",
            "2020-05-05",
            "2020-05-06",
            "2020-05-07",
            "2020-05-08",
            "2020-05-09",
            "2020-05-10",
            "2020-05-11",
            "2020-05-12",
            "2020-05-13",
            "2020-05-14",
            "2020-05-15"
           ],
           "y": [
            0,
            0,
            0,
            0,
            0,
            0,
            0,
            0,
            57,
            58,
            58,
            58,
            58,
            62,
            74,
            78,
            93,
            95,
            95
           ]
          },
          {
           "mode": "markers+lines",
           "name": "user_20",
           "type": "scatter",
           "x": [
            "2020-04-17",
            "2020-04-18",
            "2020-04-19",
            "2020-04-22",
            "2020-04-23",
            "2020-04-24",
            "2020-05-03",
            "2020-05-04",
            "2020-05-05",
            "2020-05-06",
            "2020-05-07",
            "2020-05-08",
            "2020-05-09",
            "2020-05-10",
            "2020-05-11",
            "2020-05-12",
            "2020-05-13",
            "2020-05-14",
            "2020-05-15"
           ],
           "y": [
            0,
            0,
            0,
            0,
            0,
            0,
            0,
            0,
            0,
            0,
            0,
            0,
            0,
            0,
            11,
            11,
            11,
            54,
            54
           ]
          },
          {
           "mode": "markers+lines",
           "name": "user_21",
           "type": "scatter",
           "x": [
            "2020-04-17",
            "2020-04-18",
            "2020-04-19",
            "2020-04-22",
            "2020-04-23",
            "2020-04-24",
            "2020-05-03",
            "2020-05-04",
            "2020-05-05",
            "2020-05-06",
            "2020-05-07",
            "2020-05-08",
            "2020-05-09",
            "2020-05-10",
            "2020-05-11",
            "2020-05-12",
            "2020-05-13",
            "2020-05-14",
            "2020-05-15"
           ],
           "y": [
            0,
            0,
            0,
            0,
            0,
            0,
            0,
            0,
            0,
            0,
            0,
            0,
            0,
            7,
            7,
            7,
            7,
            9,
            9
           ]
          },
          {
           "mode": "markers+lines",
           "name": "user_22",
           "type": "scatter",
           "x": [
            "2020-04-17",
            "2020-04-18",
            "2020-04-19",
            "2020-04-22",
            "2020-04-23",
            "2020-04-24",
            "2020-05-03",
            "2020-05-04",
            "2020-05-05",
            "2020-05-06",
            "2020-05-07",
            "2020-05-08",
            "2020-05-09",
            "2020-05-10",
            "2020-05-11",
            "2020-05-12",
            "2020-05-13",
            "2020-05-14",
            "2020-05-15"
           ],
           "y": [
            0,
            0,
            0,
            0,
            0,
            0,
            1,
            1,
            1,
            1,
            1,
            1,
            1,
            1,
            1,
            1,
            1,
            2,
            2
           ]
          },
          {
           "mode": "markers+lines",
           "name": "user_24",
           "type": "scatter",
           "x": [
            "2020-04-17",
            "2020-04-18",
            "2020-04-19",
            "2020-04-22",
            "2020-04-23",
            "2020-04-24",
            "2020-05-03",
            "2020-05-04",
            "2020-05-05",
            "2020-05-06",
            "2020-05-07",
            "2020-05-08",
            "2020-05-09",
            "2020-05-10",
            "2020-05-11",
            "2020-05-12",
            "2020-05-13",
            "2020-05-14",
            "2020-05-15"
           ],
           "y": [
            0,
            0,
            0,
            0,
            0,
            0,
            0,
            0,
            0,
            0,
            0,
            0,
            0,
            0,
            0,
            0,
            9,
            34,
            34
           ]
          },
          {
           "mode": "markers+lines",
           "name": "user_25",
           "type": "scatter",
           "x": [
            "2020-04-17",
            "2020-04-18",
            "2020-04-19",
            "2020-04-22",
            "2020-04-23",
            "2020-04-24",
            "2020-05-03",
            "2020-05-04",
            "2020-05-05",
            "2020-05-06",
            "2020-05-07",
            "2020-05-08",
            "2020-05-09",
            "2020-05-10",
            "2020-05-11",
            "2020-05-12",
            "2020-05-13",
            "2020-05-14",
            "2020-05-15"
           ],
           "y": [
            0,
            0,
            0,
            0,
            0,
            0,
            0,
            0,
            0,
            0,
            0,
            5,
            27,
            29,
            33,
            54,
            57,
            77,
            77
           ]
          },
          {
           "mode": "markers+lines",
           "name": "user_26",
           "type": "scatter",
           "x": [
            "2020-04-17",
            "2020-04-18",
            "2020-04-19",
            "2020-04-22",
            "2020-04-23",
            "2020-04-24",
            "2020-05-03",
            "2020-05-04",
            "2020-05-05",
            "2020-05-06",
            "2020-05-07",
            "2020-05-08",
            "2020-05-09",
            "2020-05-10",
            "2020-05-11",
            "2020-05-12",
            "2020-05-13",
            "2020-05-14",
            "2020-05-15"
           ],
           "y": [
            0,
            0,
            0,
            0,
            0,
            0,
            0,
            0,
            0,
            0,
            0,
            0,
            0,
            35,
            35,
            35,
            52,
            69,
            69
           ]
          },
          {
           "mode": "markers+lines",
           "name": "user_27",
           "type": "scatter",
           "x": [
            "2020-04-17",
            "2020-04-18",
            "2020-04-19",
            "2020-04-22",
            "2020-04-23",
            "2020-04-24",
            "2020-05-03",
            "2020-05-04",
            "2020-05-05",
            "2020-05-06",
            "2020-05-07",
            "2020-05-08",
            "2020-05-09",
            "2020-05-10",
            "2020-05-11",
            "2020-05-12",
            "2020-05-13",
            "2020-05-14",
            "2020-05-15"
           ],
           "y": [
            0,
            0,
            0,
            0,
            0,
            0,
            0,
            0,
            0,
            0,
            0,
            0,
            0,
            0,
            0,
            0,
            0,
            8,
            8
           ]
          },
          {
           "mode": "markers+lines",
           "name": "user_28",
           "type": "scatter",
           "x": [
            "2020-04-17",
            "2020-04-18",
            "2020-04-19",
            "2020-04-22",
            "2020-04-23",
            "2020-04-24",
            "2020-05-03",
            "2020-05-04",
            "2020-05-05",
            "2020-05-06",
            "2020-05-07",
            "2020-05-08",
            "2020-05-09",
            "2020-05-10",
            "2020-05-11",
            "2020-05-12",
            "2020-05-13",
            "2020-05-14",
            "2020-05-15"
           ],
           "y": [
            0,
            0,
            0,
            0,
            0,
            0,
            0,
            0,
            0,
            0,
            0,
            0,
            0,
            0,
            0,
            2,
            20,
            26,
            27
           ]
          },
          {
           "mode": "markers+lines",
           "name": "user_29",
           "type": "scatter",
           "x": [
            "2020-04-17",
            "2020-04-18",
            "2020-04-19",
            "2020-04-22",
            "2020-04-23",
            "2020-04-24",
            "2020-05-03",
            "2020-05-04",
            "2020-05-05",
            "2020-05-06",
            "2020-05-07",
            "2020-05-08",
            "2020-05-09",
            "2020-05-10",
            "2020-05-11",
            "2020-05-12",
            "2020-05-13",
            "2020-05-14",
            "2020-05-15"
           ],
           "y": [
            0,
            0,
            0,
            0,
            0,
            0,
            0,
            0,
            0,
            0,
            0,
            0,
            0,
            0,
            5,
            18,
            34,
            35,
            35
           ]
          },
          {
           "mode": "markers+lines",
           "name": "user_3",
           "type": "scatter",
           "x": [
            "2020-04-17",
            "2020-04-18",
            "2020-04-19",
            "2020-04-22",
            "2020-04-23",
            "2020-04-24",
            "2020-05-03",
            "2020-05-04",
            "2020-05-05",
            "2020-05-06",
            "2020-05-07",
            "2020-05-08",
            "2020-05-09",
            "2020-05-10",
            "2020-05-11",
            "2020-05-12",
            "2020-05-13",
            "2020-05-14",
            "2020-05-15"
           ],
           "y": [
            0,
            0,
            0,
            0,
            0,
            0,
            0,
            0,
            0,
            0,
            1,
            28,
            29,
            31,
            54,
            56,
            56,
            58,
            58
           ]
          },
          {
           "mode": "markers+lines",
           "name": "user_30",
           "type": "scatter",
           "x": [
            "2020-04-17",
            "2020-04-18",
            "2020-04-19",
            "2020-04-22",
            "2020-04-23",
            "2020-04-24",
            "2020-05-03",
            "2020-05-04",
            "2020-05-05",
            "2020-05-06",
            "2020-05-07",
            "2020-05-08",
            "2020-05-09",
            "2020-05-10",
            "2020-05-11",
            "2020-05-12",
            "2020-05-13",
            "2020-05-14",
            "2020-05-15"
           ],
           "y": [
            0,
            0,
            0,
            1,
            2,
            2,
            4,
            5,
            5,
            5,
            12,
            12,
            12,
            17,
            17,
            17,
            17,
            19,
            19
           ]
          },
          {
           "mode": "markers+lines",
           "name": "user_31",
           "type": "scatter",
           "x": [
            "2020-04-17",
            "2020-04-18",
            "2020-04-19",
            "2020-04-22",
            "2020-04-23",
            "2020-04-24",
            "2020-05-03",
            "2020-05-04",
            "2020-05-05",
            "2020-05-06",
            "2020-05-07",
            "2020-05-08",
            "2020-05-09",
            "2020-05-10",
            "2020-05-11",
            "2020-05-12",
            "2020-05-13",
            "2020-05-14",
            "2020-05-15"
           ],
           "y": [
            0,
            0,
            0,
            0,
            0,
            0,
            0,
            0,
            0,
            0,
            1,
            1,
            4,
            4,
            6,
            6,
            6,
            8,
            8
           ]
          },
          {
           "mode": "markers+lines",
           "name": "user_4",
           "type": "scatter",
           "x": [
            "2020-04-17",
            "2020-04-18",
            "2020-04-19",
            "2020-04-22",
            "2020-04-23",
            "2020-04-24",
            "2020-05-03",
            "2020-05-04",
            "2020-05-05",
            "2020-05-06",
            "2020-05-07",
            "2020-05-08",
            "2020-05-09",
            "2020-05-10",
            "2020-05-11",
            "2020-05-12",
            "2020-05-13",
            "2020-05-14",
            "2020-05-15"
           ],
           "y": [
            7,
            7,
            11,
            11,
            20,
            27,
            35,
            48,
            53,
            53,
            71,
            83,
            83,
            83,
            87,
            125,
            137,
            164,
            164
           ]
          },
          {
           "mode": "markers+lines",
           "name": "user_6",
           "type": "scatter",
           "x": [
            "2020-04-17",
            "2020-04-18",
            "2020-04-19",
            "2020-04-22",
            "2020-04-23",
            "2020-04-24",
            "2020-05-03",
            "2020-05-04",
            "2020-05-05",
            "2020-05-06",
            "2020-05-07",
            "2020-05-08",
            "2020-05-09",
            "2020-05-10",
            "2020-05-11",
            "2020-05-12",
            "2020-05-13",
            "2020-05-14",
            "2020-05-15"
           ],
           "y": [
            0,
            0,
            0,
            0,
            0,
            0,
            0,
            0,
            0,
            0,
            0,
            0,
            0,
            0,
            0,
            0,
            1,
            2,
            2
           ]
          },
          {
           "mode": "markers+lines",
           "name": "user_8",
           "type": "scatter",
           "x": [
            "2020-04-17",
            "2020-04-18",
            "2020-04-19",
            "2020-04-22",
            "2020-04-23",
            "2020-04-24",
            "2020-05-03",
            "2020-05-04",
            "2020-05-05",
            "2020-05-06",
            "2020-05-07",
            "2020-05-08",
            "2020-05-09",
            "2020-05-10",
            "2020-05-11",
            "2020-05-12",
            "2020-05-13",
            "2020-05-14",
            "2020-05-15"
           ],
           "y": [
            0,
            0,
            0,
            0,
            0,
            0,
            0,
            0,
            0,
            0,
            0,
            0,
            0,
            0,
            0,
            0,
            0,
            8,
            8
           ]
          }
         ],
         "layout": {
          "title": {
           "text": "Commit Dynamic up to 2020-05-15"
          }
         }
        }
       ],
       "layout": {
        "template": {
         "data": {
          "bar": [
           {
            "error_x": {
             "color": "#2a3f5f"
            },
            "error_y": {
             "color": "#2a3f5f"
            },
            "marker": {
             "line": {
              "color": "#E5ECF6",
              "width": 0.5
             },
             "pattern": {
              "fillmode": "overlay",
              "size": 10,
              "solidity": 0.2
             }
            },
            "type": "bar"
           }
          ],
          "barpolar": [
           {
            "marker": {
             "line": {
              "color": "#E5ECF6",
              "width": 0.5
             },
             "pattern": {
              "fillmode": "overlay",
              "size": 10,
              "solidity": 0.2
             }
            },
            "type": "barpolar"
           }
          ],
          "carpet": [
           {
            "aaxis": {
             "endlinecolor": "#2a3f5f",
             "gridcolor": "white",
             "linecolor": "white",
             "minorgridcolor": "white",
             "startlinecolor": "#2a3f5f"
            },
            "baxis": {
             "endlinecolor": "#2a3f5f",
             "gridcolor": "white",
             "linecolor": "white",
             "minorgridcolor": "white",
             "startlinecolor": "#2a3f5f"
            },
            "type": "carpet"
           }
          ],
          "choropleth": [
           {
            "colorbar": {
             "outlinewidth": 0,
             "ticks": ""
            },
            "type": "choropleth"
           }
          ],
          "contour": [
           {
            "colorbar": {
             "outlinewidth": 0,
             "ticks": ""
            },
            "colorscale": [
             [
              0,
              "#0d0887"
             ],
             [
              0.1111111111111111,
              "#46039f"
             ],
             [
              0.2222222222222222,
              "#7201a8"
             ],
             [
              0.3333333333333333,
              "#9c179e"
             ],
             [
              0.4444444444444444,
              "#bd3786"
             ],
             [
              0.5555555555555556,
              "#d8576b"
             ],
             [
              0.6666666666666666,
              "#ed7953"
             ],
             [
              0.7777777777777778,
              "#fb9f3a"
             ],
             [
              0.8888888888888888,
              "#fdca26"
             ],
             [
              1,
              "#f0f921"
             ]
            ],
            "type": "contour"
           }
          ],
          "contourcarpet": [
           {
            "colorbar": {
             "outlinewidth": 0,
             "ticks": ""
            },
            "type": "contourcarpet"
           }
          ],
          "heatmap": [
           {
            "colorbar": {
             "outlinewidth": 0,
             "ticks": ""
            },
            "colorscale": [
             [
              0,
              "#0d0887"
             ],
             [
              0.1111111111111111,
              "#46039f"
             ],
             [
              0.2222222222222222,
              "#7201a8"
             ],
             [
              0.3333333333333333,
              "#9c179e"
             ],
             [
              0.4444444444444444,
              "#bd3786"
             ],
             [
              0.5555555555555556,
              "#d8576b"
             ],
             [
              0.6666666666666666,
              "#ed7953"
             ],
             [
              0.7777777777777778,
              "#fb9f3a"
             ],
             [
              0.8888888888888888,
              "#fdca26"
             ],
             [
              1,
              "#f0f921"
             ]
            ],
            "type": "heatmap"
           }
          ],
          "heatmapgl": [
           {
            "colorbar": {
             "outlinewidth": 0,
             "ticks": ""
            },
            "colorscale": [
             [
              0,
              "#0d0887"
             ],
             [
              0.1111111111111111,
              "#46039f"
             ],
             [
              0.2222222222222222,
              "#7201a8"
             ],
             [
              0.3333333333333333,
              "#9c179e"
             ],
             [
              0.4444444444444444,
              "#bd3786"
             ],
             [
              0.5555555555555556,
              "#d8576b"
             ],
             [
              0.6666666666666666,
              "#ed7953"
             ],
             [
              0.7777777777777778,
              "#fb9f3a"
             ],
             [
              0.8888888888888888,
              "#fdca26"
             ],
             [
              1,
              "#f0f921"
             ]
            ],
            "type": "heatmapgl"
           }
          ],
          "histogram": [
           {
            "marker": {
             "pattern": {
              "fillmode": "overlay",
              "size": 10,
              "solidity": 0.2
             }
            },
            "type": "histogram"
           }
          ],
          "histogram2d": [
           {
            "colorbar": {
             "outlinewidth": 0,
             "ticks": ""
            },
            "colorscale": [
             [
              0,
              "#0d0887"
             ],
             [
              0.1111111111111111,
              "#46039f"
             ],
             [
              0.2222222222222222,
              "#7201a8"
             ],
             [
              0.3333333333333333,
              "#9c179e"
             ],
             [
              0.4444444444444444,
              "#bd3786"
             ],
             [
              0.5555555555555556,
              "#d8576b"
             ],
             [
              0.6666666666666666,
              "#ed7953"
             ],
             [
              0.7777777777777778,
              "#fb9f3a"
             ],
             [
              0.8888888888888888,
              "#fdca26"
             ],
             [
              1,
              "#f0f921"
             ]
            ],
            "type": "histogram2d"
           }
          ],
          "histogram2dcontour": [
           {
            "colorbar": {
             "outlinewidth": 0,
             "ticks": ""
            },
            "colorscale": [
             [
              0,
              "#0d0887"
             ],
             [
              0.1111111111111111,
              "#46039f"
             ],
             [
              0.2222222222222222,
              "#7201a8"
             ],
             [
              0.3333333333333333,
              "#9c179e"
             ],
             [
              0.4444444444444444,
              "#bd3786"
             ],
             [
              0.5555555555555556,
              "#d8576b"
             ],
             [
              0.6666666666666666,
              "#ed7953"
             ],
             [
              0.7777777777777778,
              "#fb9f3a"
             ],
             [
              0.8888888888888888,
              "#fdca26"
             ],
             [
              1,
              "#f0f921"
             ]
            ],
            "type": "histogram2dcontour"
           }
          ],
          "mesh3d": [
           {
            "colorbar": {
             "outlinewidth": 0,
             "ticks": ""
            },
            "type": "mesh3d"
           }
          ],
          "parcoords": [
           {
            "line": {
             "colorbar": {
              "outlinewidth": 0,
              "ticks": ""
             }
            },
            "type": "parcoords"
           }
          ],
          "pie": [
           {
            "automargin": true,
            "type": "pie"
           }
          ],
          "scatter": [
           {
            "fillpattern": {
             "fillmode": "overlay",
             "size": 10,
             "solidity": 0.2
            },
            "type": "scatter"
           }
          ],
          "scatter3d": [
           {
            "line": {
             "colorbar": {
              "outlinewidth": 0,
              "ticks": ""
             }
            },
            "marker": {
             "colorbar": {
              "outlinewidth": 0,
              "ticks": ""
             }
            },
            "type": "scatter3d"
           }
          ],
          "scattercarpet": [
           {
            "marker": {
             "colorbar": {
              "outlinewidth": 0,
              "ticks": ""
             }
            },
            "type": "scattercarpet"
           }
          ],
          "scattergeo": [
           {
            "marker": {
             "colorbar": {
              "outlinewidth": 0,
              "ticks": ""
             }
            },
            "type": "scattergeo"
           }
          ],
          "scattergl": [
           {
            "marker": {
             "colorbar": {
              "outlinewidth": 0,
              "ticks": ""
             }
            },
            "type": "scattergl"
           }
          ],
          "scattermapbox": [
           {
            "marker": {
             "colorbar": {
              "outlinewidth": 0,
              "ticks": ""
             }
            },
            "type": "scattermapbox"
           }
          ],
          "scatterpolar": [
           {
            "marker": {
             "colorbar": {
              "outlinewidth": 0,
              "ticks": ""
             }
            },
            "type": "scatterpolar"
           }
          ],
          "scatterpolargl": [
           {
            "marker": {
             "colorbar": {
              "outlinewidth": 0,
              "ticks": ""
             }
            },
            "type": "scatterpolargl"
           }
          ],
          "scatterternary": [
           {
            "marker": {
             "colorbar": {
              "outlinewidth": 0,
              "ticks": ""
             }
            },
            "type": "scatterternary"
           }
          ],
          "surface": [
           {
            "colorbar": {
             "outlinewidth": 0,
             "ticks": ""
            },
            "colorscale": [
             [
              0,
              "#0d0887"
             ],
             [
              0.1111111111111111,
              "#46039f"
             ],
             [
              0.2222222222222222,
              "#7201a8"
             ],
             [
              0.3333333333333333,
              "#9c179e"
             ],
             [
              0.4444444444444444,
              "#bd3786"
             ],
             [
              0.5555555555555556,
              "#d8576b"
             ],
             [
              0.6666666666666666,
              "#ed7953"
             ],
             [
              0.7777777777777778,
              "#fb9f3a"
             ],
             [
              0.8888888888888888,
              "#fdca26"
             ],
             [
              1,
              "#f0f921"
             ]
            ],
            "type": "surface"
           }
          ],
          "table": [
           {
            "cells": {
             "fill": {
              "color": "#EBF0F8"
             },
             "line": {
              "color": "white"
             }
            },
            "header": {
             "fill": {
              "color": "#C8D4E3"
             },
             "line": {
              "color": "white"
             }
            },
            "type": "table"
           }
          ]
         },
         "layout": {
          "annotationdefaults": {
           "arrowcolor": "#2a3f5f",
           "arrowhead": 0,
           "arrowwidth": 1
          },
          "autotypenumbers": "strict",
          "coloraxis": {
           "colorbar": {
            "outlinewidth": 0,
            "ticks": ""
           }
          },
          "colorscale": {
           "diverging": [
            [
             0,
             "#8e0152"
            ],
            [
             0.1,
             "#c51b7d"
            ],
            [
             0.2,
             "#de77ae"
            ],
            [
             0.3,
             "#f1b6da"
            ],
            [
             0.4,
             "#fde0ef"
            ],
            [
             0.5,
             "#f7f7f7"
            ],
            [
             0.6,
             "#e6f5d0"
            ],
            [
             0.7,
             "#b8e186"
            ],
            [
             0.8,
             "#7fbc41"
            ],
            [
             0.9,
             "#4d9221"
            ],
            [
             1,
             "#276419"
            ]
           ],
           "sequential": [
            [
             0,
             "#0d0887"
            ],
            [
             0.1111111111111111,
             "#46039f"
            ],
            [
             0.2222222222222222,
             "#7201a8"
            ],
            [
             0.3333333333333333,
             "#9c179e"
            ],
            [
             0.4444444444444444,
             "#bd3786"
            ],
            [
             0.5555555555555556,
             "#d8576b"
            ],
            [
             0.6666666666666666,
             "#ed7953"
            ],
            [
             0.7777777777777778,
             "#fb9f3a"
            ],
            [
             0.8888888888888888,
             "#fdca26"
            ],
            [
             1,
             "#f0f921"
            ]
           ],
           "sequentialminus": [
            [
             0,
             "#0d0887"
            ],
            [
             0.1111111111111111,
             "#46039f"
            ],
            [
             0.2222222222222222,
             "#7201a8"
            ],
            [
             0.3333333333333333,
             "#9c179e"
            ],
            [
             0.4444444444444444,
             "#bd3786"
            ],
            [
             0.5555555555555556,
             "#d8576b"
            ],
            [
             0.6666666666666666,
             "#ed7953"
            ],
            [
             0.7777777777777778,
             "#fb9f3a"
            ],
            [
             0.8888888888888888,
             "#fdca26"
            ],
            [
             1,
             "#f0f921"
            ]
           ]
          },
          "colorway": [
           "#636efa",
           "#EF553B",
           "#00cc96",
           "#ab63fa",
           "#FFA15A",
           "#19d3f3",
           "#FF6692",
           "#B6E880",
           "#FF97FF",
           "#FECB52"
          ],
          "font": {
           "color": "#2a3f5f"
          },
          "geo": {
           "bgcolor": "white",
           "lakecolor": "white",
           "landcolor": "#E5ECF6",
           "showlakes": true,
           "showland": true,
           "subunitcolor": "white"
          },
          "hoverlabel": {
           "align": "left"
          },
          "hovermode": "closest",
          "mapbox": {
           "style": "light"
          },
          "paper_bgcolor": "white",
          "plot_bgcolor": "#E5ECF6",
          "polar": {
           "angularaxis": {
            "gridcolor": "white",
            "linecolor": "white",
            "ticks": ""
           },
           "bgcolor": "#E5ECF6",
           "radialaxis": {
            "gridcolor": "white",
            "linecolor": "white",
            "ticks": ""
           }
          },
          "scene": {
           "xaxis": {
            "backgroundcolor": "#E5ECF6",
            "gridcolor": "white",
            "gridwidth": 2,
            "linecolor": "white",
            "showbackground": true,
            "ticks": "",
            "zerolinecolor": "white"
           },
           "yaxis": {
            "backgroundcolor": "#E5ECF6",
            "gridcolor": "white",
            "gridwidth": 2,
            "linecolor": "white",
            "showbackground": true,
            "ticks": "",
            "zerolinecolor": "white"
           },
           "zaxis": {
            "backgroundcolor": "#E5ECF6",
            "gridcolor": "white",
            "gridwidth": 2,
            "linecolor": "white",
            "showbackground": true,
            "ticks": "",
            "zerolinecolor": "white"
           }
          },
          "shapedefaults": {
           "line": {
            "color": "#2a3f5f"
           }
          },
          "ternary": {
           "aaxis": {
            "gridcolor": "white",
            "linecolor": "white",
            "ticks": ""
           },
           "baxis": {
            "gridcolor": "white",
            "linecolor": "white",
            "ticks": ""
           },
           "bgcolor": "#E5ECF6",
           "caxis": {
            "gridcolor": "white",
            "linecolor": "white",
            "ticks": ""
           }
          },
          "title": {
           "x": 0.05
          },
          "xaxis": {
           "automargin": true,
           "gridcolor": "white",
           "linecolor": "white",
           "ticks": "",
           "title": {
            "standoff": 15
           },
           "zerolinecolor": "white",
           "zerolinewidth": 2
          },
          "yaxis": {
           "automargin": true,
           "gridcolor": "white",
           "linecolor": "white",
           "ticks": "",
           "title": {
            "standoff": 15
           },
           "zerolinecolor": "white",
           "zerolinewidth": 2
          }
         }
        },
        "title": {
         "text": "Commit Dynamic"
        },
        "updatemenus": [
         {
          "buttons": [
           {
            "args": [
             null
            ],
            "label": "Play",
            "method": "animate"
           }
          ],
          "type": "buttons"
         }
        ],
        "xaxis": {
         "title": {
          "text": "Date"
         }
        },
        "yaxis": {
         "title": {
          "text": "Cumulative Commits"
         }
        }
       }
      }
     },
     "metadata": {},
     "output_type": "display_data"
    }
   ],
   "source": [
    "query = \"\"\"\n",
    "SELECT uid, timestamp\n",
    "FROM checker\n",
    "WHERE uid LIKE 'user_%' AND status = 'ready' AND labname = 'project1'\n",
    "\"\"\"\n",
    "df = pd.read_sql(query, conn)\n",
    "conn.close()\n",
    "\n",
    "df['timestamp'] = pd.to_datetime(df['timestamp'])\n",
    "df['date'] = df['timestamp'].dt.date\n",
    "\n",
    "x_init = np.array([df['date'].min()])\n",
    "initial_data = []\n",
    "for uid in df['uid'].unique():\n",
    "    y_axis = np.array(df[df['uid'] == uid].groupby('date').size().cumsum())\n",
    "    initial_data.append(go.Scatter(x=x_init, y=y_axis, mode=\"lines\", name=uid))\n",
    "\n",
    "frames = []\n",
    "dates = sorted(df['date'].unique())\n",
    "commits = df.pivot_table(index='date', columns='uid', aggfunc='size', fill_value=0).cumsum()\n",
    "for i, date in enumerate(dates):\n",
    "    x_axis = dates[:i + 1]\n",
    "    curr_data = []\n",
    "    for col in commits.columns:\n",
    "        y_axis = commits[col].loc[:date]\n",
    "        curr_data.append(go.Scatter(x=x_axis, y=y_axis, mode=\"markers+lines\", name=col))\n",
    "    title = f\"Commit Dynamic up to {date}\"\n",
    "    curr_frame = go.Frame(data=curr_data, layout={\"title\": title})\n",
    "    frames.append(curr_frame)\n",
    "\n",
    "figure = go.Figure(\n",
    "    data=initial_data,\n",
    "    layout={\n",
    "        \"title\": \"Commit Dynamic\",\n",
    "        \"xaxis\": {\"title\": \"Date\"},\n",
    "        \"yaxis\": {\"title\": \"Cumulative Commits\"},\n",
    "        \"updatemenus\": [{\"type\": \"buttons\", \"buttons\": [{\"method\": \"animate\", \"label\": \"Play\", \"args\": [None]}]}]\n",
    "    },\n",
    "    frames=frames\n",
    ")\n",
    "\n",
    "figure.show()\n"
   ]
  }
 ],
 "metadata": {
  "kernelspec": {
   "display_name": "Python 3",
   "language": "python",
   "name": "python3"
  },
  "language_info": {
   "codemirror_mode": {
    "name": "ipython",
    "version": 3
   },
   "file_extension": ".py",
   "mimetype": "text/x-python",
   "name": "python",
   "nbconvert_exporter": "python",
   "pygments_lexer": "ipython3",
   "version": "3.10.12"
  }
 },
 "nbformat": 4,
 "nbformat_minor": 2
}
