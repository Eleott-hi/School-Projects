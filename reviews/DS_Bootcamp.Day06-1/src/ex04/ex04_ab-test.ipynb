{
 "cells": [
  {
   "cell_type": "markdown",
   "metadata": {},
   "source": [
    "# Exercise 04 : A/B-testing"
   ]
  },
  {
   "cell_type": "code",
   "execution_count": 1,
   "metadata": {},
   "outputs": [],
   "source": [
    "import pandas as pd\n",
    "import sqlite3"
   ]
  },
  {
   "cell_type": "markdown",
   "metadata": {},
   "source": [
    "## Create a connection to the database using the library sqlite3"
   ]
  },
  {
   "cell_type": "code",
   "execution_count": 2,
   "metadata": {},
   "outputs": [],
   "source": [
    "conn = sqlite3.connect('../data/checking-logs.sqlite')"
   ]
  },
  {
   "cell_type": "markdown",
   "metadata": {},
   "source": [
    "## Using only one query for each of the groups, create two dataframes: test_results and control_results with the columns time and avg_diff and only two rows\n",
    "\n",
    "- time should have the values: after and before\n",
    "- avg_diff contains the average delta among all the users for the time period before each of them made their first visit to the page and afterward\n",
    "- only take into account the users that have observations before and after\n",
    "- we still are not using the lab ’project1’"
   ]
  },
  {
   "cell_type": "code",
   "execution_count": 3,
   "metadata": {},
   "outputs": [
    {
     "name": "stdout",
     "output_type": "stream",
     "text": [
      "Test group results:\n",
      "     time   avg_diff\n",
      "0  before   60.56250\n",
      "1   after  103.40625\n",
      "\n",
      "Control group results:\n",
      "     time    avg_diff\n",
      "0  before   99.464286\n",
      "1   after  112.710526\n"
     ]
    }
   ],
   "source": [
    "query_test = \"\"\"\n",
    "SELECT 'before' AS time,\n",
    "AVG((deadlines.deadlines - strftime('%s', first_commit_ts)) / 3600) AS avg_diff\n",
    "FROM test\n",
    "JOIN deadlines ON test.labname = deadlines.labs\n",
    "WHERE test.first_commit_ts < test.first_view_ts\n",
    "AND test.labname != 'project1'\n",
    "\n",
    "UNION ALL\n",
    "\n",
    "SELECT 'after' AS time,\n",
    "AVG((deadlines.deadlines - strftime('%s', first_commit_ts)) / 3600) AS avg_diff\n",
    "FROM test\n",
    "JOIN deadlines ON test.labname = deadlines.labs\n",
    "WHERE test.first_commit_ts >= test.first_view_ts\n",
    "AND test.labname != 'project1';\n",
    "\"\"\"\n",
    "\n",
    "query_control = \"\"\"\n",
    "SELECT 'before' AS time,\n",
    "AVG((deadlines.deadlines - strftime('%s', first_commit_ts)) / 3600) AS avg_diff\n",
    "FROM control\n",
    "JOIN deadlines ON control.labname = deadlines.labs\n",
    "WHERE control.first_commit_ts < control.first_view_ts\n",
    "AND control.labname != 'project1'\n",
    "\n",
    "UNION ALL\n",
    "\n",
    "SELECT 'after' AS time,\n",
    "AVG((deadlines.deadlines - strftime('%s', first_commit_ts)) / 3600) AS avg_diff\n",
    "FROM control\n",
    "JOIN deadlines ON control.labname = deadlines.labs\n",
    "WHERE control.first_commit_ts >= control.first_view_ts\n",
    "AND control.labname != 'project1';\n",
    "\"\"\"\n",
    "\n",
    "test_results = pd.io.sql.read_sql(query_test, conn)\n",
    "control_results = pd.io.sql.read_sql(query_control, conn)\n",
    "\n",
    "print(\"Test group results:\")\n",
    "print(test_results)\n",
    "print(\"\\nControl group results:\")\n",
    "print(control_results)"
   ]
  },
  {
   "cell_type": "markdown",
   "metadata": {},
   "source": [
    "## Close the connection"
   ]
  },
  {
   "cell_type": "code",
   "execution_count": 4,
   "metadata": {},
   "outputs": [],
   "source": [
    "conn.close()"
   ]
  },
  {
   "cell_type": "markdown",
   "metadata": {},
   "source": [
    "## Have the answer: did the hypothesis turn out to be true and the page does affect the students’ behavior?"
   ]
  },
  {
   "cell_type": "code",
   "execution_count": 5,
   "metadata": {},
   "outputs": [
    {
     "name": "stdout",
     "output_type": "stream",
     "text": [
      "\n",
      "The hypothesis is true: the page affects the students' behavior.\n"
     ]
    }
   ],
   "source": [
    "if test_results.iloc[1]['avg_diff'] - test_results.iloc[0]['avg_diff'] >  control_results.iloc[1]['avg_diff'] - control_results.iloc[0]['avg_diff']:\n",
    "    print(\"\\nThe hypothesis is true: the page affects the students' behavior.\")\n",
    "else:\n",
    "    print(\"\\nThe hypothesis is not supported.\")"
   ]
  },
  {
   "cell_type": "markdown",
   "metadata": {},
   "source": [
    "From the experiment results, it is evident that in the test group, which had access to the Newsfeed, the average time between the first commit and the deadline of the lab assignments increased after visiting the Newsfeed. The average time before visiting the Newsfeed was 60.56 hours, while after visiting, it was 103.41 hours. This suggests that access to the Newsfeed might have encouraged students to start working on the lab assignments earlier.\n",
    "\n",
    "In the control group, which did not have access to the Newsfeed, the average time also increased, but not as significantly. The average time before the Newsfeed was 99.46 hours, and after, it was 112.71 hours. This could be because the control group lacked the stimulus of the Newsfeed, so the changes were not as substantial.\n",
    "\n",
    "Therefore, it can be concluded that the Newsfeed could have positively influenced student behavior by encouraging them to start working on lab assignments earlier."
   ]
  }
 ],
 "metadata": {
  "kernelspec": {
   "display_name": "Python 3",
   "language": "python",
   "name": "python3"
  },
  "language_info": {
   "codemirror_mode": {
    "name": "ipython",
    "version": 3
   },
   "file_extension": ".py",
   "mimetype": "text/x-python",
   "name": "python",
   "nbconvert_exporter": "python",
   "pygments_lexer": "ipython3",
   "version": "3.10.12"
  }
 },
 "nbformat": 4,
 "nbformat_minor": 2
}
