{
 "cells": [
  {
   "cell_type": "markdown",
   "metadata": {},
   "source": [
    "# Exercise 02 : Join"
   ]
  },
  {
   "cell_type": "code",
   "execution_count": 1,
   "metadata": {},
   "outputs": [],
   "source": [
    "import pandas as pd\n",
    "import sqlite3"
   ]
  },
  {
   "cell_type": "markdown",
   "metadata": {},
   "source": [
    "## Create a connection to the database using the library sqlite3"
   ]
  },
  {
   "cell_type": "code",
   "execution_count": 2,
   "metadata": {},
   "outputs": [],
   "source": [
    "conn = sqlite3.connect('../data/checking-logs.sqlite')"
   ]
  },
  {
   "cell_type": "markdown",
   "metadata": {},
   "source": [
    "## Create a new table datamart in the database by joining the tables pageviews and checker using only one query\n",
    "\n",
    "- the table should have the following columns: uid, labname, first_commit_ts, first_view_ts\n",
    "- first_commit_ts is just a new name of the column timestamp from the checker table, it shows the first commit from a particular lab and from a particular user\n",
    "- first_view_ts is the first visit of a user to the table pageviews, timestamp when a user visited the newsfeed\n",
    "- status = ’ready’ should still be a filter\n",
    "- numTrials = 1 should still be a filter\n",
    "- labnames should still be from the list: ’laba04’, ’laba04s’, ’laba05’, ’laba06’, ’laba06s’, ’project1’\n",
    "- the table should contain only the users (uids with user_*) and not the admins\n",
    "- first_commit_ts and first_view_ts should be parsed as datetime64[ns]"
   ]
  },
  {
   "cell_type": "code",
   "execution_count": 3,
   "metadata": {},
   "outputs": [
    {
     "data": {
      "text/plain": [
       "<sqlite3.Cursor at 0x7fdd9ca36ec0>"
      ]
     },
     "execution_count": 3,
     "metadata": {},
     "output_type": "execute_result"
    }
   ],
   "source": [
    "datamart_query = \"\"\"\n",
    "CREATE TABLE datamart AS\n",
    "SELECT c.uid, c.labname, MIN(c.timestamp) AS first_commit_ts, MIN(p.datetime) AS first_view_ts\n",
    "FROM checker c\n",
    "LEFT JOIN pageviews p ON c.uid = p.uid\n",
    "WHERE c.status = 'ready' AND c.numTrials = 1 AND c.labname IN ('laba04', 'laba04s', 'laba05', 'laba06', 'laba06s', 'project1')\n",
    "AND c.uid LIKE 'user_%'\n",
    "GROUP BY c.uid, c.labname;\n",
    "\"\"\"\n",
    "conn.execute(datamart_query)"
   ]
  },
  {
   "cell_type": "markdown",
   "metadata": {},
   "source": [
    "## Using Pandas methods, create two dataframes: test and control\n",
    "\n",
    "- test should have the users that have the values in first_view_ts\n",
    "- control should have the users that have missing values in first_view_ts\n",
    "- replace the missing values in the control with the average first_view_ts of the test users, we will use this value for the future analysis\n",
    "- save both tables into the database, you will use them in the next exercises"
   ]
  },
  {
   "cell_type": "code",
   "execution_count": 4,
   "metadata": {},
   "outputs": [],
   "source": [
    "# Create test and control dataframes\n",
    "datamart_df = pd.io.sql.read_sql(\"SELECT * FROM datamart\", conn)\n",
    "datamart_df['first_commit_ts'] = pd.to_datetime(datamart_df['first_commit_ts'])\n",
    "datamart_df['first_view_ts'] = pd.to_datetime(datamart_df['first_view_ts'])\n",
    "test = datamart_df[datamart_df['first_view_ts'].notnull()]\n",
    "control = datamart_df[datamart_df['first_view_ts'].isnull()]"
   ]
  },
  {
   "cell_type": "code",
   "execution_count": 5,
   "metadata": {},
   "outputs": [],
   "source": [
    "# Replace missing values in control with average first_view_ts of test users\n",
    "control_avg = test['first_view_ts'].mean()\n",
    "control.loc[:, 'first_view_ts'] = control['first_view_ts'].fillna(control_avg)"
   ]
  },
  {
   "cell_type": "code",
   "execution_count": 6,
   "metadata": {},
   "outputs": [
    {
     "data": {
      "text/plain": [
       "81"
      ]
     },
     "execution_count": 6,
     "metadata": {},
     "output_type": "execute_result"
    }
   ],
   "source": [
    "# Save test and control tables into the database\n",
    "test.to_sql('test', conn, index=False)\n",
    "control.to_sql('control', conn, index=False)"
   ]
  },
  {
   "cell_type": "markdown",
   "metadata": {},
   "source": [
    "## Close the connection"
   ]
  },
  {
   "cell_type": "code",
   "execution_count": 7,
   "metadata": {},
   "outputs": [],
   "source": [
    "conn.close()"
   ]
  }
 ],
 "metadata": {
  "kernelspec": {
   "display_name": "Python 3",
   "language": "python",
   "name": "python3"
  },
  "language_info": {
   "codemirror_mode": {
    "name": "ipython",
    "version": 3
   },
   "file_extension": ".py",
   "mimetype": "text/x-python",
   "name": "python",
   "nbconvert_exporter": "python",
   "pygments_lexer": "ipython3",
   "version": "3.10.12"
  }
 },
 "nbformat": 4,
 "nbformat_minor": 2
}
