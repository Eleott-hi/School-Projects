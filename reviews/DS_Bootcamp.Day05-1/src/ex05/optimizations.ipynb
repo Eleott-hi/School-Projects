{
 "cells": [
  {
   "cell_type": "markdown",
   "metadata": {},
   "source": [
    "# Exercise 05 : Pandas optimizations"
   ]
  },
  {
   "cell_type": "code",
   "execution_count": 1,
   "metadata": {},
   "outputs": [],
   "source": [
    "import pandas as pd\n",
    "import gc"
   ]
  },
  {
   "cell_type": "markdown",
   "metadata": {},
   "source": [
    "## Read the fines.csv that you saved in the previous exercise"
   ]
  },
  {
   "cell_type": "code",
   "execution_count": 2,
   "metadata": {},
   "outputs": [],
   "source": [
    "df = pd.read_csv('../ex04/fines.csv')"
   ]
  },
  {
   "cell_type": "markdown",
   "metadata": {},
   "source": [
    "## Iterations: in all the following subtasks, you need to calculate fines/refund*year for each row and create a new column with the calculated data and measure the time using the magic command %%timeit in the cell\n",
    "\n",
    "- loop: write a function that iterates through the dataframe using for i in range(0, len(df)), iloc and append() to a list, assign the result of the function to a new column in the dataframe\n",
    "- do it using iterrows()\n",
    "- do it using apply() and lambda function\n",
    "- do it using Series objects from the dataframe\n",
    "- do it as in the previous subtask but with the method .values"
   ]
  },
  {
   "cell_type": "code",
   "execution_count": 4,
   "metadata": {},
   "outputs": [],
   "source": [
    "# Loop\n",
    "def calculate_fine(row):\n",
    "    return row['Fines'] / row['Refund'] * row['Year']\n",
    "\n",
    "def calculate_fines_loop(df):\n",
    "    new_column = []\n",
    "    for i in range(len(df)):\n",
    "        new_column.append(calculate_fine(df.iloc[i]))\n",
    "    df['Calculation'] = new_column"
   ]
  },
  {
   "cell_type": "code",
   "execution_count": 22,
   "metadata": {},
   "outputs": [
    {
     "name": "stdout",
     "output_type": "stream",
     "text": [
      "74.2 ms ± 1.21 ms per loop (mean ± std. dev. of 7 runs, 10 loops each)\n"
     ]
    }
   ],
   "source": [
    "%%timeit\n",
    "\n",
    "calculate_fines_loop(df)"
   ]
  },
  {
   "cell_type": "code",
   "execution_count": 5,
   "metadata": {},
   "outputs": [],
   "source": [
    "# Iterrows\n",
    "def calculate_fines_iterrows(df):\n",
    "    df['Calculation'] = [calculate_fine(row) for index, row in df.iterrows()]"
   ]
  },
  {
   "cell_type": "code",
   "execution_count": 23,
   "metadata": {},
   "outputs": [
    {
     "name": "stdout",
     "output_type": "stream",
     "text": [
      "52.1 ms ± 1.47 ms per loop (mean ± std. dev. of 7 runs, 10 loops each)\n"
     ]
    }
   ],
   "source": [
    "%%timeit\n",
    "\n",
    "calculate_fines_iterrows(df)"
   ]
  },
  {
   "cell_type": "code",
   "execution_count": 6,
   "metadata": {},
   "outputs": [],
   "source": [
    "# Apply and lambda\n",
    "def calculate_fines_apply(df):\n",
    "    df['Calculation'] = df.apply(lambda row: calculate_fine(row), axis=1)"
   ]
  },
  {
   "cell_type": "code",
   "execution_count": 24,
   "metadata": {},
   "outputs": [
    {
     "name": "stdout",
     "output_type": "stream",
     "text": [
      "10.3 ms ± 430 µs per loop (mean ± std. dev. of 7 runs, 100 loops each)\n"
     ]
    }
   ],
   "source": [
    "%%timeit\n",
    "\n",
    "calculate_fines_apply(df)"
   ]
  },
  {
   "cell_type": "code",
   "execution_count": 7,
   "metadata": {},
   "outputs": [],
   "source": [
    "# Series objects\n",
    "def calculate_fines_series(df):\n",
    "    df['Calculation'] = df['Fines'] / df['Refund'] * df['Year']"
   ]
  },
  {
   "cell_type": "code",
   "execution_count": 25,
   "metadata": {},
   "outputs": [
    {
     "name": "stdout",
     "output_type": "stream",
     "text": [
      "306 µs ± 27.9 µs per loop (mean ± std. dev. of 7 runs, 1,000 loops each)\n"
     ]
    }
   ],
   "source": [
    "%%timeit\n",
    "\n",
    "calculate_fines_series(df)"
   ]
  },
  {
   "cell_type": "code",
   "execution_count": 8,
   "metadata": {},
   "outputs": [],
   "source": [
    "# Values\n",
    "def calculate_fines_values(df):\n",
    "    df['Calculation'] = df[['Fines', 'Refund', 'Year']].values.prod(axis=1)"
   ]
  },
  {
   "cell_type": "code",
   "execution_count": 26,
   "metadata": {},
   "outputs": [
    {
     "name": "stdout",
     "output_type": "stream",
     "text": [
      "501 µs ± 8.25 µs per loop (mean ± std. dev. of 7 runs, 1,000 loops each)\n"
     ]
    }
   ],
   "source": [
    "%%timeit\n",
    "\n",
    "calculate_fines_values(df)"
   ]
  },
  {
   "cell_type": "markdown",
   "metadata": {},
   "source": [
    "## Indexing: measure the time using the magic command %%timeit in the cell\n",
    "\n",
    "- get a row for a specific CarNumber, for example, ’O136HO197RUS’\n",
    "- set the index in your dataframe with CarNumber\n",
    "- again, get a row for the same CarNumber"
   ]
  },
  {
   "cell_type": "code",
   "execution_count": 15,
   "metadata": {},
   "outputs": [
    {
     "name": "stdout",
     "output_type": "stream",
     "text": [
      "316 µs ± 12.5 µs per loop (mean ± std. dev. of 7 runs, 1,000 loops each)\n"
     ]
    }
   ],
   "source": [
    "%%timeit\n",
    "\n",
    "df[df['CarNumber'] == 'O136HO197RUS']"
   ]
  },
  {
   "cell_type": "code",
   "execution_count": 19,
   "metadata": {},
   "outputs": [],
   "source": [
    "df.set_index('CarNumber', inplace=True)"
   ]
  },
  {
   "cell_type": "code",
   "execution_count": 21,
   "metadata": {},
   "outputs": [
    {
     "name": "stdout",
     "output_type": "stream",
     "text": [
      "226 µs ± 18.9 µs per loop (mean ± std. dev. of 7 runs, 1,000 loops each)\n"
     ]
    }
   ],
   "source": [
    "%%timeit\n",
    "\n",
    "df[df.index == 'O136HO197RUS']"
   ]
  },
  {
   "cell_type": "markdown",
   "metadata": {},
   "source": [
    "## Downcasting:\n",
    "\n",
    "- run df.info(memory_usage=’deep’), pay attention to the Dtype and the memory usage\n",
    "- make a copy() of your initial dataframe into another dataframe optimized"
   ]
  },
  {
   "cell_type": "code",
   "execution_count": 27,
   "metadata": {},
   "outputs": [
    {
     "name": "stdout",
     "output_type": "stream",
     "text": [
      "<class 'pandas.core.frame.DataFrame'>\n",
      "Index: 930 entries, Y163O8161RUS to V555VV55RUS\n",
      "Data columns (total 7 columns):\n",
      " #   Column       Non-Null Count  Dtype  \n",
      "---  ------       --------------  -----  \n",
      " 0   ID           925 non-null    float64\n",
      " 1   Refund       930 non-null    float64\n",
      " 2   Fines        930 non-null    float64\n",
      " 3   Make         930 non-null    object \n",
      " 4   Model        919 non-null    object \n",
      " 5   Year         925 non-null    float64\n",
      " 6   Calculation  925 non-null    float64\n",
      "dtypes: float64(5), object(2)\n",
      "memory usage: 211.0 KB\n"
     ]
    }
   ],
   "source": [
    "df.info(memory_usage='deep')"
   ]
  },
  {
   "cell_type": "code",
   "execution_count": 32,
   "metadata": {},
   "outputs": [
    {
     "name": "stdout",
     "output_type": "stream",
     "text": [
      "<class 'pandas.core.frame.DataFrame'>\n",
      "Index: 930 entries, Y163O8161RUS to V555VV55RUS\n",
      "Data columns (total 7 columns):\n",
      " #   Column       Non-Null Count  Dtype  \n",
      "---  ------       --------------  -----  \n",
      " 0   ID           925 non-null    float32\n",
      " 1   Refund       930 non-null    float32\n",
      " 2   Fines        930 non-null    float32\n",
      " 3   Make         930 non-null    object \n",
      " 4   Model        919 non-null    object \n",
      " 5   Year         925 non-null    float32\n",
      " 6   Calculation  925 non-null    float32\n",
      "dtypes: float32(5), object(2)\n",
      "memory usage: 192.8 KB\n"
     ]
    }
   ],
   "source": [
    "optimized = df.copy()\n",
    "\n",
    "optimized['ID'] = optimized['ID'].astype('float32')\n",
    "optimized['Refund'] = optimized['Refund'].astype('float32')\n",
    "optimized['Fines'] = optimized['Fines'].astype('float32')\n",
    "optimized['Year'] = optimized['Year'].astype('float32')\n",
    "optimized['Calculation'] = optimized['Calculation'].astype('float32')\n",
    "\n",
    "optimized.info(memory_usage='deep')"
   ]
  },
  {
   "cell_type": "code",
   "execution_count": 33,
   "metadata": {},
   "outputs": [
    {
     "data": {
      "text/plain": [
       "1369"
      ]
     },
     "execution_count": 33,
     "metadata": {},
     "output_type": "execute_result"
    }
   ],
   "source": [
    "gc.collect()"
   ]
  }
 ],
 "metadata": {
  "kernelspec": {
   "display_name": "Python 3",
   "language": "python",
   "name": "python3"
  },
  "language_info": {
   "codemirror_mode": {
    "name": "ipython",
    "version": 3
   },
   "file_extension": ".py",
   "mimetype": "text/x-python",
   "name": "python",
   "nbconvert_exporter": "python",
   "pygments_lexer": "ipython3",
   "version": "3.10.12"
  }
 },
 "nbformat": 4,
 "nbformat_minor": 2
}
