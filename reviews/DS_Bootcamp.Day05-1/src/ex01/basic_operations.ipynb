{
 "cells": [
  {
   "cell_type": "markdown",
   "metadata": {},
   "source": [
    "# Exercise 01 : Basic operations"
   ]
  },
  {
   "cell_type": "code",
   "execution_count": 1,
   "metadata": {},
   "outputs": [],
   "source": [
    "import pandas as pd\n",
    "\n",
    "df = pd.read_csv('../feed-views.log', skiprows=[2, 3], skipfooter=2, engine='python', names=['datetime', 'user'], delimiter='\\t')"
   ]
  },
  {
   "cell_type": "markdown",
   "metadata": {},
   "source": [
    "## Create a dataframe views with two columns: datetime and user by reading feed-views.log\n",
    "\n",
    "- convert the datetime to the datetime64[ns] Dtype\n",
    "- extract the year, month, day, hour, minute, and second from the values of that column to the new columns"
   ]
  },
  {
   "cell_type": "code",
   "execution_count": 2,
   "metadata": {},
   "outputs": [],
   "source": [
    "# Convert 'datetime' column to datetime64[ns]\n",
    "df['datetime'] = pd.to_datetime(df['datetime'])\n",
    "\n",
    "# Extract year, month, day, hour, minute, and second\n",
    "df['year'] = df['datetime'].dt.year\n",
    "df['month'] = df['datetime'].dt.month\n",
    "df['day'] = df['datetime'].dt.day\n",
    "df['hour'] = df['datetime'].dt.hour\n",
    "df['minute'] = df['datetime'].dt.minute\n",
    "df['second'] = df['datetime'].dt.second"
   ]
  },
  {
   "cell_type": "markdown",
   "metadata": {},
   "source": [
    "## Create the new column daytime\n",
    "\n",
    "- you need to assign the particular time of day value if an hour is within a particular interval, for example, afternoon if the hour is larger than 11 and less or equal to 17\n",
    "- 0 – 3.59 night, 4 – 6.59 early morning, 7 – 10.59 morning, 11 – 16.59 afternoon, 17 – 19.59 early evening, 20 – 23.59 evening\n",
    "- use the method cut to solve this subtask\n",
    "- assign the column user as the index"
   ]
  },
  {
   "cell_type": "code",
   "execution_count": 3,
   "metadata": {},
   "outputs": [],
   "source": [
    "# Create 'daytime' column\n",
    "conditions = [\n",
    "    (df['hour'] >= 0) & (df['hour'] <= 3),\n",
    "    (df['hour'] >= 4) & (df['hour'] <= 6),\n",
    "    (df['hour'] >= 7) & (df['hour'] <= 10),\n",
    "    (df['hour'] >= 11) & (df['hour'] <= 16),\n",
    "    (df['hour'] >= 17) & (df['hour'] <= 19),\n",
    "    (df['hour'] >= 20) & (df['hour'] <= 23)\n",
    "]\n",
    "values = ['night', 'early morning', 'morning', 'afternoon', 'early evening', 'evening']\n",
    "df['daytime'] = pd.cut(df['hour'], bins=6, labels=values, include_lowest=True)\n",
    "\n",
    "# Set 'user' column as index\n",
    "df.set_index('user', inplace=True)"
   ]
  },
  {
   "cell_type": "markdown",
   "metadata": {},
   "source": [
    "## Calculate the number of elements in your dataframe\n",
    "\n",
    "- use the method count()\n",
    "- calculate the number of elements in each time of day category using the method value_counts()"
   ]
  },
  {
   "cell_type": "code",
   "execution_count": 4,
   "metadata": {},
   "outputs": [
    {
     "name": "stdout",
     "output_type": "stream",
     "text": [
      "Number of elements: 1072\n",
      "Number of elements in each time of day category:\n",
      "daytime\n",
      "evening          508\n",
      "early evening    192\n",
      "afternoon        165\n",
      "night            129\n",
      "morning           73\n",
      "early morning      5\n",
      "Name: count, dtype: int64\n"
     ]
    }
   ],
   "source": [
    "# Number of elements\n",
    "num_elements = df['daytime'].count()\n",
    "print(f\"Number of elements: {num_elements}\")\n",
    "\n",
    "# Number of elements in each time of day category\n",
    "time_of_day_counts = df['daytime'].value_counts()\n",
    "print(f\"Number of elements in each time of day category:\\n{time_of_day_counts}\")"
   ]
  },
  {
   "cell_type": "markdown",
   "metadata": {},
   "source": [
    "## Sort values in your dataframe by hour, minute, and second in ascending order (simultaneously and not one by one)"
   ]
  },
  {
   "cell_type": "code",
   "execution_count": 5,
   "metadata": {},
   "outputs": [],
   "source": [
    "df.sort_values(by=['hour', 'minute', 'second'], inplace=True)"
   ]
  },
  {
   "cell_type": "markdown",
   "metadata": {},
   "source": [
    "## Calculate the minimum and maximum for the hours and the mode for the daytime categories\n",
    "\n",
    "- calculate the maximum of hour for the rows where the time of day is night\n",
    "- calculate the minimum of hour for the rows where the time of day is morning\n",
    "- In addition to this, find out who visited the page at those hours (make one example from that)\n",
    "- calculate the mode for the hour and daytime"
   ]
  },
  {
   "cell_type": "code",
   "execution_count": 6,
   "metadata": {},
   "outputs": [
    {
     "name": "stdout",
     "output_type": "stream",
     "text": [
      "Night's max hour: 3\n",
      "Morning's min hour: 8\n",
      "Morning's min user: alexander\n",
      "Hour's mode: 22\n",
      "Daytime's mode: evening\n"
     ]
    }
   ],
   "source": [
    "night_max_hour = df.loc[df['daytime'] == 'night', 'hour'].max()\n",
    "print(f\"Night's max hour: {night_max_hour}\")\n",
    "\n",
    "morning_min_hour = df.loc[df['daytime'] == 'morning', 'hour'].min()\n",
    "print(f\"Morning's min hour: {morning_min_hour}\")\n",
    "\n",
    "morning_min_user = df.loc[df['hour'] == morning_min_hour].index[0]\n",
    "print(f\"Morning's min user: {morning_min_user}\")\n",
    "\n",
    "hour_mode = df['hour'].mode()[0]\n",
    "print(f\"Hour's mode: {hour_mode}\")\n",
    "\n",
    "daytime_mode = df['daytime'].mode()[0]\n",
    "print(f\"Daytime's mode: {daytime_mode}\")"
   ]
  },
  {
   "cell_type": "markdown",
   "metadata": {},
   "source": [
    "## Show the 3 earliest hours in the morning and the corresponding usernames and the 3 latest hours and the usernames using nsmallest() and nlargest()"
   ]
  },
  {
   "cell_type": "code",
   "execution_count": 7,
   "metadata": {},
   "outputs": [
    {
     "name": "stdout",
     "output_type": "stream",
     "text": [
      "Earliest morning:\n"
     ]
    },
    {
     "data": {
      "text/html": [
       "<div>\n",
       "<style scoped>\n",
       "    .dataframe tbody tr th:only-of-type {\n",
       "        vertical-align: middle;\n",
       "    }\n",
       "\n",
       "    .dataframe tbody tr th {\n",
       "        vertical-align: top;\n",
       "    }\n",
       "\n",
       "    .dataframe thead th {\n",
       "        text-align: right;\n",
       "    }\n",
       "</style>\n",
       "<table border=\"1\" class=\"dataframe\">\n",
       "  <thead>\n",
       "    <tr style=\"text-align: right;\">\n",
       "      <th></th>\n",
       "      <th>datetime</th>\n",
       "      <th>year</th>\n",
       "      <th>month</th>\n",
       "      <th>day</th>\n",
       "      <th>hour</th>\n",
       "      <th>minute</th>\n",
       "      <th>second</th>\n",
       "      <th>daytime</th>\n",
       "    </tr>\n",
       "    <tr>\n",
       "      <th>user</th>\n",
       "      <th></th>\n",
       "      <th></th>\n",
       "      <th></th>\n",
       "      <th></th>\n",
       "      <th></th>\n",
       "      <th></th>\n",
       "      <th></th>\n",
       "      <th></th>\n",
       "    </tr>\n",
       "  </thead>\n",
       "  <tbody>\n",
       "    <tr>\n",
       "      <th>alexander</th>\n",
       "      <td>2020-05-15 08:16:03.918402</td>\n",
       "      <td>2020</td>\n",
       "      <td>5</td>\n",
       "      <td>15</td>\n",
       "      <td>8</td>\n",
       "      <td>16</td>\n",
       "      <td>3</td>\n",
       "      <td>morning</td>\n",
       "    </tr>\n",
       "    <tr>\n",
       "      <th>alexander</th>\n",
       "      <td>2020-05-15 08:35:01.471463</td>\n",
       "      <td>2020</td>\n",
       "      <td>5</td>\n",
       "      <td>15</td>\n",
       "      <td>8</td>\n",
       "      <td>35</td>\n",
       "      <td>1</td>\n",
       "      <td>morning</td>\n",
       "    </tr>\n",
       "    <tr>\n",
       "      <th>alexander</th>\n",
       "      <td>2020-05-15 09:02:24.999438</td>\n",
       "      <td>2020</td>\n",
       "      <td>5</td>\n",
       "      <td>15</td>\n",
       "      <td>9</td>\n",
       "      <td>2</td>\n",
       "      <td>24</td>\n",
       "      <td>morning</td>\n",
       "    </tr>\n",
       "  </tbody>\n",
       "</table>\n",
       "</div>"
      ],
      "text/plain": [
       "                            datetime  year  month  day  hour  minute  second   \n",
       "user                                                                           \n",
       "alexander 2020-05-15 08:16:03.918402  2020      5   15     8      16       3  \\\n",
       "alexander 2020-05-15 08:35:01.471463  2020      5   15     8      35       1   \n",
       "alexander 2020-05-15 09:02:24.999438  2020      5   15     9       2      24   \n",
       "\n",
       "           daytime  \n",
       "user                \n",
       "alexander  morning  \n",
       "alexander  morning  \n",
       "alexander  morning  "
      ]
     },
     "execution_count": 7,
     "metadata": {},
     "output_type": "execute_result"
    }
   ],
   "source": [
    "earliest_morning = df.loc[df['daytime'] == 'morning'].nsmallest(3, 'hour')\n",
    "print(\"Earliest morning:\")\n",
    "earliest_morning"
   ]
  },
  {
   "cell_type": "code",
   "execution_count": 8,
   "metadata": {},
   "outputs": [
    {
     "name": "stdout",
     "output_type": "stream",
     "text": [
      "Latest hours:\n"
     ]
    },
    {
     "data": {
      "text/html": [
       "<div>\n",
       "<style scoped>\n",
       "    .dataframe tbody tr th:only-of-type {\n",
       "        vertical-align: middle;\n",
       "    }\n",
       "\n",
       "    .dataframe tbody tr th {\n",
       "        vertical-align: top;\n",
       "    }\n",
       "\n",
       "    .dataframe thead th {\n",
       "        text-align: right;\n",
       "    }\n",
       "</style>\n",
       "<table border=\"1\" class=\"dataframe\">\n",
       "  <thead>\n",
       "    <tr style=\"text-align: right;\">\n",
       "      <th></th>\n",
       "      <th>datetime</th>\n",
       "      <th>year</th>\n",
       "      <th>month</th>\n",
       "      <th>day</th>\n",
       "      <th>hour</th>\n",
       "      <th>minute</th>\n",
       "      <th>second</th>\n",
       "      <th>daytime</th>\n",
       "    </tr>\n",
       "    <tr>\n",
       "      <th>user</th>\n",
       "      <th></th>\n",
       "      <th></th>\n",
       "      <th></th>\n",
       "      <th></th>\n",
       "      <th></th>\n",
       "      <th></th>\n",
       "      <th></th>\n",
       "      <th></th>\n",
       "    </tr>\n",
       "  </thead>\n",
       "  <tbody>\n",
       "    <tr>\n",
       "      <th>ekaterina</th>\n",
       "      <td>2020-05-14 23:02:11.327532</td>\n",
       "      <td>2020</td>\n",
       "      <td>5</td>\n",
       "      <td>14</td>\n",
       "      <td>23</td>\n",
       "      <td>2</td>\n",
       "      <td>11</td>\n",
       "      <td>evening</td>\n",
       "    </tr>\n",
       "    <tr>\n",
       "      <th>ekaterina</th>\n",
       "      <td>2020-05-14 23:02:14.494985</td>\n",
       "      <td>2020</td>\n",
       "      <td>5</td>\n",
       "      <td>14</td>\n",
       "      <td>23</td>\n",
       "      <td>2</td>\n",
       "      <td>14</td>\n",
       "      <td>evening</td>\n",
       "    </tr>\n",
       "    <tr>\n",
       "      <th>ekaterina</th>\n",
       "      <td>2020-05-14 23:02:15.588808</td>\n",
       "      <td>2020</td>\n",
       "      <td>5</td>\n",
       "      <td>14</td>\n",
       "      <td>23</td>\n",
       "      <td>2</td>\n",
       "      <td>15</td>\n",
       "      <td>evening</td>\n",
       "    </tr>\n",
       "  </tbody>\n",
       "</table>\n",
       "</div>"
      ],
      "text/plain": [
       "                            datetime  year  month  day  hour  minute  second   \n",
       "user                                                                           \n",
       "ekaterina 2020-05-14 23:02:11.327532  2020      5   14    23       2      11  \\\n",
       "ekaterina 2020-05-14 23:02:14.494985  2020      5   14    23       2      14   \n",
       "ekaterina 2020-05-14 23:02:15.588808  2020      5   14    23       2      15   \n",
       "\n",
       "           daytime  \n",
       "user                \n",
       "ekaterina  evening  \n",
       "ekaterina  evening  \n",
       "ekaterina  evening  "
      ]
     },
     "execution_count": 8,
     "metadata": {},
     "output_type": "execute_result"
    }
   ],
   "source": [
    "latest_hours = df.nlargest(3, 'hour')\n",
    "print(\"Latest hours:\")\n",
    "latest_hours"
   ]
  },
  {
   "cell_type": "markdown",
   "metadata": {},
   "source": [
    "## Use the method describe() to get the basic statistics for the columns\n",
    "\n",
    "- to find out what the most popular interval for visiting the page is, calculate the interquartile range for the hour by extracting values from the result of the describe() method and store it in the variable iqr"
   ]
  },
  {
   "cell_type": "code",
   "execution_count": 9,
   "metadata": {},
   "outputs": [
    {
     "name": "stdout",
     "output_type": "stream",
     "text": [
      "Interquartile range for the hour: 9.0\n"
     ]
    }
   ],
   "source": [
    "describe_stats = df.describe()\n",
    "\n",
    "iqr = describe_stats.loc['75%', 'hour'] - describe_stats.loc['25%', 'hour']\n",
    "\n",
    "print(f\"Interquartile range for the hour: {iqr}\")"
   ]
  }
 ],
 "metadata": {
  "kernelspec": {
   "display_name": "Python 3",
   "language": "python",
   "name": "python3"
  },
  "language_info": {
   "codemirror_mode": {
    "name": "ipython",
    "version": 3
   },
   "file_extension": ".py",
   "mimetype": "text/x-python",
   "name": "python",
   "nbconvert_exporter": "python",
   "pygments_lexer": "ipython3",
   "version": "3.10.12"
  }
 },
 "nbformat": 4,
 "nbformat_minor": 2
}
