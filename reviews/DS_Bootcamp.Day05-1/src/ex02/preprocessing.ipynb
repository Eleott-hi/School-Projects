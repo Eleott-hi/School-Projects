{
 "cells": [
  {
   "cell_type": "markdown",
   "metadata": {},
   "source": [
    "# Exercise 02 : Preprocessing"
   ]
  },
  {
   "cell_type": "code",
   "execution_count": 1,
   "metadata": {},
   "outputs": [],
   "source": [
    "import pandas as pd"
   ]
  },
  {
   "cell_type": "markdown",
   "metadata": {},
   "source": [
    "## Read the CSV file and make ID the index column"
   ]
  },
  {
   "cell_type": "code",
   "execution_count": 2,
   "metadata": {},
   "outputs": [],
   "source": [
    "df = pd.read_csv('../auto.csv', index_col='ID')"
   ]
  },
  {
   "cell_type": "markdown",
   "metadata": {},
   "source": [
    "## Count the number of observations using the method count()"
   ]
  },
  {
   "cell_type": "code",
   "execution_count": 3,
   "metadata": {},
   "outputs": [
    {
     "data": {
      "text/plain": [
       "931"
      ]
     },
     "execution_count": 3,
     "metadata": {},
     "output_type": "execute_result"
    }
   ],
   "source": [
    "df.count().max()"
   ]
  },
  {
   "cell_type": "markdown",
   "metadata": {},
   "source": [
    "## Drop the duplicates, taking into account only the following columns: CarNumber, Make_n_model, Fines\n",
    "\n",
    "- between the two equal observations, you need to choose the last\n",
    "- check the number of observations again"
   ]
  },
  {
   "cell_type": "code",
   "execution_count": 4,
   "metadata": {},
   "outputs": [
    {
     "data": {
      "text/plain": [
       "725"
      ]
     },
     "execution_count": 4,
     "metadata": {},
     "output_type": "execute_result"
    }
   ],
   "source": [
    "df.drop_duplicates(subset=['CarNumber', 'Make_n_model', 'Fines'], keep='last', inplace=True)\n",
    "\n",
    "df.count().max()"
   ]
  },
  {
   "cell_type": "markdown",
   "metadata": {},
   "source": [
    "## Work with missing values\n",
    "\n",
    "- check how many values are missing from each column\n",
    "- drop all the columns with over 500 missing values using the argument thresh, check how many missing values are in each column\n",
    "- replace all the missing values in the Refund column with the previous value in that column for that cell, use the argument method, check how many values are missing from each column\n",
    "- replace all the missing values in the Fines column with the mean value of this column (exclude NA/null values when computing the mean value), check how many values are missing from each column"
   ]
  },
  {
   "cell_type": "code",
   "execution_count": 5,
   "metadata": {},
   "outputs": [
    {
     "name": "stdout",
     "output_type": "stream",
     "text": [
      "Missing values before:\n",
      "CarNumber         0\n",
      "Make_n_model      0\n",
      "Refund           12\n",
      "Fines            60\n",
      "History         660\n",
      "dtype: int64\n",
      "Missing values after drop:\n",
      "CarNumber        0\n",
      "Make_n_model     0\n",
      "Refund          12\n",
      "Fines           60\n",
      "dtype: int64\n",
      "Missing values after Refund fill:\n",
      "CarNumber        0\n",
      "Make_n_model     0\n",
      "Refund           0\n",
      "Fines           60\n",
      "dtype: int64\n",
      "Missing values after Fines fill:\n",
      "CarNumber       0\n",
      "Make_n_model    0\n",
      "Refund          0\n",
      "Fines           0\n",
      "dtype: int64\n"
     ]
    }
   ],
   "source": [
    "missing_values_before = df.isnull().sum()\n",
    "print(f\"Missing values before:\\n{missing_values_before}\")\n",
    "\n",
    "# Drop columns with over 500 missing values\n",
    "df.dropna(thresh=len(df) - 500, axis=1, inplace=True)\n",
    "print(f\"Missing values after drop:\\n{df.isnull().sum()}\")\n",
    "\n",
    "# Replace missing values in Refund column with previous value\n",
    "df['Refund'].fillna(method='ffill', inplace=True)\n",
    "print(f\"Missing values after Refund fill:\\n{df.isnull().sum()}\")\n",
    "\n",
    "# Replace missing values in Fines column with mean value\n",
    "df['Fines'].fillna(df['Fines'].mean(), inplace=True)\n",
    "print(f\"Missing values after Fines fill:\\n{df.isnull().sum()}\")"
   ]
  },
  {
   "cell_type": "markdown",
   "metadata": {},
   "source": [
    "## Split and parse the make and model\n",
    "\n",
    "- use the method apply both for splitting and for extracting the values to the new columns Make and Model\n",
    "- drop the column Make_n_model\n",
    "- save the dataframe in the JSON file auto.json"
   ]
  },
  {
   "cell_type": "code",
   "execution_count": 6,
   "metadata": {},
   "outputs": [],
   "source": [
    "# Split and parse Make and Model\n",
    "df[['Make', 'Model']] = df['Make_n_model'].str.split(' ', n=1, expand=True)\n",
    "\n",
    "# Drop the column Make_n_model\n",
    "df.drop(columns='Make_n_model', inplace=True)\n",
    "\n",
    "# Save the dataframe to a JSON file\n",
    "df.reset_index().to_json('auto.json', orient='records')"
   ]
  },
  {
   "cell_type": "code",
   "execution_count": 7,
   "metadata": {},
   "outputs": [
    {
     "data": {
      "text/html": [
       "<div>\n",
       "<style scoped>\n",
       "    .dataframe tbody tr th:only-of-type {\n",
       "        vertical-align: middle;\n",
       "    }\n",
       "\n",
       "    .dataframe tbody tr th {\n",
       "        vertical-align: top;\n",
       "    }\n",
       "\n",
       "    .dataframe thead th {\n",
       "        text-align: right;\n",
       "    }\n",
       "</style>\n",
       "<table border=\"1\" class=\"dataframe\">\n",
       "  <thead>\n",
       "    <tr style=\"text-align: right;\">\n",
       "      <th></th>\n",
       "      <th>CarNumber</th>\n",
       "      <th>Refund</th>\n",
       "      <th>Fines</th>\n",
       "      <th>Make</th>\n",
       "      <th>Model</th>\n",
       "    </tr>\n",
       "    <tr>\n",
       "      <th>ID</th>\n",
       "      <th></th>\n",
       "      <th></th>\n",
       "      <th></th>\n",
       "      <th></th>\n",
       "      <th></th>\n",
       "    </tr>\n",
       "  </thead>\n",
       "  <tbody>\n",
       "    <tr>\n",
       "      <th>0</th>\n",
       "      <td>Y163O8161RUS</td>\n",
       "      <td>2.0</td>\n",
       "      <td>3200.000000</td>\n",
       "      <td>Ford</td>\n",
       "      <td>Focus</td>\n",
       "    </tr>\n",
       "    <tr>\n",
       "      <th>1</th>\n",
       "      <td>E432XX77RUS</td>\n",
       "      <td>1.0</td>\n",
       "      <td>6500.000000</td>\n",
       "      <td>Toyota</td>\n",
       "      <td>Camry</td>\n",
       "    </tr>\n",
       "    <tr>\n",
       "      <th>2</th>\n",
       "      <td>7184TT36RUS</td>\n",
       "      <td>1.0</td>\n",
       "      <td>2100.000000</td>\n",
       "      <td>Ford</td>\n",
       "      <td>Focus</td>\n",
       "    </tr>\n",
       "    <tr>\n",
       "      <th>3</th>\n",
       "      <td>X582HE161RUS</td>\n",
       "      <td>2.0</td>\n",
       "      <td>2000.000000</td>\n",
       "      <td>Ford</td>\n",
       "      <td>Focus</td>\n",
       "    </tr>\n",
       "    <tr>\n",
       "      <th>5</th>\n",
       "      <td>92918M178RUS</td>\n",
       "      <td>1.0</td>\n",
       "      <td>5700.000000</td>\n",
       "      <td>Ford</td>\n",
       "      <td>Focus</td>\n",
       "    </tr>\n",
       "    <tr>\n",
       "      <th>...</th>\n",
       "      <td>...</td>\n",
       "      <td>...</td>\n",
       "      <td>...</td>\n",
       "      <td>...</td>\n",
       "      <td>...</td>\n",
       "    </tr>\n",
       "    <tr>\n",
       "      <th>926</th>\n",
       "      <td>Y163O8161RUS</td>\n",
       "      <td>2.0</td>\n",
       "      <td>1600.000000</td>\n",
       "      <td>Ford</td>\n",
       "      <td>Focus</td>\n",
       "    </tr>\n",
       "    <tr>\n",
       "      <th>927</th>\n",
       "      <td>M0309X197RUS</td>\n",
       "      <td>1.0</td>\n",
       "      <td>22300.000000</td>\n",
       "      <td>Ford</td>\n",
       "      <td>Focus</td>\n",
       "    </tr>\n",
       "    <tr>\n",
       "      <th>928</th>\n",
       "      <td>O673E8197RUS</td>\n",
       "      <td>2.0</td>\n",
       "      <td>600.000000</td>\n",
       "      <td>Ford</td>\n",
       "      <td>Focus</td>\n",
       "    </tr>\n",
       "    <tr>\n",
       "      <th>929</th>\n",
       "      <td>8610T8154RUS</td>\n",
       "      <td>1.0</td>\n",
       "      <td>2000.000000</td>\n",
       "      <td>Ford</td>\n",
       "      <td>Focus</td>\n",
       "    </tr>\n",
       "    <tr>\n",
       "      <th>930</th>\n",
       "      <td>H419XE197RUS</td>\n",
       "      <td>2.0</td>\n",
       "      <td>8594.586466</td>\n",
       "      <td>Toyota</td>\n",
       "      <td>Corolla</td>\n",
       "    </tr>\n",
       "  </tbody>\n",
       "</table>\n",
       "<p>725 rows × 5 columns</p>\n",
       "</div>"
      ],
      "text/plain": [
       "        CarNumber  Refund         Fines    Make    Model\n",
       "ID                                                      \n",
       "0    Y163O8161RUS     2.0   3200.000000    Ford    Focus\n",
       "1     E432XX77RUS     1.0   6500.000000  Toyota    Camry\n",
       "2     7184TT36RUS     1.0   2100.000000    Ford    Focus\n",
       "3    X582HE161RUS     2.0   2000.000000    Ford    Focus\n",
       "5    92918M178RUS     1.0   5700.000000    Ford    Focus\n",
       "..            ...     ...           ...     ...      ...\n",
       "926  Y163O8161RUS     2.0   1600.000000    Ford    Focus\n",
       "927  M0309X197RUS     1.0  22300.000000    Ford    Focus\n",
       "928  O673E8197RUS     2.0    600.000000    Ford    Focus\n",
       "929  8610T8154RUS     1.0   2000.000000    Ford    Focus\n",
       "930  H419XE197RUS     2.0   8594.586466  Toyota  Corolla\n",
       "\n",
       "[725 rows x 5 columns]"
      ]
     },
     "execution_count": 7,
     "metadata": {},
     "output_type": "execute_result"
    }
   ],
   "source": [
    "df"
   ]
  }
 ],
 "metadata": {
  "kernelspec": {
   "display_name": "Python 3",
   "language": "python",
   "name": "python3"
  },
  "language_info": {
   "codemirror_mode": {
    "name": "ipython",
    "version": 3
   },
   "file_extension": ".py",
   "mimetype": "text/x-python",
   "name": "python",
   "nbconvert_exporter": "python",
   "pygments_lexer": "ipython3",
   "version": "3.10.12"
  }
 },
 "nbformat": 4,
 "nbformat_minor": 2
}
